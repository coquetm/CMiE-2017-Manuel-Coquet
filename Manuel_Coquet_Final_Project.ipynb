{
 "cells": [
  {
   "cell_type": "code",
   "execution_count": 1,
   "metadata": {
    "collapsed": false
   },
   "outputs": [
    {
     "data": {
      "text/plain": [
       "Plots.GRBackend()"
      ]
     },
     "execution_count": 1,
     "metadata": {},
     "output_type": "execute_result"
    }
   ],
   "source": [
    "using JuMP, Ipopt, Plots, DataFrames\n",
    "gr()"
   ]
  },
  {
   "cell_type": "markdown",
   "metadata": {},
   "source": [
    "# AC Power Flow algorithm"
   ]
  },
  {
   "cell_type": "markdown",
   "metadata": {},
   "source": [
    "## AC Power Flow analysis\n",
    "An alternating current power-flow model is a model used in electrical engineering to analyze power grids. It provides a nonlinear system which describes the energy flow through each transmission line. The goal of a power-flow study is to obtain complete voltages angle and magnitude information for each bus in a power system for specified load and generator real power and voltage conditions.  \n",
    "\n",
    "Once this information is known, real and reactive power flow on each branch as well as generator reactive power output can be analytically determined. Power-flow or load-flow studies are important for planning future expansion of power systems as well as in determining the best operation of existing systems. "
   ]
  },
  {
   "cell_type": "markdown",
   "metadata": {},
   "source": [
    "## Problem description\n",
    "- Consider a network with 5 buses that forms a cycle (i.e., the lines are (1,2), (2,3), (3,4),(4,5) and (5,1)).\n",
    "- Assume that Bus 1 is a slack, Bus 2 is PV (generator) and Buses 3-5 are PQ (loads).\n",
    "- Assume that the resistance and reactance of each line are both equal to 1.\n",
    "\n",
    "Repeat the following lines 1-3 several times (say 100 times):\n",
    "- 1: Generate a random vector V such that all voltage magnitudes are somehow close to 1 and all voltage angles are close to 0, and that the phase at the slack bus is zero.\n",
    "- 2: Based on the random vector of voltages V, compute the loads at the PQ buses, the P and |V| values at the PV buses, and |V| at the slack bus. (constraints/input data needed to run the model)\n",
    "- 3: Use the measurement data to solve the power flow problem in two ways: (1) Newton's Mehtod, (2) JuMP \n",
    "- 4: Declare a success if the obtained solution matches the original random state V. Compute how many times each of the above two methods was successful for different values of voltage angles (sensitivity analysis).\n",
    "\n",
    "#### NOTE: The problem does not always have a solution, especially at large angles"
   ]
  },
  {
   "cell_type": "markdown",
   "metadata": {},
   "source": [
    "## Mathematical Formulation\n",
    "The Power flow problem requires us to determine voltages angle and magnitude information for each bus in a power system for specified load and generator real power and voltage conditions:\n",
    "- For generator buses (also called PV) - we are given Pᵢ & |Vᵢ| -> need to solve for θᵢ & Qᵢ\n",
    "- For load buses (also called PQ) - we are given Pᵢ & Qᵢ -> need to solve for θᵢ & |Vᵢ|\n",
    "- For the slack bus (used to balance other buses) - we are given |Vᵢ| & θᵢ -> need to solve for Pᵢ & Qᵢ\n",
    "\n",
    "Therefore our problem can be stated as:\n",
    "- Known parameters: V₁, θ₁, P₂, V₂, P₃, Q₃, P₄, Q₄, P₅, Q₅\n",
    "- List of unknowns: P₁, Q₁, Q₂, θ₂, V₃, θ₃, V₄, θ₄, V₅, θ₅\n",
    "- Need to write equations P₂, P₃, Q₃, P₄, Q₄, P₅, Q₅\n",
    "\n",
    "Where:\n",
    "- Pᵢ = ∑|Vᵢ||Vⱼ|[Gᵢⱼ cos(θᵢⱼ) + Bᵢⱼ sin(θᵢⱼ)] \n",
    "- Qᵢ = ∑|Vᵢ||Vⱼ|[Gᵢⱼ cos(θᵢⱼ) - Bᵢⱼ sin(θᵢⱼ)]\n",
    "\n",
    "And:\n",
    "- θᵢⱼ = θᵢ - θⱼ\n",
    "- Gᵢⱼ = Real(Yᵢⱼ) # admittance matrix\n",
    "- Bᵢⱼ = Imaginary(Yᵢⱼ)\n",
    "- Yᵢⱼ is the inverse of the impedance matrix which depends on the resistance and reactance of power lines\n",
    "\n",
    "I will use the equations in terms of vector x to avoid confusion\n",
    "x = [θ₂ θ₃ θ₄ θ₅ V₃ V₄ V₅]"
   ]
  },
  {
   "cell_type": "markdown",
   "metadata": {},
   "source": [
    "## Newton's Method"
   ]
  },
  {
   "cell_type": "markdown",
   "metadata": {},
   "source": [
    "We will apply a multivariable Newton's method to solve the Non-linear system of power equations according to the following algorithm:\n",
    "\n",
    "x = [θ₂, θ₃, θ₄, θ₅, V₃, V₄, V₅]\n",
    "\n",
    "fx = [P₂(x)-P0₂ , P₃(x)-P0₃ , P₄(x)-P0₄ , P₅(x)-P0₅ , Q₃(x)-Q0₃ , Q₄(x)-Q0₄ , Q₅(x)-Q0₅]\n",
    "\n",
    "J = δfxᵢ / δxⱼ\n",
    "\n",
    "while ||fx(xⁿ)|| < ϵ\n",
    "\n",
    "    xⁿ⁺¹ = xⁿ - J(xⁿ)⁻¹f(xⁿ)\n",
    "    xⁿ = xⁿ⁺¹\n",
    "    \n",
    "end"
   ]
  },
  {
   "cell_type": "markdown",
   "metadata": {},
   "source": [
    "### Constructing the Admittance Matrix"
   ]
  },
  {
   "cell_type": "code",
   "execution_count": 2,
   "metadata": {
    "collapsed": false
   },
   "outputs": [
    {
     "data": {
      "text/plain": [
       "5×5 Array{Complex{Float64},2}:\n",
       "  1.0-1.0im  -0.5+0.5im   0.0+0.0im   0.0+0.0im  -0.5+0.5im\n",
       " -0.5+0.5im   1.0-1.0im  -0.5+0.5im   0.0+0.0im   0.0+0.0im\n",
       "  0.0+0.0im  -0.5+0.5im   1.0-1.0im  -0.5+0.5im   0.0+0.0im\n",
       "  0.0+0.0im   0.0+0.0im  -0.5+0.5im   1.0-1.0im  -0.5+0.5im\n",
       " -0.5+0.5im   0.0+0.0im   0.0+0.0im  -0.5+0.5im   1.0-1.0im"
      ]
     },
     "execution_count": 2,
     "metadata": {},
     "output_type": "execute_result"
    }
   ],
   "source": [
    "# Since we are not changing resistance or reactance, the admittance matrix will always be constant\n",
    "\n",
    "Zij = zeros(5,5)\n",
    "Zij = complex(Zij)\n",
    "Zij[1,2] = 1+1im; Zij[2,1] = 1+1im;\n",
    "Zij[2,3] = 1+1im; Zij[3,2] = 1+1im;\n",
    "Zij[3,4] = 1+1im; Zij[4,3] = 1+1im;\n",
    "Zij[4,5] = 1+1im; Zij[5,4] = 1+1im;\n",
    "Zij[5,1] = 1+1im; Zij[1,5] = 1+1im;\n",
    "Y = zeros(5,5);\n",
    "Y = complex(Y)\n",
    "for i=1:5, j=1:5\n",
    "    if i != j\n",
    "        if Zij[i,j] != 0\n",
    "            Y[i,j] = -Zij[i,j]^-1;\n",
    "        else\n",
    "            Y[i,j] = 0;\n",
    "        end\n",
    "    end\n",
    "end\n",
    "for i = 1:5\n",
    "    Y[i,i] = -sum(Y[i,:]);\n",
    "end\n",
    "Y"
   ]
  },
  {
   "cell_type": "markdown",
   "metadata": {},
   "source": [
    "### Define a function to evaluate fx (active and reactive power)"
   ]
  },
  {
   "cell_type": "code",
   "execution_count": 3,
   "metadata": {
    "collapsed": false
   },
   "outputs": [
    {
     "data": {
      "text/plain": [
       "feval (generic function with 1 method)"
      ]
     },
     "execution_count": 3,
     "metadata": {},
     "output_type": "execute_result"
    }
   ],
   "source": [
    "function feval(Y, V; f0 = zeros(7))\n",
    "\n",
    "function f(x::Vector)\n",
    "fx = zeros(7)\n",
    "θ₁ = 0; #slack reference bus\n",
    "fx[1] = V[2]*V[1]*(real(Y[2,1])*cos(x[1]-θ₁)+imag(Y[2,1])*sin(x[1]-θ₁))+ V[2]*V[2]*real(Y[2,2])+\n",
    "        V[2]*x[5]*(real(Y[2,3])*cos(x[1]-x[2])+imag(Y[2,3])*sin(x[1]-x[2])) - f0[1]\n",
    "fx[2] = x[5]*V[2]*(real(Y[3,2])*cos(x[2]-x[1])+imag(Y[3,2])*sin(x[2]-x[1]))+ x[5]*x[5]*real(Y[3,3])+\n",
    "        x[5]*x[6]*(real(Y[3,4])*cos(x[2]-x[3])+imag(Y[3,4])*sin(x[2]-x[3])) - f0[2]\n",
    "fx[3] = x[6]*x[5]*(real(Y[4,3])*cos(x[3]-x[2])+imag(Y[4,3])*sin(x[3]-x[2]))+ x[6]*x[6]*real(Y[4,4])+\n",
    "        x[6]*x[7]*(real(Y[4,5])*cos(x[3]-x[4])+imag(Y[4,5])*sin(x[3]-x[4])) - f0[3]\n",
    "fx[4] = x[7]*x[6]*(real(Y[5,4])*cos(x[4]-x[3])+imag(Y[5,4])*sin(x[4]-x[3]))+ x[7]*x[7]*real(Y[5,5])+\n",
    "        x[7]*V[1]*(real(Y[5,1])*cos(x[4]-θ₁)+imag(Y[5,4])*sin(x[4]-θ₁)) - f0[4]\n",
    "fx[5] = x[5]*V[2]*(real(Y[3,2])*sin(x[2]-x[1])-imag(Y[3,2])*cos(x[2]-x[1])) -x[5]*x[5]*imag(Y[3,3])+\n",
    "        x[5]*x[6]*(real(Y[3,4])*sin(x[2]-x[3])-imag(Y[3,4])*cos(x[2]-x[3])) - f0[5]\n",
    "fx[6] = x[6]*x[5]*(real(Y[4,3])*sin(x[3]-x[2])-imag(Y[4,3])*cos(x[3]-x[2]))-x[6]*x[6]*imag(Y[4,4])+\n",
    "        x[6]*x[7]*(real(Y[4,5])*sin(x[3]-x[4])-imag(Y[4,5])*cos(x[3]-x[4])) - f0[6]\n",
    "fx[7] = x[7]*x[6]*(real(Y[5,4])*sin(x[4]-x[3])-imag(Y[5,4])*cos(x[4]-x[3]))-x[7]*x[7]*imag(Y[5,5])+\n",
    "        x[7]*V[1]*(real(Y[5,1])*sin(x[4]-θ₁)-imag(Y[5,1])*cos(x[4]-θ₁)) - f0[7]\n",
    "return fx\n",
    "end\n",
    "    \n",
    "end"
   ]
  },
  {
   "cell_type": "markdown",
   "metadata": {},
   "source": [
    "### Define a function to evaluate Jacobian"
   ]
  },
  {
   "cell_type": "markdown",
   "metadata": {},
   "source": [
    "#### I did the analytical Jacobian, tried to use autodiff but i couldn't make it work"
   ]
  },
  {
   "cell_type": "code",
   "execution_count": 4,
   "metadata": {
    "collapsed": false
   },
   "outputs": [
    {
     "data": {
      "text/plain": [
       "Jeval (generic function with 1 method)"
      ]
     },
     "execution_count": 4,
     "metadata": {},
     "output_type": "execute_result"
    }
   ],
   "source": [
    "function Jeval(Y, V)\n",
    "\n",
    "function J(x::Vector)\n",
    "θ₁ = 0 #slack reference bus\n",
    "df1x1 = V[2]*V[1]*(-real(Y[2,1])*sin(x[1]-θ₁)+imag(Y[2,1])*cos(x[1]-θ₁))+\n",
    "            V[2]*x[5]*(-real(Y[2,3])*sin(x[1]-x[2])+imag(Y[2,3])*cos(x[1]-x[2]))\n",
    "df1x2 = V[2]*x[5]*(real(Y[2,3])*sin(x[1]-x[2])-imag(Y[2,3])*cos(x[1]-x[2]))\n",
    "df1x3 = 0\n",
    "df1x4 = 0\n",
    "df1x5 = V[2]*(real(Y[2,3])*cos(x[1]-x[2])+imag(Y[2,3])*sin(x[1]-x[2]))\n",
    "df1x6 = 0\n",
    "df1x7 = 0\n",
    "df2x1 = x[5]*V[2]*(real(Y[3,2])*sin(x[2]-x[1])-imag(Y[3,2])*cos(x[2]-x[1]))\n",
    "df2x2 = x[5]*V[2]*(-real(Y[3,2])*sin(x[2]-x[1])+imag(Y[3,2])*cos(x[2]-x[1]))+\n",
    "            x[5]*x[6]*(-real(Y[3,4])*sin(x[2]-x[3])+imag(Y[3,4])*cos(x[2]-x[3]))\n",
    "df2x3 = x[5]*x[6]*(real(Y[3,4])*sin(x[2]-x[3])-imag(Y[3,4])*cos(x[2]-x[3]))\n",
    "df2x4 = 0;\n",
    "df2x5 = V[2]*(real(Y[3,2])*cos(x[2]-x[1])+imag(Y[3,2])*sin(x[2]-x[1]))+\n",
    "            2*x[5]*real(Y[3,3])+x[6]*(real(Y[3,4])*cos(x[2]-x[3])+imag(Y[3,4])*sin(x[2]-x[3]))\n",
    "df2x6 = x[5]*(real(Y[3,4])*cos(x[2]-x[3])+imag(Y[3,4])*sin(x[2]-x[3]))\n",
    "df2x7 = 0\n",
    "df3x1 = 0\n",
    "df3x2 = x[6]*x[5]*(real(Y[4,3])*sin(x[3]-x[2])-imag(Y[4,3])*cos(x[3]-x[2]))\n",
    "df3x3 = x[6]*x[5]*(-real(Y[4,3])*sin(x[3]-x[2])+imag(Y[4,3])*cos(x[3]-x[2]))+\n",
    "            x[6]*x[7]*(-real(Y[4,5])*sin(x[3]-x[4])+imag(Y[4,5])*cos(x[3]-x[4]))\n",
    "df3x4 = x[6]*x[7]*(real(Y[4,5])*sin(x[3]-x[4])-imag(Y[4,5])*cos(x[3]-x[4]))\n",
    "df3x5 = x[6]*(real(Y[4,3])*cos(x[3]-x[2])+imag(Y[4,3])*sin(x[3]-x[2]))\n",
    "df3x6 = x[5]*(real(Y[4,3])*cos(x[3]-x[2])+imag(Y[4,3])*sin(x[3]-x[2]))+\n",
    "            2*x[6]*real(Y[4,4])+x[7]*(real(Y[4,5])*cos(x[3]-x[4])+imag(Y[4,5])*sin(x[3]-x[4]))\n",
    "df3x7 = x[6]*(real(Y[4,5])*cos(x[3]-x[4])+imag(Y[4,5])*sin(x[3]-x[4]))\n",
    "df4x1 = 0\n",
    "df4x2 = 0\n",
    "df4x3 = x[7]*x[6]*(real(Y[5,4])*sin(x[4]-x[3])-imag(Y[5,4])*cos(x[4]-x[3]))\n",
    "df4x4 = x[7]*x[6]*(-real(Y[5,4])*sin(x[4]-x[3])+imag(Y[5,4])*cos(x[4]-x[3]))+\n",
    "            x[7]*V[1]*(-real(Y[5,1])*sin(x[4]-θ₁)+imag(Y[5,1])*cos(x[4]-θ₁))\n",
    "df4x5 = 0\n",
    "df4x6 = x[7]*(real(Y[5,4])*cos(x[4]-x[3])+imag(Y[5,4])*sin(x[4]-x[3]))\n",
    "df4x7 = x[6]*(real(Y[5,4])*cos(x[4]-x[3])+imag(Y[5,4])*sin(x[4]-x[3]))+\n",
    "            2*x[7]*real(Y[5,5])+V[1]*(real(Y[5,1])*cos(x[4]-θ₁)+imag(Y[5,1])*sin(x[4]-θ₁))\n",
    "df5x1 = x[5]*V[2]*(-real(Y[3,2])*cos(x[2]-x[1])-imag(Y[3,2])*sin(x[2]-x[1]))\n",
    "df5x2 = x[5]*V[2]*(real(Y[3,2])*cos(x[2]-x[1])+imag(Y[3,2])*sin(x[2]-x[1]))+\n",
    "                        x[5]*x[6]*(real(Y[3,4])*cos(x[2]-x[3])+imag(Y[3,4])*sin(x[2]-x[3]))\n",
    "df5x3 = x[5]*x[6]*(-real(Y[3,4])*cos(x[2]-x[3])-imag(Y[3,4])*sin(x[2]-x[3]))\n",
    "df5x4 = 0;\n",
    "df5x5 = V[2]*(real(Y[3,2])*sin(x[2]-x[1])-imag(Y[3,2])*cos(x[2]-x[1]))-\n",
    "            2*x[5]*imag(Y[3,3])+x[6]*(real(Y[3,4])*sin(x[2]-x[3])-imag(Y[3,4])*cos(x[2]-x[3]))\n",
    "df5x6 = x[5]*(real(Y[3,4])*sin(x[2]-x[3])-imag(Y[3,4])*cos(x[2]-x[3]))\n",
    "df5x7 = 0\n",
    "df6x1 = 0\n",
    "df6x2 = x[6]*x[5]*(-real(Y[4,3])*cos(x[3]-x[2])-imag(Y[4,3])*sin(x[3]-x[2]))\n",
    "df6x3 = x[6]*x[5]*(real(Y[4,3])*cos(x[3]-x[2])+imag(Y[4,3])*sin(x[3]-x[2]))+\n",
    "            x[6]*x[7]*(real(Y[4,5])*cos(x[3]-x[4])+imag(Y[4,5])*sin(x[3]-x[4]))\n",
    "df6x4 = x[6]*x[7]*(-real(Y[4,5])*cos(x[3]-x[4])-imag(Y[4,5])*sin(x[3]-x[4]))\n",
    "df6x5 = x[6]*(real(Y[4,3])*sin(x[3]-x[2])-imag(Y[4,3])*cos(x[3]-x[2]))\n",
    "df6x6 = x[5]*(real(Y[4,3])*sin(x[3]-x[2])-imag(Y[4,3])*cos(x[3]-x[2]))-\n",
    "            2*x[6]*imag(Y[4,4])+x[7]*(real(Y[4,5])*sin(x[3]-x[4])-imag(Y[4,5])*cos(x[3]-x[4]))\n",
    "df6x7 = x[6]*(real(Y[4,5])*sin(x[3]-x[4])-imag(Y[4,5])*cos(x[3]-x[4]))\n",
    "df7x1 = 0\n",
    "df7x2 = 0\n",
    "df7x3 = x[7]*x[6]*(-real(Y[5,4])*cos(x[4]-x[3])-imag(Y[5,4])*sin(x[4]-x[3]))\n",
    "df7x4 = x[7]*x[6]*(real(Y[5,4])*cos(x[4]-x[3])+imag(Y[5,4])*sin(x[4]-x[3]))+\n",
    "            x[7]*V[1]*(real(Y[5,1])*cos(x[4]-θ₁)+imag(Y[5,1])*sin(x[4]-θ₁))\n",
    "df7x5 = 0\n",
    "df7x6 = x[7]*(real(Y[5,4])*sin(x[4]-x[3])-imag(Y[5,4])*cos(x[4]-x[3]))\n",
    "df7x7 = x[6]*(real(Y[5,4])*sin(x[4]-x[3])-imag(Y[5,4])*cos(x[4]-x[3]))-\n",
    "            2*x[7]*imag(Y[5,5])+V[1]*(real(Y[5,1])*sin(x[4]-θ₁)-imag(Y[5,1])*cos(x[4]-θ₁))\n",
    "Jx = [\n",
    "    df1x1 df1x2 df1x3 df1x4 df1x5 df1x6 df1x7;\n",
    "    df2x1 df2x2 df2x3 df2x4 df2x5 df2x6 df2x7;\n",
    "    df3x1 df3x2 df3x3 df3x4 df3x5 df3x6 df3x7;\n",
    "    df4x1 df4x2 df4x3 df4x4 df4x5 df4x6 df4x7;\n",
    "    df5x1 df5x2 df5x3 df5x4 df5x5 df5x6 df5x7;\n",
    "    df6x1 df6x2 df6x3 df6x4 df6x5 df6x6 df6x7;\n",
    "    df7x1 df7x2 df7x3 df7x4 df7x5 df7x6 df7x7;\n",
    "]\n",
    "return Jx\n",
    "                                \n",
    "end\n",
    "\n",
    "end"
   ]
  },
  {
   "cell_type": "markdown",
   "metadata": {},
   "source": [
    "### Compute the constraints at the PQ & PV buses and the slack bus [P0 & Q0]"
   ]
  },
  {
   "cell_type": "code",
   "execution_count": 5,
   "metadata": {
    "collapsed": false
   },
   "outputs": [
    {
     "data": {
      "text/plain": [
       "0"
      ]
     },
     "execution_count": 5,
     "metadata": {},
     "output_type": "execute_result"
    }
   ],
   "source": [
    "V = 0.9+0.2*rand(5,1) # random number between 0.9-1.1\n",
    "θ = (-2+2*2*randn(5,1))*(π/180) # random angle between -2º to 2º\n",
    "V[1] = 1 # slack bus voltage magnitude (reference)\n",
    "θ[1] = 0 # slack bus voltage angle (reference)"
   ]
  },
  {
   "cell_type": "code",
   "execution_count": 6,
   "metadata": {
    "collapsed": false
   },
   "outputs": [
    {
     "ename": "LoadError",
     "evalue": "UndefVarError: x_true not defined",
     "output_type": "error",
     "traceback": [
      "UndefVarError: x_true not defined",
      ""
     ]
    }
   ],
   "source": [
    "f0 = feval(Y,V) # generates a function to evaluate power flows in terms of x\n",
    "constraints = f0(x_true) # computes constraints based on initial vector x0"
   ]
  },
  {
   "cell_type": "markdown",
   "metadata": {
    "collapsed": false
   },
   "source": [
    "### Solution with Newton's algorithm"
   ]
  },
  {
   "cell_type": "code",
   "execution_count": 7,
   "metadata": {
    "collapsed": false
   },
   "outputs": [
    {
     "data": {
      "text/plain": [
       "PF_newton (generic function with 1 method)"
      ]
     },
     "execution_count": 7,
     "metadata": {},
     "output_type": "execute_result"
    }
   ],
   "source": [
    "function PF_newton(feval, Jeval, V, θ, Y; x0 = [0,0,0,0,1,1,1],tol = 1e-9, xtol = 1e-4, max_iter = 15)\n",
    "\n",
    "x_true = [θ[2]; θ[3]; θ[4]; θ[5]; V[3]; V[4]; V[5]] # original x vector (angles in radians)\n",
    "    \n",
    "f0 = feval(Y,V) # generates a function to evaluate power flows in terms of x\n",
    "constraints = f0(x_true) # computes constraints based on initial vector x0\n",
    "\n",
    "# compute new fx function incorporating constraints and Jacobian\n",
    "fx = feval(Y,V, f0 = constraints)\n",
    "Jx = Jeval(Y,V)\n",
    "\n",
    "#initialize algorithm\n",
    "x = x0\n",
    "\n",
    "for i = 1:max_iter\n",
    "    xn = x - Jx(x)\\fx(x)\n",
    "    x = xn\n",
    "\n",
    "# Was a solution found?\n",
    "if sum(fx(x).^2) < tol\n",
    "    break\n",
    "end\n",
    "    \n",
    "end\n",
    "\n",
    "# Is it the correct soultion? It is possible to have more than 1 local solution\n",
    "if sum((x-x_true).^2) < xtol\n",
    "    success_newt = true\n",
    "else\n",
    "    success_newt = false\n",
    "end\n",
    "\n",
    "    return success_newt, x\n",
    "end"
   ]
  },
  {
   "cell_type": "code",
   "execution_count": 8,
   "metadata": {
    "collapsed": false
   },
   "outputs": [
    {
     "data": {
      "text/plain": [
       "(true,[-0.0612468,-0.00891996,0.0209283,0.0493972,1.07342,0.972637,0.919865])"
      ]
     },
     "execution_count": 8,
     "metadata": {},
     "output_type": "execute_result"
    }
   ],
   "source": [
    "(success_newt, x_newt) = PF_newton(feval, Jeval, V, θ, Y)"
   ]
  },
  {
   "cell_type": "markdown",
   "metadata": {},
   "source": [
    "## Solving with JuMP"
   ]
  },
  {
   "cell_type": "code",
   "execution_count": 9,
   "metadata": {
    "collapsed": false
   },
   "outputs": [
    {
     "data": {
      "text/plain": [
       "PF_JuMP (generic function with 1 method)"
      ]
     },
     "execution_count": 9,
     "metadata": {},
     "output_type": "execute_result"
    }
   ],
   "source": [
    "function PF_JuMP(feval, V, θ, Y; xtol = 1e-4)\n",
    "\n",
    "x_true = [θ[2]; θ[3]; θ[4]; θ[5]; V[3]; V[4]; V[5]] # original x vector (angles in radians)    \n",
    "\n",
    "# JuMP does not recognize real and imaginary functions so I have to define the Real and Imaginary Parts of Y\n",
    "YR = real(Y); YI = imag(Y); θ₁ = 0;\n",
    "    \n",
    "f0 = feval(Y,V) # generates a function to evaluate power flows in terms of x\n",
    "constraints = f0(x_true) # computes constraints based on initial vector x0\n",
    "\n",
    "# Initially Ipopt Solver\n",
    "m = Model(solver=IpoptSolver(print_level=0))\n",
    "# Define our x variable\n",
    "@variable(m, x[1:7])\n",
    "\n",
    "# Set initial guess\n",
    "for i in 1:4\n",
    "    setvalue(x[i], 0.0)\n",
    "end\n",
    "\n",
    "for i in 5:7\n",
    "    setvalue(x[i], 1.0)\n",
    "end\n",
    "\n",
    "\n",
    "@NLobjective(m, Max, 10) #doesn't matter we can write constant\n",
    "\n",
    "# Active Power & Reactive Power non-linear constraints\n",
    "# I must define the constraints explicitly since JuMP does not support vectorized form in constraints ...\n",
    "# If not I would have to define an expression and it becomes too much effort, but it would make it cleaner\n",
    "\n",
    "@NLconstraints(m, begin\n",
    "        \n",
    "    V[2]*V[1]*((YR[2,1])*cos(x[1]-θ₁)+(YI[2,1])*sin(x[1]-θ₁))+ V[2]*V[2]*(YR[2,2])+ \n",
    "        V[2]*x[5]*((YR[2,3])*cos(x[1]-x[2])+(YI[2,3])*sin(x[1]-x[2])) == constraints[1]\n",
    "        \n",
    "    x[5]*V[2]*((YR[3,2])*cos(x[2]-x[1])+(YI[3,2])*sin(x[2]-x[1]))+ x[5]*x[5]*(YR[3,3])+ \n",
    "        x[5]*x[6]*((YR[3,4])*cos(x[2]-x[3])+(YI[3,4])*sin(x[2]-x[3])) == constraints[2]\n",
    "        \n",
    "    x[6]*x[5]*((YR[4,3])*cos(x[3]-x[2])+(YI[4,3])*sin(x[3]-x[2]))+ x[6]*x[6]*(YR[4,4])+ \n",
    "        x[6]*x[7]*((YR[4,5])*cos(x[3]-x[4])+(YI[4,5])*sin(x[3]-x[4])) == constraints[3]\n",
    "    \n",
    "    x[7]*x[6]*((YR[5,4])*cos(x[4]-x[3])+(YI[5,4])*sin(x[4]-x[3]))+ x[7]*x[7]*(YR[5,5])+ \n",
    "        x[7]*V[1]*((YR[5,1])*cos(x[4]-θ₁)+(YI[5,4])*sin(x[4]-θ₁)) == constraints[4]\n",
    "        \n",
    "    x[5]*V[2]*((YR[3,2])*sin(x[2]-x[1])-(YI[3,2])*cos(x[2]-x[1]))- x[5]*x[5]*(YI[3,3])+\n",
    "        x[5]*x[6]*((YR[3,4])*sin(x[2]-x[3])-(YI[3,4])*cos(x[2]-x[3])) == constraints[5]\n",
    "    \n",
    "    x[6]*x[5]*((YR[4,3])*sin(x[3]-x[2])-(YI[4,3])*cos(x[3]-x[2]))- x[6]*x[6]*(YI[4,4])+\n",
    "        x[6]*x[7]*((YR[4,5])*sin(x[3]-x[4])-(YI[4,5])*cos(x[3]-x[4])) == constraints[6]\n",
    "        \n",
    "    x[7]*x[6]*((YR[5,4])*sin(x[4]-x[3])-(YI[5,4])*cos(x[4]-x[3]))- x[7]*x[7]*(YI[5,5])+\n",
    "        x[7]*V[1]*((YR[5,1])*sin(x[4]-θ₁)-(YI[5,1])*cos(x[4]-θ₁)) == constraints[7]\n",
    "        \n",
    "end)\n",
    "\n",
    "solve(m; suppress_warnings=true)\n",
    "x_JuMP = getvalue(x);\n",
    "\n",
    "# Is it the correct soultion? It is possible to have more than 1 local solution\n",
    "if sum((x_JuMP-x_true).^2) < xtol\n",
    "    success_JuMP = true\n",
    "else\n",
    "    success_JuMP = false\n",
    "end\n",
    "    return success_JuMP, x_JuMP\n",
    "end"
   ]
  },
  {
   "cell_type": "code",
   "execution_count": 10,
   "metadata": {
    "collapsed": false
   },
   "outputs": [
    {
     "name": "stdout",
     "output_type": "stream",
     "text": [
      "\n",
      "******************************************************************************\n",
      "This program contains Ipopt, a library for large-scale nonlinear optimization.\n",
      " Ipopt is released as open source code under the Eclipse Public License (EPL).\n",
      "         For more information visit http://projects.coin-or.org/Ipopt\n",
      "******************************************************************************\n",
      "\n"
     ]
    },
    {
     "data": {
      "text/plain": [
       "(true,[-0.061247,-0.00892008,0.0209282,0.0493972,1.07342,0.972637,0.919865])"
      ]
     },
     "execution_count": 10,
     "metadata": {},
     "output_type": "execute_result"
    }
   ],
   "source": [
    "(success_JuMP, x_JuMP) = PF_JuMP(feval, V, θ, Y)"
   ]
  },
  {
   "cell_type": "markdown",
   "metadata": {
    "collapsed": true
   },
   "source": [
    "## Results for one iteration"
   ]
  },
  {
   "cell_type": "code",
   "execution_count": 11,
   "metadata": {
    "collapsed": false
   },
   "outputs": [
    {
     "ename": "LoadError",
     "evalue": "UndefVarError: x_true not defined",
     "output_type": "error",
     "traceback": [
      "UndefVarError: x_true not defined",
      ""
     ]
    }
   ],
   "source": [
    "Results = DataFrame(x_true = x_true, x_newton = x_newt, x_JuMP = x_JuMP)"
   ]
  },
  {
   "cell_type": "code",
   "execution_count": 12,
   "metadata": {
    "collapsed": false
   },
   "outputs": [
    {
     "name": "stdout",
     "output_type": "stream",
     "text": [
      "  0.003689 seconds (3.43 k allocations: 252.500 KB)\n"
     ]
    },
    {
     "data": {
      "text/plain": [
       "(true,[-0.061247,-0.00892008,0.0209282,0.0493972,1.07342,0.972637,0.919865])"
      ]
     },
     "execution_count": 12,
     "metadata": {},
     "output_type": "execute_result"
    }
   ],
   "source": [
    "@time PF_JuMP(feval, V, θ, Y)"
   ]
  },
  {
   "cell_type": "code",
   "execution_count": 13,
   "metadata": {
    "collapsed": false
   },
   "outputs": [
    {
     "name": "stdout",
     "output_type": "stream",
     "text": [
      "  0.000183 seconds (525 allocations: 80.766 KB)\n"
     ]
    },
    {
     "data": {
      "text/plain": [
       "(true,[-0.0612468,-0.00891996,0.0209283,0.0493972,1.07342,0.972637,0.919865])"
      ]
     },
     "execution_count": 13,
     "metadata": {},
     "output_type": "execute_result"
    }
   ],
   "source": [
    "@time PF_newton(feval,Jeval, V, θ, Y) # although it took me ages to do the Jacobian manually"
   ]
  },
  {
   "cell_type": "markdown",
   "metadata": {},
   "source": [
    "## Sensitivity Analysis for voltage angle range"
   ]
  },
  {
   "cell_type": "code",
   "execution_count": 14,
   "metadata": {
    "collapsed": false
   },
   "outputs": [
    {
     "name": "stdout",
     "output_type": "stream",
     "text": [
      "With θ = -5 degrees to 5 degrees\n",
      "Newton success rate is 100\n",
      "JuMP success rate is 100\n",
      "__________________________________________\n",
      "With θ = -15 degrees to 15 degrees\n",
      "Newton success rate is 46\n",
      "JuMP success rate is 32\n",
      "__________________________________________\n",
      "With θ = -25 degrees to 25 degrees\n",
      "Newton success rate is 19\n",
      "JuMP success rate is 12\n",
      "__________________________________________\n",
      "With θ = -35 degrees to 35 degrees\n",
      "Newton success rate is 13\n",
      "JuMP success rate is 5\n",
      "__________________________________________\n",
      "With θ = -45 degrees to 45 degrees\n",
      "Newton success rate is 5\n",
      "JuMP success rate is 0\n",
      "__________________________________________\n"
     ]
    }
   ],
   "source": [
    "for i = 5:10:45\n",
    "    \n",
    "θ_val = i;\n",
    "s_newt = 0;\n",
    "s_JuMP = 0;\n",
    "\n",
    "# perform 100 iterations for each angle range\n",
    "for k=1:100\n",
    "    V = 0.9+0.2*rand(5,1) # random number between 0.9-1.1\n",
    "    θ = (-θ_val+2*θ_val*randn(5,1))*(π/180) # random angle between -5º to 5º\n",
    "    V[1] = 1 # slack bus voltage magnitude (reference)\n",
    "    θ[1] = 0 # slack bus voltage angle (reference)\n",
    "    \n",
    "    (success_JuMP, x_JuMP) = PF_JuMP(feval, V, θ, Y)\n",
    "    (success_newt, x_newt) = PF_newton(feval,Jeval, V, θ, Y)\n",
    "    \n",
    "    if success_JuMP == true\n",
    "        s_JuMP = s_JuMP +1;\n",
    "    end\n",
    "    if success_newt == true\n",
    "        s_newt = s_newt +1;\n",
    "    end\n",
    "end\n",
    "    \n",
    "println(\"With θ = -$θ_val degrees to $θ_val degrees\")\n",
    "println(\"Newton success rate is $s_newt\")\n",
    "println(\"JuMP success rate is $s_JuMP\")\n",
    "println(\"__________________________________________\")    \n",
    "end\n",
    "    "
   ]
  },
  {
   "cell_type": "code",
   "execution_count": 34,
   "metadata": {
    "collapsed": false
   },
   "outputs": [],
   "source": [
    "# We can also plot the results\n",
    "\n",
    "angle_amplitude = Int64[]\n",
    "ss_JuMP = Int64[]\n",
    "ss_newt = Int64[]\n",
    "\n",
    "for i = 2:2:90\n",
    "    \n",
    "θ_val = i;\n",
    "s_newt = 0;\n",
    "s_JuMP = 0;\n",
    "\n",
    "# perform 100 iterations for each angle range\n",
    "for k=1:100\n",
    "    V = 0.9+0.2*rand(5,1) # random number between 0.9-1.1\n",
    "    θ = (-θ_val+2*θ_val*randn(5,1))*(π/180) # random angle between -5º to 5º\n",
    "    V[1] = 1 # slack bus voltage magnitude (reference)\n",
    "    θ[1] = 0 # slack bus voltage angle (reference)\n",
    "    \n",
    "    (success_JuMP, x_JuMP) = PF_JuMP(feval, V, θ, Y)\n",
    "    (success_newt, x_newt) = PF_newton(feval,Jeval, V, θ, Y)\n",
    "    \n",
    "    if success_JuMP == true\n",
    "        s_JuMP = s_JuMP +1\n",
    "    end\n",
    "    if success_newt == true\n",
    "        s_newt = s_newt +1\n",
    "    end\n",
    "end\n",
    "    \n",
    "push!(angle_amplitude, i)    \n",
    "push!(ss_JuMP, s_JuMP)\n",
    "push!(ss_newt, s_newt)\n",
    "       \n",
    "end"
   ]
  },
  {
   "cell_type": "code",
   "execution_count": 54,
   "metadata": {
    "collapsed": false
   },
   "outputs": [
    {
     "data": {
      "text/html": [
       "<?xml version=\"1.0\" encoding=\"utf-8\"?>\n",
       "<svg xmlns=\"http://www.w3.org/2000/svg\" xmlns:xlink=\"http://www.w3.org/1999/xlink\" width=\"600\" height=\"400\" viewBox=\"0 0 600 400\">\n",
       "<defs>\n",
       "  <clipPath id=\"clip00\">\n",
       "    <rect x=\"0\" y=\"0\" width=\"600\" height=\"400\"/>\n",
       "  </clipPath>\n",
       "</defs>\n",
       "<polygon clip-path=\"url(#clip00)\" points=\"\n",
       "0,400 600,400 600,0 0,0 \n",
       "  \" fill=\"#ffffff\" fill-opacity=\"1\"/>\n",
       "<defs>\n",
       "  <clipPath id=\"clip01\">\n",
       "    <rect x=\"120\" y=\"0\" width=\"421\" height=\"400\"/>\n",
       "  </clipPath>\n",
       "</defs>\n",
       "<polygon clip-path=\"url(#clip00)\" points=\"\n",
       "45.8815,369.674 596.063,369.674 596.063,23.3815 45.8815,23.3815 \n",
       "  \" fill=\"#ffffff\" fill-opacity=\"1\"/>\n",
       "<defs>\n",
       "  <clipPath id=\"clip02\">\n",
       "    <rect x=\"45\" y=\"23\" width=\"551\" height=\"347\"/>\n",
       "  </clipPath>\n",
       "</defs>\n",
       "<polyline clip-path=\"url(#clip02)\" style=\"stroke:#00002d; stroke-width:0.8; stroke-opacity:0.5; fill:none\" stroke-dasharray=\"1, 2\" points=\"\n",
       "  45.8815,364.48 45.8815,28.5758 \n",
       "  \"/>\n",
       "<polyline clip-path=\"url(#clip02)\" style=\"stroke:#00002d; stroke-width:0.8; stroke-opacity:0.5; fill:none\" stroke-dasharray=\"1, 2\" points=\"\n",
       "  215.168,364.48 215.168,28.5758 \n",
       "  \"/>\n",
       "<polyline clip-path=\"url(#clip02)\" style=\"stroke:#00002d; stroke-width:0.8; stroke-opacity:0.5; fill:none\" stroke-dasharray=\"1, 2\" points=\"\n",
       "  384.455,364.48 384.455,28.5758 \n",
       "  \"/>\n",
       "<polyline clip-path=\"url(#clip02)\" style=\"stroke:#00002d; stroke-width:0.8; stroke-opacity:0.5; fill:none\" stroke-dasharray=\"1, 2\" points=\"\n",
       "  553.741,364.48 553.741,28.5758 \n",
       "  \"/>\n",
       "<polyline clip-path=\"url(#clip02)\" style=\"stroke:#00002d; stroke-width:0.8; stroke-opacity:0.5; fill:none\" stroke-dasharray=\"1, 2\" points=\"\n",
       "  54.1342,369.674 587.81,369.674 \n",
       "  \"/>\n",
       "<polyline clip-path=\"url(#clip02)\" style=\"stroke:#00002d; stroke-width:0.8; stroke-opacity:0.5; fill:none\" stroke-dasharray=\"1, 2\" points=\"\n",
       "  54.1342,300.416 587.81,300.416 \n",
       "  \"/>\n",
       "<polyline clip-path=\"url(#clip02)\" style=\"stroke:#00002d; stroke-width:0.8; stroke-opacity:0.5; fill:none\" stroke-dasharray=\"1, 2\" points=\"\n",
       "  54.1342,231.157 587.81,231.157 \n",
       "  \"/>\n",
       "<polyline clip-path=\"url(#clip02)\" style=\"stroke:#00002d; stroke-width:0.8; stroke-opacity:0.5; fill:none\" stroke-dasharray=\"1, 2\" points=\"\n",
       "  54.1342,161.899 587.81,161.899 \n",
       "  \"/>\n",
       "<polyline clip-path=\"url(#clip02)\" style=\"stroke:#00002d; stroke-width:0.8; stroke-opacity:0.5; fill:none\" stroke-dasharray=\"1, 2\" points=\"\n",
       "  54.1342,92.64 587.81,92.64 \n",
       "  \"/>\n",
       "<polyline clip-path=\"url(#clip02)\" style=\"stroke:#00002d; stroke-width:0.8; stroke-opacity:0.5; fill:none\" stroke-dasharray=\"1, 2\" points=\"\n",
       "  54.1342,23.3815 587.81,23.3815 \n",
       "  \"/>\n",
       "<polyline clip-path=\"url(#clip02)\" style=\"stroke:#00002d; stroke-width:0.8; stroke-opacity:1; fill:none\" points=\"\n",
       "  45.8815,369.674 596.063,369.674 \n",
       "  \"/>\n",
       "<polyline clip-path=\"url(#clip02)\" style=\"stroke:#00002d; stroke-width:0.8; stroke-opacity:1; fill:none\" points=\"\n",
       "  45.8815,369.674 45.8815,364.48 \n",
       "  \"/>\n",
       "<polyline clip-path=\"url(#clip02)\" style=\"stroke:#00002d; stroke-width:0.8; stroke-opacity:1; fill:none\" points=\"\n",
       "  215.168,369.674 215.168,364.48 \n",
       "  \"/>\n",
       "<polyline clip-path=\"url(#clip02)\" style=\"stroke:#00002d; stroke-width:0.8; stroke-opacity:1; fill:none\" points=\"\n",
       "  384.455,369.674 384.455,364.48 \n",
       "  \"/>\n",
       "<polyline clip-path=\"url(#clip02)\" style=\"stroke:#00002d; stroke-width:0.8; stroke-opacity:1; fill:none\" points=\"\n",
       "  553.741,369.674 553.741,364.48 \n",
       "  \"/>\n",
       "<polyline clip-path=\"url(#clip02)\" style=\"stroke:#00002d; stroke-width:0.8; stroke-opacity:1; fill:none\" points=\"\n",
       "  45.8815,369.674 45.8815,23.3815 \n",
       "  \"/>\n",
       "<polyline clip-path=\"url(#clip02)\" style=\"stroke:#00002d; stroke-width:0.8; stroke-opacity:1; fill:none\" points=\"\n",
       "  45.8815,369.674 54.1342,369.674 \n",
       "  \"/>\n",
       "<polyline clip-path=\"url(#clip02)\" style=\"stroke:#00002d; stroke-width:0.8; stroke-opacity:1; fill:none\" points=\"\n",
       "  45.8815,300.416 54.1342,300.416 \n",
       "  \"/>\n",
       "<polyline clip-path=\"url(#clip02)\" style=\"stroke:#00002d; stroke-width:0.8; stroke-opacity:1; fill:none\" points=\"\n",
       "  45.8815,231.157 54.1342,231.157 \n",
       "  \"/>\n",
       "<polyline clip-path=\"url(#clip02)\" style=\"stroke:#00002d; stroke-width:0.8; stroke-opacity:1; fill:none\" points=\"\n",
       "  45.8815,161.899 54.1342,161.899 \n",
       "  \"/>\n",
       "<polyline clip-path=\"url(#clip02)\" style=\"stroke:#00002d; stroke-width:0.8; stroke-opacity:1; fill:none\" points=\"\n",
       "  45.8815,92.64 54.1342,92.64 \n",
       "  \"/>\n",
       "<polyline clip-path=\"url(#clip02)\" style=\"stroke:#00002d; stroke-width:0.8; stroke-opacity:1; fill:none\" points=\"\n",
       "  45.8815,23.3815 54.1342,23.3815 \n",
       "  \"/>\n",
       "<g clip-path=\"url(#clip00)\">\n",
       "<text style=\"fill:#00002d; fill-opacity:1; font-family:Arial,Helvetica Neue,Helvetica,sans-serif; font-size:12; text-anchor:middle;\" transform=\"rotate(0, 45.8815, 381.674)\" x=\"45.8815\" y=\"381.674\">0</text>\n",
       "</g>\n",
       "<g clip-path=\"url(#clip00)\">\n",
       "<text style=\"fill:#00002d; fill-opacity:1; font-family:Arial,Helvetica Neue,Helvetica,sans-serif; font-size:12; text-anchor:middle;\" transform=\"rotate(0, 215.168, 381.674)\" x=\"215.168\" y=\"381.674\">20</text>\n",
       "</g>\n",
       "<g clip-path=\"url(#clip00)\">\n",
       "<text style=\"fill:#00002d; fill-opacity:1; font-family:Arial,Helvetica Neue,Helvetica,sans-serif; font-size:12; text-anchor:middle;\" transform=\"rotate(0, 384.455, 381.674)\" x=\"384.455\" y=\"381.674\">40</text>\n",
       "</g>\n",
       "<g clip-path=\"url(#clip00)\">\n",
       "<text style=\"fill:#00002d; fill-opacity:1; font-family:Arial,Helvetica Neue,Helvetica,sans-serif; font-size:12; text-anchor:middle;\" transform=\"rotate(0, 553.741, 381.674)\" x=\"553.741\" y=\"381.674\">60</text>\n",
       "</g>\n",
       "<g clip-path=\"url(#clip00)\">\n",
       "<text style=\"fill:#00002d; fill-opacity:1; font-family:Arial,Helvetica Neue,Helvetica,sans-serif; font-size:12; text-anchor:end;\" transform=\"rotate(0, 44.6815, 374.174)\" x=\"44.6815\" y=\"374.174\">0</text>\n",
       "</g>\n",
       "<g clip-path=\"url(#clip00)\">\n",
       "<text style=\"fill:#00002d; fill-opacity:1; font-family:Arial,Helvetica Neue,Helvetica,sans-serif; font-size:12; text-anchor:end;\" transform=\"rotate(0, 44.6815, 304.916)\" x=\"44.6815\" y=\"304.916\">20</text>\n",
       "</g>\n",
       "<g clip-path=\"url(#clip00)\">\n",
       "<text style=\"fill:#00002d; fill-opacity:1; font-family:Arial,Helvetica Neue,Helvetica,sans-serif; font-size:12; text-anchor:end;\" transform=\"rotate(0, 44.6815, 235.657)\" x=\"44.6815\" y=\"235.657\">40</text>\n",
       "</g>\n",
       "<g clip-path=\"url(#clip00)\">\n",
       "<text style=\"fill:#00002d; fill-opacity:1; font-family:Arial,Helvetica Neue,Helvetica,sans-serif; font-size:12; text-anchor:end;\" transform=\"rotate(0, 44.6815, 166.399)\" x=\"44.6815\" y=\"166.399\">60</text>\n",
       "</g>\n",
       "<g clip-path=\"url(#clip00)\">\n",
       "<text style=\"fill:#00002d; fill-opacity:1; font-family:Arial,Helvetica Neue,Helvetica,sans-serif; font-size:12; text-anchor:end;\" transform=\"rotate(0, 44.6815, 97.14)\" x=\"44.6815\" y=\"97.14\">80</text>\n",
       "</g>\n",
       "<g clip-path=\"url(#clip00)\">\n",
       "<text style=\"fill:#00002d; fill-opacity:1; font-family:Arial,Helvetica Neue,Helvetica,sans-serif; font-size:12; text-anchor:end;\" transform=\"rotate(0, 44.6815, 27.8815)\" x=\"44.6815\" y=\"27.8815\">100</text>\n",
       "</g>\n",
       "<g clip-path=\"url(#clip00)\">\n",
       "<text style=\"fill:#00002d; fill-opacity:1; font-family:Arial,Helvetica Neue,Helvetica,sans-serif; font-size:21; text-anchor:middle;\" transform=\"rotate(0, 320.972, 18)\" x=\"320.972\" y=\"18\">Power Flow Convergence</text>\n",
       "</g>\n",
       "<g clip-path=\"url(#clip00)\">\n",
       "<text style=\"fill:#00002d; fill-opacity:1; font-family:Arial,Helvetica Neue,Helvetica,sans-serif; font-size:16; text-anchor:middle;\" transform=\"rotate(0, 320.972, 397.6)\" x=\"320.972\" y=\"397.6\">Voltage Amplitude</text>\n",
       "</g>\n",
       "<g clip-path=\"url(#clip00)\">\n",
       "<text style=\"fill:#00002d; fill-opacity:1; font-family:Arial,Helvetica Neue,Helvetica,sans-serif; font-size:16; text-anchor:middle;\" transform=\"rotate(-90, 14.4, 196.528)\" x=\"14.4\" y=\"196.528\">Convergence (%)</text>\n",
       "</g>\n",
       "<polyline clip-path=\"url(#clip02)\" style=\"stroke:#0099ff; stroke-width:0.8; stroke-opacity:1; fill:none\" points=\"\n",
       "  62.8101,23.3815 79.7388,23.3815 96.6674,47.6219 113.596,78.7883 130.525,123.806 147.453,217.305 164.382,224.231 181.311,245.009 198.239,293.49 215.168,310.804 \n",
       "  232.097,335.045 249.025,335.045 265.954,355.822 282.883,348.897 299.811,348.897 316.74,355.822 333.669,355.822 350.597,345.434 367.526,355.822 384.455,366.211 \n",
       "  401.383,355.822 418.312,366.211 435.241,355.822 452.169,366.211 469.098,369.674 486.027,369.674 502.955,369.674 519.884,362.748 536.813,369.674 553.741,369.674 \n",
       "  570.67,369.674 587.599,366.211 604.527,369.674 621.456,359.285 638.385,366.211 655.313,362.748 672.242,369.674 689.171,369.674 706.099,369.674 723.028,369.674 \n",
       "  739.957,366.211 756.885,369.674 773.814,369.674 790.743,369.674 807.671,369.674 \n",
       "  \"/>\n",
       "<polyline clip-path=\"url(#clip02)\" style=\"stroke:#e9746a; stroke-width:0.8; stroke-opacity:1; fill:none\" points=\"\n",
       "  62.8101,23.3815 79.7388,23.3815 96.6674,40.6961 113.596,75.3253 130.525,116.88 147.453,179.213 164.382,151.51 181.311,193.065 198.239,227.694 215.168,231.157 \n",
       "  232.097,251.935 249.025,286.564 265.954,296.953 282.883,276.175 299.811,283.101 316.74,314.267 333.669,341.971 350.597,314.267 367.526,328.119 384.455,335.045 \n",
       "  401.383,345.434 418.312,345.434 435.241,341.971 452.169,338.508 469.098,355.822 486.027,366.211 502.955,341.971 519.884,362.748 536.813,362.748 553.741,359.285 \n",
       "  570.67,359.285 587.599,362.748 604.527,369.674 621.456,362.748 638.385,359.285 655.313,362.748 672.242,366.211 689.171,362.748 706.099,366.211 723.028,369.674 \n",
       "  739.957,366.211 756.885,366.211 773.814,369.674 790.743,366.211 807.671,366.211 \n",
       "  \"/>\n",
       "<polygon clip-path=\"url(#clip00)\" points=\"\n",
       "477.885,89.6215 578.063,89.6215 578.063,44.2615 477.885,44.2615 \n",
       "  \" fill=\"#ffffff\" fill-opacity=\"1\"/>\n",
       "<polyline clip-path=\"url(#clip00)\" style=\"stroke:#00002d; stroke-width:0.8; stroke-opacity:1; fill:none\" points=\"\n",
       "  477.885,89.6215 578.063,89.6215 578.063,44.2615 477.885,44.2615 477.885,89.6215 \n",
       "  \"/>\n",
       "<polyline clip-path=\"url(#clip00)\" style=\"stroke:#0099ff; stroke-width:0.8; stroke-opacity:1; fill:none\" points=\"\n",
       "  483.885,59.3815 519.885,59.3815 \n",
       "  \"/>\n",
       "<g clip-path=\"url(#clip00)\">\n",
       "<text style=\"fill:#00002d; fill-opacity:1; font-family:Arial,Helvetica Neue,Helvetica,sans-serif; font-size:12; text-anchor:start;\" transform=\"rotate(0, 525.885, 63.8815)\" x=\"525.885\" y=\"63.8815\">JuMP</text>\n",
       "</g>\n",
       "<polyline clip-path=\"url(#clip00)\" style=\"stroke:#e9746a; stroke-width:0.8; stroke-opacity:1; fill:none\" points=\"\n",
       "  483.885,74.5015 519.885,74.5015 \n",
       "  \"/>\n",
       "<g clip-path=\"url(#clip00)\">\n",
       "<text style=\"fill:#00002d; fill-opacity:1; font-family:Arial,Helvetica Neue,Helvetica,sans-serif; font-size:12; text-anchor:start;\" transform=\"rotate(0, 525.885, 79.0015)\" x=\"525.885\" y=\"79.0015\">Newton</text>\n",
       "</g>\n",
       "</svg>\n"
      ]
     },
     "execution_count": 54,
     "metadata": {},
     "output_type": "execute_result"
    }
   ],
   "source": [
    "plot(angle_amplitude,ss_JuMP,label = \"JuMP\", xlims = (0, 65), title = \"Power Flow Convergence\")\n",
    "plot!(angle_amplitude, ss_newt, label = \"Newton\", xlabel = \"Voltage Amplitude\", ylabel = \"Convergence (%)\")"
   ]
  },
  {
   "cell_type": "markdown",
   "metadata": {},
   "source": [
    "# AC Optimal Power Flow"
   ]
  },
  {
   "cell_type": "markdown",
   "metadata": {},
   "source": [
    "Optimal Power Flow (OPF) is an expansion of power flow analysis in which power flow are optimized in order to minimize the cost of generation subject to the power flow constraints and other operational constraints, such as generator minimum output constraints, transmission stability and voltage constraints, and limits on switching mechanical equipment.\n",
    "\n",
    "Equality constraints\n",
    "- Power balance at each node - power flow equations\n",
    "\n",
    "Inequality constraints\n",
    "- Network operating limits (line flows, voltages)\n",
    "- Limits on control variables\n",
    "\n",
    "Solving an OPF is necessary to determine the optimal operation and planning of the grid. In this algorithm, I will simulate an optimal power flow model for a 6-bus system and determine the locational marginal prices (LMPs)."
   ]
  },
  {
   "cell_type": "code",
   "execution_count": null,
   "metadata": {
    "collapsed": true
   },
   "outputs": [],
   "source": []
  }
 ],
 "metadata": {
  "kernelspec": {
   "display_name": "Julia 0.5.1",
   "language": "julia",
   "name": "julia-0.5"
  },
  "language_info": {
   "file_extension": ".jl",
   "mimetype": "application/julia",
   "name": "julia",
   "version": "0.5.1"
  }
 },
 "nbformat": 4,
 "nbformat_minor": 2
}

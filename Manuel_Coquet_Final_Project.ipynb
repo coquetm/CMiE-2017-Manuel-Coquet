{
 "cells": [
  {
   "cell_type": "markdown",
   "metadata": {},
   "source": [
    "# Computational Methods in Economics Final Project"
   ]
  },
  {
   "cell_type": "markdown",
   "metadata": {},
   "source": [
    "#### GitHub Repository:\n",
    "https://github.com/coquetm/CMiE-2017-Manuel-Coquet"
   ]
  },
  {
   "cell_type": "code",
   "execution_count": 60,
   "metadata": {
    "collapsed": false
   },
   "outputs": [
    {
     "data": {
      "text/plain": [
       "Plots.GRBackend()"
      ]
     },
     "execution_count": 60,
     "metadata": {},
     "output_type": "execute_result"
    }
   ],
   "source": [
    "using JuMP, Ipopt, Plots, DataFrames, GLPKMathProgInterface, FileIO\n",
    "gr()"
   ]
  },
  {
   "cell_type": "markdown",
   "metadata": {},
   "source": [
    "## Policy Appications of Power Systems Modelling"
   ]
  },
  {
   "cell_type": "markdown",
   "metadata": {
    "collapsed": true
   },
   "source": [
    "- In this project, I start by building Power Flow model for a small network and comparing the computational efficiency of Newton's method and the optimizing package JuMP in Julia.\n",
    "\n",
    "\n",
    "- Afterwards, I expand the Power Flow model into an Optimal Power Flow to optimize the operation and planning of a power grid based on minimizing generation costs, and to determine Locational Marginal Prices that generators and load consumers face.\n",
    "\n",
    "\n",
    "- In addition, I use the Optimal Power Flow model to examine an example of Market Power and the incompatibility of incentives between profit-maximizing for a firm and optimizing the welfare of society.\n",
    "\n",
    "\n",
    "- Finally, I replicate a Mixed Integer Linear (MILP) approach to solving the transmission expansion planning problem from the paper Transmission Expansion Planning: A Mixed-Integer LP Approach (2003) by Natalia Alguacil, Alexis L. Motto and Antonio J. Conejo.\n"
   ]
  },
  {
   "cell_type": "markdown",
   "metadata": {},
   "source": [
    "## 1. AC Power Flow analysis\n",
    "An alternating current power-flow model is a model used in electrical engineering to analyze power grids. It provides a nonlinear system which describes the energy flow through each transmission line. The goal of a power-flow study is to obtain complete voltages angle and magnitude information for each bus in a power system for specified load and generator real power and voltage conditions.  \n",
    "\n",
    "Once this information is known, real and reactive power flow on each branch as well as generator reactive power output can be analytically determined. Power-flow or load-flow studies are important for planning future expansion of power systems as well as in determining the best operation of existing systems. "
   ]
  },
  {
   "cell_type": "markdown",
   "metadata": {},
   "source": [
    "### Problem description (example)\n",
    "- Consider a network with 5 buses that forms a cycle (i.e., the lines are (1,2), (2,3), (3,4),(4,5) and (5,1)).\n",
    "- Assume that Bus 1 is a slack, Bus 2 is PV (generator) and Buses 3-5 are PQ (loads).\n",
    "- Assume that the resistance and reactance of each line are both equal to 1.\n",
    "\n",
    "Repeat the following lines 1-3 several times (say 100 times):\n",
    "- 1: Generate a random vector V such that all voltage magnitudes are somehow close to 1 and all voltage angles are close to 0, and that the phase at the slack bus is zero.\n",
    "- 2: Based on the random vector of voltages V, compute the loads at the PQ buses, the P and |V| values at the PV buses, and |V| at the slack bus. (constraints/input data needed to run the model)\n",
    "- 3: Use the measurement data to solve the power flow problem in two ways: (1) Newton's Mehtod, (2) JuMP \n",
    "- 4: Declare a success if the obtained solution matches the original random state V. Compute how many times each of the above two methods was successful for different values of voltage angles (sensitivity analysis).\n",
    "\n",
    "#### NOTE: The problem does not always have a solution, especially at large angles"
   ]
  },
  {
   "cell_type": "markdown",
   "metadata": {},
   "source": [
    "### Mathematical Formulation\n",
    "The Power flow problem requires us to determine voltages angle and magnitude information for each bus in a power system for specified load and generator real power and voltage conditions:\n",
    "- For generator buses (also called PV) - we are given Pᵢ & |Vᵢ| -> need to solve for θᵢ & Qᵢ\n",
    "- For load buses (also called PQ) - we are given Pᵢ & Qᵢ -> need to solve for θᵢ & |Vᵢ|\n",
    "- For the slack bus (used to balance other buses) - we are given |Vᵢ| & θᵢ -> need to solve for Pᵢ & Qᵢ\n",
    "\n",
    "Therefore our problem can be stated as:\n",
    "- Known parameters: V₁, θ₁, P₂, V₂, P₃, Q₃, P₄, Q₄, P₅, Q₅\n",
    "- List of unknowns: P₁, Q₁, Q₂, θ₂, V₃, θ₃, V₄, θ₄, V₅, θ₅\n",
    "- Need to write equations P₂, P₃, Q₃, P₄, Q₄, P₅, Q₅\n",
    "\n",
    "Where:\n",
    "- Pᵢ = ∑|Vᵢ||Vⱼ|[Gᵢⱼ cos(θᵢⱼ) + Bᵢⱼ sin(θᵢⱼ)] \n",
    "- Qᵢ = ∑|Vᵢ||Vⱼ|[Gᵢⱼ sin(θᵢⱼ) - Bᵢⱼ cos(θᵢⱼ)]\n",
    "\n",
    "And:\n",
    "- θᵢⱼ = θᵢ - θⱼ\n",
    "- Gᵢⱼ = Real(Yᵢⱼ) # admittance matrix\n",
    "- Bᵢⱼ = Imaginary(Yᵢⱼ)\n",
    "- Yᵢⱼ is the inverse of the impedance matrix which depends on the resistance and reactance of power lines\n",
    "\n",
    "I will use the equations in terms of vector x to avoid confusion\n",
    "x = [θ₂ θ₃ θ₄ θ₅ V₃ V₄ V₅]"
   ]
  },
  {
   "cell_type": "markdown",
   "metadata": {},
   "source": [
    "## Newton's Method"
   ]
  },
  {
   "cell_type": "markdown",
   "metadata": {},
   "source": [
    "We will apply a multivariable Newton's method to solve the Non-linear system of power equations according to the following algorithm:\n",
    "\n",
    "x = [θ₂, θ₃, θ₄, θ₅, V₃, V₄, V₅]\n",
    "\n",
    "fx = [P₂(x)-P0₂ , P₃(x)-P0₃ , P₄(x)-P0₄ , P₅(x)-P0₅ , Q₃(x)-Q0₃ , Q₄(x)-Q0₄ , Q₅(x)-Q0₅]\n",
    "\n",
    "J = δfxᵢ / δxⱼ\n",
    "\n",
    "while ||fx(xⁿ)|| < ϵ\n",
    "\n",
    "    xⁿ⁺¹ = xⁿ - J(xⁿ)⁻¹f(xⁿ)\n",
    "    xⁿ = xⁿ⁺¹\n",
    "    \n",
    "end"
   ]
  },
  {
   "cell_type": "markdown",
   "metadata": {},
   "source": [
    "### Constructing the Admittance Matrix"
   ]
  },
  {
   "cell_type": "code",
   "execution_count": 2,
   "metadata": {
    "collapsed": false
   },
   "outputs": [
    {
     "data": {
      "text/plain": [
       "5×5 Array{Complex{Float64},2}:\n",
       "  1.0-1.0im  -0.5+0.5im   0.0+0.0im   0.0+0.0im  -0.5+0.5im\n",
       " -0.5+0.5im   1.0-1.0im  -0.5+0.5im   0.0+0.0im   0.0+0.0im\n",
       "  0.0+0.0im  -0.5+0.5im   1.0-1.0im  -0.5+0.5im   0.0+0.0im\n",
       "  0.0+0.0im   0.0+0.0im  -0.5+0.5im   1.0-1.0im  -0.5+0.5im\n",
       " -0.5+0.5im   0.0+0.0im   0.0+0.0im  -0.5+0.5im   1.0-1.0im"
      ]
     },
     "execution_count": 2,
     "metadata": {},
     "output_type": "execute_result"
    }
   ],
   "source": [
    "# Since we are not changing resistance or reactance, the admittance matrix will always be constant\n",
    "\n",
    "Zij = zeros(5,5)\n",
    "Zij = complex(Zij)\n",
    "Zij[1,2] = 1+1im; Zij[2,1] = 1+1im;\n",
    "Zij[2,3] = 1+1im; Zij[3,2] = 1+1im;\n",
    "Zij[3,4] = 1+1im; Zij[4,3] = 1+1im;\n",
    "Zij[4,5] = 1+1im; Zij[5,4] = 1+1im;\n",
    "Zij[5,1] = 1+1im; Zij[1,5] = 1+1im;\n",
    "Y = zeros(5,5);\n",
    "Y = complex(Y)\n",
    "for i=1:5, j=1:5\n",
    "    if i != j\n",
    "        if Zij[i,j] != 0\n",
    "            Y[i,j] = -Zij[i,j]^-1;\n",
    "        else\n",
    "            Y[i,j] = 0;\n",
    "        end\n",
    "    end\n",
    "end\n",
    "for i = 1:5\n",
    "    Y[i,i] = -sum(Y[i,:]);\n",
    "end\n",
    "Y"
   ]
  },
  {
   "cell_type": "markdown",
   "metadata": {},
   "source": [
    "### Defining a function to evaluate fx (active and reactive power)"
   ]
  },
  {
   "cell_type": "code",
   "execution_count": 3,
   "metadata": {
    "collapsed": false
   },
   "outputs": [],
   "source": [
    "function feval(Y, V; f0 = zeros(7))\n",
    "\n",
    "function f(x::Vector)\n",
    "fx = zeros(7)\n",
    "θ₁ = 0; #slack reference bus\n",
    "fx[1] = V[2]*V[1]*(real(Y[2,1])*cos(x[1]-θ₁)+imag(Y[2,1])*sin(x[1]-θ₁))+ V[2]*V[2]*real(Y[2,2])+\n",
    "        V[2]*x[5]*(real(Y[2,3])*cos(x[1]-x[2])+imag(Y[2,3])*sin(x[1]-x[2])) - f0[1]\n",
    "fx[2] = x[5]*V[2]*(real(Y[3,2])*cos(x[2]-x[1])+imag(Y[3,2])*sin(x[2]-x[1]))+ x[5]*x[5]*real(Y[3,3])+\n",
    "        x[5]*x[6]*(real(Y[3,4])*cos(x[2]-x[3])+imag(Y[3,4])*sin(x[2]-x[3])) - f0[2]\n",
    "fx[3] = x[6]*x[5]*(real(Y[4,3])*cos(x[3]-x[2])+imag(Y[4,3])*sin(x[3]-x[2]))+ x[6]*x[6]*real(Y[4,4])+\n",
    "        x[6]*x[7]*(real(Y[4,5])*cos(x[3]-x[4])+imag(Y[4,5])*sin(x[3]-x[4])) - f0[3]\n",
    "fx[4] = x[7]*x[6]*(real(Y[5,4])*cos(x[4]-x[3])+imag(Y[5,4])*sin(x[4]-x[3]))+ x[7]*x[7]*real(Y[5,5])+\n",
    "        x[7]*V[1]*(real(Y[5,1])*cos(x[4]-θ₁)+imag(Y[5,4])*sin(x[4]-θ₁)) - f0[4]\n",
    "fx[5] = x[5]*V[2]*(real(Y[3,2])*sin(x[2]-x[1])-imag(Y[3,2])*cos(x[2]-x[1])) -x[5]*x[5]*imag(Y[3,3])+\n",
    "        x[5]*x[6]*(real(Y[3,4])*sin(x[2]-x[3])-imag(Y[3,4])*cos(x[2]-x[3])) - f0[5]\n",
    "fx[6] = x[6]*x[5]*(real(Y[4,3])*sin(x[3]-x[2])-imag(Y[4,3])*cos(x[3]-x[2]))-x[6]*x[6]*imag(Y[4,4])+\n",
    "        x[6]*x[7]*(real(Y[4,5])*sin(x[3]-x[4])-imag(Y[4,5])*cos(x[3]-x[4])) - f0[6]\n",
    "fx[7] = x[7]*x[6]*(real(Y[5,4])*sin(x[4]-x[3])-imag(Y[5,4])*cos(x[4]-x[3]))-x[7]*x[7]*imag(Y[5,5])+\n",
    "        x[7]*V[1]*(real(Y[5,1])*sin(x[4]-θ₁)-imag(Y[5,1])*cos(x[4]-θ₁)) - f0[7]\n",
    "return fx\n",
    "end\n",
    "    \n",
    "end"
   ]
  },
  {
   "cell_type": "markdown",
   "metadata": {},
   "source": [
    "### Defining a function to evaluate Jacobian"
   ]
  },
  {
   "cell_type": "markdown",
   "metadata": {},
   "source": [
    "#### I did the analytical Jacobian - tried to use autodiff but i couldn't make it work"
   ]
  },
  {
   "cell_type": "code",
   "execution_count": 4,
   "metadata": {
    "collapsed": false
   },
   "outputs": [
    {
     "data": {
      "text/plain": [
       "Jeval (generic function with 1 method)"
      ]
     },
     "execution_count": 4,
     "metadata": {},
     "output_type": "execute_result"
    }
   ],
   "source": [
    "function Jeval(Y, V)\n",
    "\n",
    "function J(x::Vector)\n",
    "θ₁ = 0 #slack reference bus\n",
    "df1x1 = V[2]*V[1]*(-real(Y[2,1])*sin(x[1]-θ₁)+imag(Y[2,1])*cos(x[1]-θ₁))+\n",
    "            V[2]*x[5]*(-real(Y[2,3])*sin(x[1]-x[2])+imag(Y[2,3])*cos(x[1]-x[2]))\n",
    "df1x2 = V[2]*x[5]*(real(Y[2,3])*sin(x[1]-x[2])-imag(Y[2,3])*cos(x[1]-x[2]))\n",
    "df1x3 = 0\n",
    "df1x4 = 0\n",
    "df1x5 = V[2]*(real(Y[2,3])*cos(x[1]-x[2])+imag(Y[2,3])*sin(x[1]-x[2]))\n",
    "df1x6 = 0\n",
    "df1x7 = 0\n",
    "df2x1 = x[5]*V[2]*(real(Y[3,2])*sin(x[2]-x[1])-imag(Y[3,2])*cos(x[2]-x[1]))\n",
    "df2x2 = x[5]*V[2]*(-real(Y[3,2])*sin(x[2]-x[1])+imag(Y[3,2])*cos(x[2]-x[1]))+\n",
    "            x[5]*x[6]*(-real(Y[3,4])*sin(x[2]-x[3])+imag(Y[3,4])*cos(x[2]-x[3]))\n",
    "df2x3 = x[5]*x[6]*(real(Y[3,4])*sin(x[2]-x[3])-imag(Y[3,4])*cos(x[2]-x[3]))\n",
    "df2x4 = 0;\n",
    "df2x5 = V[2]*(real(Y[3,2])*cos(x[2]-x[1])+imag(Y[3,2])*sin(x[2]-x[1]))+\n",
    "            2*x[5]*real(Y[3,3])+x[6]*(real(Y[3,4])*cos(x[2]-x[3])+imag(Y[3,4])*sin(x[2]-x[3]))\n",
    "df2x6 = x[5]*(real(Y[3,4])*cos(x[2]-x[3])+imag(Y[3,4])*sin(x[2]-x[3]))\n",
    "df2x7 = 0\n",
    "df3x1 = 0\n",
    "df3x2 = x[6]*x[5]*(real(Y[4,3])*sin(x[3]-x[2])-imag(Y[4,3])*cos(x[3]-x[2]))\n",
    "df3x3 = x[6]*x[5]*(-real(Y[4,3])*sin(x[3]-x[2])+imag(Y[4,3])*cos(x[3]-x[2]))+\n",
    "            x[6]*x[7]*(-real(Y[4,5])*sin(x[3]-x[4])+imag(Y[4,5])*cos(x[3]-x[4]))\n",
    "df3x4 = x[6]*x[7]*(real(Y[4,5])*sin(x[3]-x[4])-imag(Y[4,5])*cos(x[3]-x[4]))\n",
    "df3x5 = x[6]*(real(Y[4,3])*cos(x[3]-x[2])+imag(Y[4,3])*sin(x[3]-x[2]))\n",
    "df3x6 = x[5]*(real(Y[4,3])*cos(x[3]-x[2])+imag(Y[4,3])*sin(x[3]-x[2]))+\n",
    "            2*x[6]*real(Y[4,4])+x[7]*(real(Y[4,5])*cos(x[3]-x[4])+imag(Y[4,5])*sin(x[3]-x[4]))\n",
    "df3x7 = x[6]*(real(Y[4,5])*cos(x[3]-x[4])+imag(Y[4,5])*sin(x[3]-x[4]))\n",
    "df4x1 = 0\n",
    "df4x2 = 0\n",
    "df4x3 = x[7]*x[6]*(real(Y[5,4])*sin(x[4]-x[3])-imag(Y[5,4])*cos(x[4]-x[3]))\n",
    "df4x4 = x[7]*x[6]*(-real(Y[5,4])*sin(x[4]-x[3])+imag(Y[5,4])*cos(x[4]-x[3]))+\n",
    "            x[7]*V[1]*(-real(Y[5,1])*sin(x[4]-θ₁)+imag(Y[5,1])*cos(x[4]-θ₁))\n",
    "df4x5 = 0\n",
    "df4x6 = x[7]*(real(Y[5,4])*cos(x[4]-x[3])+imag(Y[5,4])*sin(x[4]-x[3]))\n",
    "df4x7 = x[6]*(real(Y[5,4])*cos(x[4]-x[3])+imag(Y[5,4])*sin(x[4]-x[3]))+\n",
    "            2*x[7]*real(Y[5,5])+V[1]*(real(Y[5,1])*cos(x[4]-θ₁)+imag(Y[5,1])*sin(x[4]-θ₁))\n",
    "df5x1 = x[5]*V[2]*(-real(Y[3,2])*cos(x[2]-x[1])-imag(Y[3,2])*sin(x[2]-x[1]))\n",
    "df5x2 = x[5]*V[2]*(real(Y[3,2])*cos(x[2]-x[1])+imag(Y[3,2])*sin(x[2]-x[1]))+\n",
    "                        x[5]*x[6]*(real(Y[3,4])*cos(x[2]-x[3])+imag(Y[3,4])*sin(x[2]-x[3]))\n",
    "df5x3 = x[5]*x[6]*(-real(Y[3,4])*cos(x[2]-x[3])-imag(Y[3,4])*sin(x[2]-x[3]))\n",
    "df5x4 = 0;\n",
    "df5x5 = V[2]*(real(Y[3,2])*sin(x[2]-x[1])-imag(Y[3,2])*cos(x[2]-x[1]))-\n",
    "            2*x[5]*imag(Y[3,3])+x[6]*(real(Y[3,4])*sin(x[2]-x[3])-imag(Y[3,4])*cos(x[2]-x[3]))\n",
    "df5x6 = x[5]*(real(Y[3,4])*sin(x[2]-x[3])-imag(Y[3,4])*cos(x[2]-x[3]))\n",
    "df5x7 = 0\n",
    "df6x1 = 0\n",
    "df6x2 = x[6]*x[5]*(-real(Y[4,3])*cos(x[3]-x[2])-imag(Y[4,3])*sin(x[3]-x[2]))\n",
    "df6x3 = x[6]*x[5]*(real(Y[4,3])*cos(x[3]-x[2])+imag(Y[4,3])*sin(x[3]-x[2]))+\n",
    "            x[6]*x[7]*(real(Y[4,5])*cos(x[3]-x[4])+imag(Y[4,5])*sin(x[3]-x[4]))\n",
    "df6x4 = x[6]*x[7]*(-real(Y[4,5])*cos(x[3]-x[4])-imag(Y[4,5])*sin(x[3]-x[4]))\n",
    "df6x5 = x[6]*(real(Y[4,3])*sin(x[3]-x[2])-imag(Y[4,3])*cos(x[3]-x[2]))\n",
    "df6x6 = x[5]*(real(Y[4,3])*sin(x[3]-x[2])-imag(Y[4,3])*cos(x[3]-x[2]))-\n",
    "            2*x[6]*imag(Y[4,4])+x[7]*(real(Y[4,5])*sin(x[3]-x[4])-imag(Y[4,5])*cos(x[3]-x[4]))\n",
    "df6x7 = x[6]*(real(Y[4,5])*sin(x[3]-x[4])-imag(Y[4,5])*cos(x[3]-x[4]))\n",
    "df7x1 = 0\n",
    "df7x2 = 0\n",
    "df7x3 = x[7]*x[6]*(-real(Y[5,4])*cos(x[4]-x[3])-imag(Y[5,4])*sin(x[4]-x[3]))\n",
    "df7x4 = x[7]*x[6]*(real(Y[5,4])*cos(x[4]-x[3])+imag(Y[5,4])*sin(x[4]-x[3]))+\n",
    "            x[7]*V[1]*(real(Y[5,1])*cos(x[4]-θ₁)+imag(Y[5,1])*sin(x[4]-θ₁))\n",
    "df7x5 = 0\n",
    "df7x6 = x[7]*(real(Y[5,4])*sin(x[4]-x[3])-imag(Y[5,4])*cos(x[4]-x[3]))\n",
    "df7x7 = x[6]*(real(Y[5,4])*sin(x[4]-x[3])-imag(Y[5,4])*cos(x[4]-x[3]))-\n",
    "            2*x[7]*imag(Y[5,5])+V[1]*(real(Y[5,1])*sin(x[4]-θ₁)-imag(Y[5,1])*cos(x[4]-θ₁))\n",
    "Jx = [\n",
    "    df1x1 df1x2 df1x3 df1x4 df1x5 df1x6 df1x7;\n",
    "    df2x1 df2x2 df2x3 df2x4 df2x5 df2x6 df2x7;\n",
    "    df3x1 df3x2 df3x3 df3x4 df3x5 df3x6 df3x7;\n",
    "    df4x1 df4x2 df4x3 df4x4 df4x5 df4x6 df4x7;\n",
    "    df5x1 df5x2 df5x3 df5x4 df5x5 df5x6 df5x7;\n",
    "    df6x1 df6x2 df6x3 df6x4 df6x5 df6x6 df6x7;\n",
    "    df7x1 df7x2 df7x3 df7x4 df7x5 df7x6 df7x7;\n",
    "]\n",
    "return Jx\n",
    "                                \n",
    "end\n",
    "\n",
    "end"
   ]
  },
  {
   "cell_type": "markdown",
   "metadata": {},
   "source": [
    "### Computing the constraints at the PQ & PV buses and the slack bus [P0 & Q0]"
   ]
  },
  {
   "cell_type": "code",
   "execution_count": 5,
   "metadata": {
    "collapsed": false
   },
   "outputs": [
    {
     "data": {
      "text/plain": [
       "0"
      ]
     },
     "execution_count": 5,
     "metadata": {},
     "output_type": "execute_result"
    }
   ],
   "source": [
    "V = 0.9+0.2*rand(5,1) # random number between 0.9-1.1\n",
    "θ = (-2+2*2*randn(5,1))*(π/180) # random angle between -2º to 2º\n",
    "V[1] = 1 # slack bus voltage magnitude (reference)\n",
    "θ[1] = 0 # slack bus voltage angle (reference)"
   ]
  },
  {
   "cell_type": "code",
   "execution_count": 6,
   "metadata": {
    "collapsed": false
   },
   "outputs": [
    {
     "data": {
      "text/plain": [
       "7-element Array{Float64,1}:\n",
       " -0.10951   \n",
       "  0.166388  \n",
       "  0.00905654\n",
       " -0.155199  \n",
       "  0.0754063 \n",
       " -0.00248877\n",
       "  0.0143346 "
      ]
     },
     "execution_count": 6,
     "metadata": {},
     "output_type": "execute_result"
    }
   ],
   "source": [
    "f0 = feval(Y,V) # generates a function to evaluate power flows in terms of x\n",
    "x_true = [θ[2]; θ[3]; θ[4]; θ[5]; V[3]; V[4]; V[5]]\n",
    "constraints = f0(x_true) # computes constraints based on initial vector x0"
   ]
  },
  {
   "cell_type": "markdown",
   "metadata": {
    "collapsed": false
   },
   "source": [
    "### Solution with Newton's algorithm"
   ]
  },
  {
   "cell_type": "code",
   "execution_count": 7,
   "metadata": {
    "collapsed": false
   },
   "outputs": [
    {
     "data": {
      "text/plain": [
       "PF_newton (generic function with 1 method)"
      ]
     },
     "execution_count": 7,
     "metadata": {},
     "output_type": "execute_result"
    }
   ],
   "source": [
    "function PF_newton(feval, Jeval, V, θ, Y; x0 = [0,0,0,0,1,1,1],tol = 1e-9, xtol = 1e-4, max_iter = 15)\n",
    "\n",
    "x_true = [θ[2]; θ[3]; θ[4]; θ[5]; V[3]; V[4]; V[5]] # original x vector (angles in radians)\n",
    "    \n",
    "f0 = feval(Y,V) # generates a function to evaluate power flows in terms of x\n",
    "constraints = f0(x_true) # computes constraints based on initial vector x0\n",
    "\n",
    "# compute new fx function incorporating constraints and Jacobian\n",
    "fx = feval(Y,V, f0 = constraints)\n",
    "Jx = Jeval(Y,V)\n",
    "\n",
    "#initialize algorithm\n",
    "x = x0\n",
    "\n",
    "for i = 1:max_iter\n",
    "    xn = x - Jx(x)\\fx(x)\n",
    "    x = xn\n",
    "\n",
    "# Was a solution found?\n",
    "if sum(fx(x).^2) < tol\n",
    "    break\n",
    "end\n",
    "    \n",
    "end\n",
    "\n",
    "# Is it the correct soultion? It is possible to have more than 1 local solution\n",
    "if sum((x-x_true).^2) < xtol\n",
    "    success_newt = true\n",
    "else\n",
    "    success_newt = false\n",
    "end\n",
    "\n",
    "    return success_newt, x\n",
    "end"
   ]
  },
  {
   "cell_type": "code",
   "execution_count": 8,
   "metadata": {
    "collapsed": false
   },
   "outputs": [
    {
     "data": {
      "text/plain": [
       "(true,[0.0155206,0.0423063,-0.0184714,-0.102258,1.06984,0.993314,0.915358])"
      ]
     },
     "execution_count": 8,
     "metadata": {},
     "output_type": "execute_result"
    }
   ],
   "source": [
    "(success_newt, x_newt) = PF_newton(feval, Jeval, V, θ, Y)"
   ]
  },
  {
   "cell_type": "markdown",
   "metadata": {},
   "source": [
    "## Solving with JuMP"
   ]
  },
  {
   "cell_type": "code",
   "execution_count": 9,
   "metadata": {
    "collapsed": false
   },
   "outputs": [],
   "source": [
    "function PF_JuMP(feval, V, θ, Y; xtol = 1e-4)\n",
    "\n",
    "x_true = [θ[2]; θ[3]; θ[4]; θ[5]; V[3]; V[4]; V[5]] # original x vector (angles in radians)    \n",
    "\n",
    "# JuMP does not recognize real and imaginary functions so I have to define the Real and Imaginary Parts of Y\n",
    "YR = real(Y); YI = imag(Y); θ₁ = 0;\n",
    "    \n",
    "f0 = feval(Y,V) # generates a function to evaluate power flows in terms of x\n",
    "constraints = f0(x_true) # computes constraints based on initial vector x0\n",
    "\n",
    "# Initialize Ipopt Solver\n",
    "m = Model(solver=IpoptSolver(print_level=0))\n",
    "    \n",
    "# Define our x variable\n",
    "@variable(m, x[1:7])\n",
    "\n",
    "# Set initial guess\n",
    "for i in 1:4\n",
    "    setvalue(x[i], 0.0)\n",
    "end\n",
    "\n",
    "for i in 5:7\n",
    "    setvalue(x[i], 1.0)\n",
    "end\n",
    "\n",
    "\n",
    "@NLobjective(m, Max, 10) #doesn't matter we can write constant\n",
    "\n",
    "# Active Power & Reactive Power non-linear constraints\n",
    "\n",
    "@NLconstraints(m, begin\n",
    "        \n",
    "    V[2]*V[1]*((YR[2,1])*cos(x[1]-θ₁)+(YI[2,1])*sin(x[1]-θ₁))+ V[2]*V[2]*(YR[2,2])+ \n",
    "        V[2]*x[5]*((YR[2,3])*cos(x[1]-x[2])+(YI[2,3])*sin(x[1]-x[2])) == constraints[1]\n",
    "        \n",
    "    x[5]*V[2]*((YR[3,2])*cos(x[2]-x[1])+(YI[3,2])*sin(x[2]-x[1]))+ x[5]*x[5]*(YR[3,3])+ \n",
    "        x[5]*x[6]*((YR[3,4])*cos(x[2]-x[3])+(YI[3,4])*sin(x[2]-x[3])) == constraints[2]\n",
    "        \n",
    "    x[6]*x[5]*((YR[4,3])*cos(x[3]-x[2])+(YI[4,3])*sin(x[3]-x[2]))+ x[6]*x[6]*(YR[4,4])+ \n",
    "        x[6]*x[7]*((YR[4,5])*cos(x[3]-x[4])+(YI[4,5])*sin(x[3]-x[4])) == constraints[3]\n",
    "    \n",
    "    x[7]*x[6]*((YR[5,4])*cos(x[4]-x[3])+(YI[5,4])*sin(x[4]-x[3]))+ x[7]*x[7]*(YR[5,5])+ \n",
    "        x[7]*V[1]*((YR[5,1])*cos(x[4]-θ₁)+(YI[5,4])*sin(x[4]-θ₁)) == constraints[4]\n",
    "        \n",
    "    x[5]*V[2]*((YR[3,2])*sin(x[2]-x[1])-(YI[3,2])*cos(x[2]-x[1]))- x[5]*x[5]*(YI[3,3])+\n",
    "        x[5]*x[6]*((YR[3,4])*sin(x[2]-x[3])-(YI[3,4])*cos(x[2]-x[3])) == constraints[5]\n",
    "    \n",
    "    x[6]*x[5]*((YR[4,3])*sin(x[3]-x[2])-(YI[4,3])*cos(x[3]-x[2]))- x[6]*x[6]*(YI[4,4])+\n",
    "        x[6]*x[7]*((YR[4,5])*sin(x[3]-x[4])-(YI[4,5])*cos(x[3]-x[4])) == constraints[6]\n",
    "        \n",
    "    x[7]*x[6]*((YR[5,4])*sin(x[4]-x[3])-(YI[5,4])*cos(x[4]-x[3]))- x[7]*x[7]*(YI[5,5])+\n",
    "        x[7]*V[1]*((YR[5,1])*sin(x[4]-θ₁)-(YI[5,1])*cos(x[4]-θ₁)) == constraints[7]\n",
    "        \n",
    "end)\n",
    "\n",
    "solve(m; suppress_warnings=true)\n",
    "x_JuMP = getvalue(x);\n",
    "\n",
    "# Is it the correct soultion? It is possible to have more than 1 local solution\n",
    "if sum((x_JuMP-x_true).^2) < xtol\n",
    "    success_JuMP = true\n",
    "else\n",
    "    success_JuMP = false\n",
    "end\n",
    "    return success_JuMP, x_JuMP\n",
    "end"
   ]
  },
  {
   "cell_type": "code",
   "execution_count": 10,
   "metadata": {
    "collapsed": false
   },
   "outputs": [
    {
     "name": "stdout",
     "output_type": "stream",
     "text": [
      "\n",
      "******************************************************************************\n",
      "This program contains Ipopt, a library for large-scale nonlinear optimization.\n",
      " Ipopt is released as open source code under the Eclipse Public License (EPL).\n",
      "         For more information visit http://projects.coin-or.org/Ipopt\n",
      "******************************************************************************\n",
      "\n"
     ]
    },
    {
     "data": {
      "text/plain": [
       "(true,[0.0155203,0.0423061,-0.0184714,-0.102258,1.06984,0.993313,0.915358])"
      ]
     },
     "execution_count": 10,
     "metadata": {},
     "output_type": "execute_result"
    }
   ],
   "source": [
    "(success_JuMP, x_JuMP) = PF_JuMP(feval, V, θ, Y)"
   ]
  },
  {
   "cell_type": "markdown",
   "metadata": {
    "collapsed": true
   },
   "source": [
    "## Results for one iteration"
   ]
  },
  {
   "cell_type": "code",
   "execution_count": 11,
   "metadata": {
    "collapsed": false
   },
   "outputs": [
    {
     "data": {
      "text/html": [
       "<table class=\"data-frame\"><thead><tr><th></th><th>x_true</th><th>x_newton</th><th>x_JuMP</th></tr></thead><tbody><tr><th>1</th><td>0.015520301231904387</td><td>0.015520570861455425</td><td>0.015520301232084113</td></tr><tr><th>2</th><td>0.042306078110721484</td><td>0.042306291236024966</td><td>0.04230607811083579</td></tr><tr><th>3</th><td>-0.018471410404033734</td><td>-0.01847138552416179</td><td>-0.018471410404061087</td></tr><tr><th>4</th><td>-0.10225847292307665</td><td>-0.10225812790341168</td><td>-0.10225847292275374</td></tr><tr><th>5</th><td>1.0698436807335865</td><td>1.0698439162746392</td><td>1.0698436807337817</td></tr><tr><th>6</th><td>0.9933133903788267</td><td>0.9933138479829792</td><td>0.9933133903792365</td></tr><tr><th>7</th><td>0.915357612664186</td><td>0.9153581653983389</td><td>0.91535761266469</td></tr></tbody></table>"
      ],
      "text/plain": [
       "7×3 DataFrames.DataFrame\n",
       "│ Row │ x_true     │ x_newton   │ x_JuMP     │\n",
       "├─────┼────────────┼────────────┼────────────┤\n",
       "│ 1   │ 0.0155203  │ 0.0155206  │ 0.0155203  │\n",
       "│ 2   │ 0.0423061  │ 0.0423063  │ 0.0423061  │\n",
       "│ 3   │ -0.0184714 │ -0.0184714 │ -0.0184714 │\n",
       "│ 4   │ -0.102258  │ -0.102258  │ -0.102258  │\n",
       "│ 5   │ 1.06984    │ 1.06984    │ 1.06984    │\n",
       "│ 6   │ 0.993313   │ 0.993314   │ 0.993313   │\n",
       "│ 7   │ 0.915358   │ 0.915358   │ 0.915358   │"
      ]
     },
     "execution_count": 11,
     "metadata": {},
     "output_type": "execute_result"
    }
   ],
   "source": [
    "Results = DataFrame(x_true = x_true, x_newton = x_newt, x_JuMP = x_JuMP)"
   ]
  },
  {
   "cell_type": "code",
   "execution_count": 12,
   "metadata": {
    "collapsed": false
   },
   "outputs": [
    {
     "name": "stdout",
     "output_type": "stream",
     "text": [
      "  0.003915 seconds (3.43 k allocations: 252.500 KB)\n"
     ]
    },
    {
     "data": {
      "text/plain": [
       "(true,[0.0155203,0.0423061,-0.0184714,-0.102258,1.06984,0.993313,0.915358])"
      ]
     },
     "execution_count": 12,
     "metadata": {},
     "output_type": "execute_result"
    }
   ],
   "source": [
    "@time PF_JuMP(feval, V, θ, Y)"
   ]
  },
  {
   "cell_type": "code",
   "execution_count": 13,
   "metadata": {
    "collapsed": false
   },
   "outputs": [
    {
     "name": "stdout",
     "output_type": "stream",
     "text": [
      "  0.000219 seconds (525 allocations: 80.766 KB)\n"
     ]
    },
    {
     "data": {
      "text/plain": [
       "(true,[0.0155206,0.0423063,-0.0184714,-0.102258,1.06984,0.993314,0.915358])"
      ]
     },
     "execution_count": 13,
     "metadata": {},
     "output_type": "execute_result"
    }
   ],
   "source": [
    "@time PF_newton(feval,Jeval, V, θ, Y) # although it took me ages to do the Jacobian manually"
   ]
  },
  {
   "cell_type": "markdown",
   "metadata": {},
   "source": [
    "## Sensitivity Analysis for voltage angle range"
   ]
  },
  {
   "cell_type": "code",
   "execution_count": 14,
   "metadata": {
    "collapsed": false
   },
   "outputs": [
    {
     "name": "stdout",
     "output_type": "stream",
     "text": [
      "With θ = -5 degrees to 5 degrees\n",
      "Newton success rate is 100\n",
      "JuMP success rate is 100\n",
      "__________________________________________\n",
      "With θ = -15 degrees to 15 degrees\n",
      "Newton success rate is 50\n",
      "JuMP success rate is 33\n",
      "__________________________________________\n",
      "With θ = -25 degrees to 25 degrees\n",
      "Newton success rate is 25\n",
      "JuMP success rate is 3\n",
      "__________________________________________\n",
      "With θ = -35 degrees to 35 degrees\n",
      "Newton success rate is 12\n",
      "JuMP success rate is 5\n",
      "__________________________________________\n",
      "With θ = -45 degrees to 45 degrees\n",
      "Newton success rate is 7\n",
      "JuMP success rate is 3\n",
      "__________________________________________\n"
     ]
    }
   ],
   "source": [
    "for i = 5:10:45\n",
    "    \n",
    "θ_val = i;\n",
    "s_newt = 0;\n",
    "s_JuMP = 0;\n",
    "\n",
    "# perform 100 iterations for each angle range\n",
    "for k=1:100\n",
    "    V = 0.9+0.2*rand(5,1) # random number between 0.9-1.1\n",
    "    θ = (-θ_val+2*θ_val*randn(5,1))*(π/180) # random angle between -5º to 5º\n",
    "    V[1] = 1 # slack bus voltage magnitude (reference)\n",
    "    θ[1] = 0 # slack bus voltage angle (reference)\n",
    "    \n",
    "    (success_JuMP, x_JuMP) = PF_JuMP(feval, V, θ, Y)\n",
    "    (success_newt, x_newt) = PF_newton(feval,Jeval, V, θ, Y)\n",
    "    \n",
    "    if success_JuMP == true\n",
    "        s_JuMP = s_JuMP +1;\n",
    "    end\n",
    "    if success_newt == true\n",
    "        s_newt = s_newt +1;\n",
    "    end\n",
    "end\n",
    "    \n",
    "println(\"With θ = -$θ_val degrees to $θ_val degrees\")\n",
    "println(\"Newton success rate is $s_newt\")\n",
    "println(\"JuMP success rate is $s_JuMP\")\n",
    "println(\"__________________________________________\")    \n",
    "end\n",
    "    "
   ]
  },
  {
   "cell_type": "code",
   "execution_count": 15,
   "metadata": {
    "collapsed": false
   },
   "outputs": [
    {
     "name": "stderr",
     "output_type": "stream",
     "text": [
      "\u001b[1m\u001b[31mWARNING: Ipopt finished with status Feasible_Point_Found\u001b[0m\n"
     ]
    }
   ],
   "source": [
    "# We can also plot the results\n",
    "\n",
    "angle_amplitude = Int64[]\n",
    "ss_JuMP = Int64[]\n",
    "ss_newt = Int64[]\n",
    "\n",
    "for i = 2:2:90\n",
    "    \n",
    "θ_val = i;\n",
    "s_newt = 0;\n",
    "s_JuMP = 0;\n",
    "\n",
    "# perform 100 iterations for each angle range\n",
    "for k=1:100\n",
    "    V = 0.9+0.2*rand(5,1) # random number between 0.9-1.1\n",
    "    θ = (-θ_val+2*θ_val*randn(5,1))*(π/180) # random angle between -5º to 5º\n",
    "    V[1] = 1 # slack bus voltage magnitude (reference)\n",
    "    θ[1] = 0 # slack bus voltage angle (reference)\n",
    "    \n",
    "    (success_JuMP, x_JuMP) = PF_JuMP(feval, V, θ, Y)\n",
    "    (success_newt, x_newt) = PF_newton(feval,Jeval, V, θ, Y)\n",
    "    \n",
    "    if success_JuMP == true\n",
    "        s_JuMP = s_JuMP +1\n",
    "    end\n",
    "    if success_newt == true\n",
    "        s_newt = s_newt +1\n",
    "    end\n",
    "end\n",
    "    \n",
    "push!(angle_amplitude, i)    \n",
    "push!(ss_JuMP, s_JuMP)\n",
    "push!(ss_newt, s_newt)\n",
    "       \n",
    "end"
   ]
  },
  {
   "cell_type": "code",
   "execution_count": 16,
   "metadata": {
    "collapsed": false
   },
   "outputs": [
    {
     "data": {
      "text/html": [
       "<?xml version=\"1.0\" encoding=\"utf-8\"?>\n",
       "<svg xmlns=\"http://www.w3.org/2000/svg\" xmlns:xlink=\"http://www.w3.org/1999/xlink\" width=\"600\" height=\"400\" viewBox=\"0 0 600 400\">\n",
       "<defs>\n",
       "  <clipPath id=\"clip00\">\n",
       "    <rect x=\"0\" y=\"0\" width=\"600\" height=\"400\"/>\n",
       "  </clipPath>\n",
       "</defs>\n",
       "<polygon clip-path=\"url(#clip00)\" points=\"\n",
       "0,400 600,400 600,0 0,0 \n",
       "  \" fill=\"#ffffff\" fill-opacity=\"1\"/>\n",
       "<defs>\n",
       "  <clipPath id=\"clip01\">\n",
       "    <rect x=\"120\" y=\"0\" width=\"421\" height=\"400\"/>\n",
       "  </clipPath>\n",
       "</defs>\n",
       "<polygon clip-path=\"url(#clip00)\" points=\"\n",
       "45.8815,369.674 596.063,369.674 596.063,23.3815 45.8815,23.3815 \n",
       "  \" fill=\"#ffffff\" fill-opacity=\"1\"/>\n",
       "<defs>\n",
       "  <clipPath id=\"clip02\">\n",
       "    <rect x=\"45\" y=\"23\" width=\"551\" height=\"347\"/>\n",
       "  </clipPath>\n",
       "</defs>\n",
       "<polyline clip-path=\"url(#clip02)\" style=\"stroke:#00002d; stroke-width:0.8; stroke-opacity:0.5; fill:none\" stroke-dasharray=\"1, 2\" points=\"\n",
       "  45.8815,364.48 45.8815,28.5758 \n",
       "  \"/>\n",
       "<polyline clip-path=\"url(#clip02)\" style=\"stroke:#00002d; stroke-width:0.8; stroke-opacity:0.5; fill:none\" stroke-dasharray=\"1, 2\" points=\"\n",
       "  215.168,364.48 215.168,28.5758 \n",
       "  \"/>\n",
       "<polyline clip-path=\"url(#clip02)\" style=\"stroke:#00002d; stroke-width:0.8; stroke-opacity:0.5; fill:none\" stroke-dasharray=\"1, 2\" points=\"\n",
       "  384.455,364.48 384.455,28.5758 \n",
       "  \"/>\n",
       "<polyline clip-path=\"url(#clip02)\" style=\"stroke:#00002d; stroke-width:0.8; stroke-opacity:0.5; fill:none\" stroke-dasharray=\"1, 2\" points=\"\n",
       "  553.741,364.48 553.741,28.5758 \n",
       "  \"/>\n",
       "<polyline clip-path=\"url(#clip02)\" style=\"stroke:#00002d; stroke-width:0.8; stroke-opacity:0.5; fill:none\" stroke-dasharray=\"1, 2\" points=\"\n",
       "  54.1342,369.674 587.81,369.674 \n",
       "  \"/>\n",
       "<polyline clip-path=\"url(#clip02)\" style=\"stroke:#00002d; stroke-width:0.8; stroke-opacity:0.5; fill:none\" stroke-dasharray=\"1, 2\" points=\"\n",
       "  54.1342,300.416 587.81,300.416 \n",
       "  \"/>\n",
       "<polyline clip-path=\"url(#clip02)\" style=\"stroke:#00002d; stroke-width:0.8; stroke-opacity:0.5; fill:none\" stroke-dasharray=\"1, 2\" points=\"\n",
       "  54.1342,231.157 587.81,231.157 \n",
       "  \"/>\n",
       "<polyline clip-path=\"url(#clip02)\" style=\"stroke:#00002d; stroke-width:0.8; stroke-opacity:0.5; fill:none\" stroke-dasharray=\"1, 2\" points=\"\n",
       "  54.1342,161.899 587.81,161.899 \n",
       "  \"/>\n",
       "<polyline clip-path=\"url(#clip02)\" style=\"stroke:#00002d; stroke-width:0.8; stroke-opacity:0.5; fill:none\" stroke-dasharray=\"1, 2\" points=\"\n",
       "  54.1342,92.64 587.81,92.64 \n",
       "  \"/>\n",
       "<polyline clip-path=\"url(#clip02)\" style=\"stroke:#00002d; stroke-width:0.8; stroke-opacity:0.5; fill:none\" stroke-dasharray=\"1, 2\" points=\"\n",
       "  54.1342,23.3815 587.81,23.3815 \n",
       "  \"/>\n",
       "<polyline clip-path=\"url(#clip02)\" style=\"stroke:#00002d; stroke-width:0.8; stroke-opacity:1; fill:none\" points=\"\n",
       "  45.8815,369.674 596.063,369.674 \n",
       "  \"/>\n",
       "<polyline clip-path=\"url(#clip02)\" style=\"stroke:#00002d; stroke-width:0.8; stroke-opacity:1; fill:none\" points=\"\n",
       "  45.8815,369.674 45.8815,364.48 \n",
       "  \"/>\n",
       "<polyline clip-path=\"url(#clip02)\" style=\"stroke:#00002d; stroke-width:0.8; stroke-opacity:1; fill:none\" points=\"\n",
       "  215.168,369.674 215.168,364.48 \n",
       "  \"/>\n",
       "<polyline clip-path=\"url(#clip02)\" style=\"stroke:#00002d; stroke-width:0.8; stroke-opacity:1; fill:none\" points=\"\n",
       "  384.455,369.674 384.455,364.48 \n",
       "  \"/>\n",
       "<polyline clip-path=\"url(#clip02)\" style=\"stroke:#00002d; stroke-width:0.8; stroke-opacity:1; fill:none\" points=\"\n",
       "  553.741,369.674 553.741,364.48 \n",
       "  \"/>\n",
       "<polyline clip-path=\"url(#clip02)\" style=\"stroke:#00002d; stroke-width:0.8; stroke-opacity:1; fill:none\" points=\"\n",
       "  45.8815,369.674 45.8815,23.3815 \n",
       "  \"/>\n",
       "<polyline clip-path=\"url(#clip02)\" style=\"stroke:#00002d; stroke-width:0.8; stroke-opacity:1; fill:none\" points=\"\n",
       "  45.8815,369.674 54.1342,369.674 \n",
       "  \"/>\n",
       "<polyline clip-path=\"url(#clip02)\" style=\"stroke:#00002d; stroke-width:0.8; stroke-opacity:1; fill:none\" points=\"\n",
       "  45.8815,300.416 54.1342,300.416 \n",
       "  \"/>\n",
       "<polyline clip-path=\"url(#clip02)\" style=\"stroke:#00002d; stroke-width:0.8; stroke-opacity:1; fill:none\" points=\"\n",
       "  45.8815,231.157 54.1342,231.157 \n",
       "  \"/>\n",
       "<polyline clip-path=\"url(#clip02)\" style=\"stroke:#00002d; stroke-width:0.8; stroke-opacity:1; fill:none\" points=\"\n",
       "  45.8815,161.899 54.1342,161.899 \n",
       "  \"/>\n",
       "<polyline clip-path=\"url(#clip02)\" style=\"stroke:#00002d; stroke-width:0.8; stroke-opacity:1; fill:none\" points=\"\n",
       "  45.8815,92.64 54.1342,92.64 \n",
       "  \"/>\n",
       "<polyline clip-path=\"url(#clip02)\" style=\"stroke:#00002d; stroke-width:0.8; stroke-opacity:1; fill:none\" points=\"\n",
       "  45.8815,23.3815 54.1342,23.3815 \n",
       "  \"/>\n",
       "<g clip-path=\"url(#clip00)\">\n",
       "<text style=\"fill:#00002d; fill-opacity:1; font-family:Arial,Helvetica Neue,Helvetica,sans-serif; font-size:12; text-anchor:middle;\" transform=\"rotate(0, 45.8815, 381.674)\" x=\"45.8815\" y=\"381.674\">0</text>\n",
       "</g>\n",
       "<g clip-path=\"url(#clip00)\">\n",
       "<text style=\"fill:#00002d; fill-opacity:1; font-family:Arial,Helvetica Neue,Helvetica,sans-serif; font-size:12; text-anchor:middle;\" transform=\"rotate(0, 215.168, 381.674)\" x=\"215.168\" y=\"381.674\">20</text>\n",
       "</g>\n",
       "<g clip-path=\"url(#clip00)\">\n",
       "<text style=\"fill:#00002d; fill-opacity:1; font-family:Arial,Helvetica Neue,Helvetica,sans-serif; font-size:12; text-anchor:middle;\" transform=\"rotate(0, 384.455, 381.674)\" x=\"384.455\" y=\"381.674\">40</text>\n",
       "</g>\n",
       "<g clip-path=\"url(#clip00)\">\n",
       "<text style=\"fill:#00002d; fill-opacity:1; font-family:Arial,Helvetica Neue,Helvetica,sans-serif; font-size:12; text-anchor:middle;\" transform=\"rotate(0, 553.741, 381.674)\" x=\"553.741\" y=\"381.674\">60</text>\n",
       "</g>\n",
       "<g clip-path=\"url(#clip00)\">\n",
       "<text style=\"fill:#00002d; fill-opacity:1; font-family:Arial,Helvetica Neue,Helvetica,sans-serif; font-size:12; text-anchor:end;\" transform=\"rotate(0, 44.6815, 374.174)\" x=\"44.6815\" y=\"374.174\">0</text>\n",
       "</g>\n",
       "<g clip-path=\"url(#clip00)\">\n",
       "<text style=\"fill:#00002d; fill-opacity:1; font-family:Arial,Helvetica Neue,Helvetica,sans-serif; font-size:12; text-anchor:end;\" transform=\"rotate(0, 44.6815, 304.916)\" x=\"44.6815\" y=\"304.916\">20</text>\n",
       "</g>\n",
       "<g clip-path=\"url(#clip00)\">\n",
       "<text style=\"fill:#00002d; fill-opacity:1; font-family:Arial,Helvetica Neue,Helvetica,sans-serif; font-size:12; text-anchor:end;\" transform=\"rotate(0, 44.6815, 235.657)\" x=\"44.6815\" y=\"235.657\">40</text>\n",
       "</g>\n",
       "<g clip-path=\"url(#clip00)\">\n",
       "<text style=\"fill:#00002d; fill-opacity:1; font-family:Arial,Helvetica Neue,Helvetica,sans-serif; font-size:12; text-anchor:end;\" transform=\"rotate(0, 44.6815, 166.399)\" x=\"44.6815\" y=\"166.399\">60</text>\n",
       "</g>\n",
       "<g clip-path=\"url(#clip00)\">\n",
       "<text style=\"fill:#00002d; fill-opacity:1; font-family:Arial,Helvetica Neue,Helvetica,sans-serif; font-size:12; text-anchor:end;\" transform=\"rotate(0, 44.6815, 97.14)\" x=\"44.6815\" y=\"97.14\">80</text>\n",
       "</g>\n",
       "<g clip-path=\"url(#clip00)\">\n",
       "<text style=\"fill:#00002d; fill-opacity:1; font-family:Arial,Helvetica Neue,Helvetica,sans-serif; font-size:12; text-anchor:end;\" transform=\"rotate(0, 44.6815, 27.8815)\" x=\"44.6815\" y=\"27.8815\">100</text>\n",
       "</g>\n",
       "<g clip-path=\"url(#clip00)\">\n",
       "<text style=\"fill:#00002d; fill-opacity:1; font-family:Arial,Helvetica Neue,Helvetica,sans-serif; font-size:21; text-anchor:middle;\" transform=\"rotate(0, 320.972, 18)\" x=\"320.972\" y=\"18\">Power Flow Convergence</text>\n",
       "</g>\n",
       "<g clip-path=\"url(#clip00)\">\n",
       "<text style=\"fill:#00002d; fill-opacity:1; font-family:Arial,Helvetica Neue,Helvetica,sans-serif; font-size:16; text-anchor:middle;\" transform=\"rotate(0, 320.972, 397.6)\" x=\"320.972\" y=\"397.6\">Phase Angle Amplitude (degrees)</text>\n",
       "</g>\n",
       "<g clip-path=\"url(#clip00)\">\n",
       "<text style=\"fill:#00002d; fill-opacity:1; font-family:Arial,Helvetica Neue,Helvetica,sans-serif; font-size:16; text-anchor:middle;\" transform=\"rotate(-90, 14.4, 196.528)\" x=\"14.4\" y=\"196.528\">Convergence (%)</text>\n",
       "</g>\n",
       "<polyline clip-path=\"url(#clip02)\" style=\"stroke:#0099ff; stroke-width:0.8; stroke-opacity:1; fill:none\" points=\"\n",
       "  62.8101,23.3815 79.7388,26.8444 96.6674,44.159 113.596,78.7883 130.525,137.658 147.453,213.842 164.382,245.009 181.311,241.546 198.239,262.323 215.168,317.73 \n",
       "  232.097,321.193 249.025,341.971 265.954,348.897 282.883,355.822 299.811,341.971 316.74,352.359 333.669,359.285 350.597,348.897 367.526,366.211 384.455,352.359 \n",
       "  401.383,366.211 418.312,359.285 435.241,355.822 452.169,362.748 469.098,366.211 486.027,359.285 502.955,369.674 519.884,362.748 536.813,369.674 553.741,369.674 \n",
       "  570.67,369.674 587.599,366.211 604.527,369.674 621.456,366.211 638.385,369.674 655.313,369.674 672.242,369.674 689.171,369.674 706.099,369.674 723.028,369.674 \n",
       "  739.957,369.674 756.885,369.674 773.814,369.674 790.743,369.674 807.671,369.674 \n",
       "  \"/>\n",
       "<polyline clip-path=\"url(#clip02)\" style=\"stroke:#e9746a; stroke-width:0.8; stroke-opacity:1; fill:none\" points=\"\n",
       "  62.8101,23.3815 79.7388,26.8444 96.6674,40.6961 113.596,71.8624 130.525,123.806 147.453,175.75 164.382,193.065 181.311,206.917 198.239,186.139 215.168,245.009 \n",
       "  232.097,258.86 249.025,276.175 265.954,296.953 282.883,321.193 299.811,300.416 316.74,310.804 333.669,331.582 350.597,338.508 367.526,324.656 384.455,328.119 \n",
       "  401.383,355.822 418.312,335.045 435.241,335.045 452.169,352.359 469.098,338.508 486.027,348.897 502.955,348.897 519.884,359.285 536.813,362.748 553.741,355.822 \n",
       "  570.67,366.211 587.599,352.359 604.527,355.822 621.456,366.211 638.385,366.211 655.313,362.748 672.242,369.674 689.171,369.674 706.099,369.674 723.028,359.285 \n",
       "  739.957,369.674 756.885,369.674 773.814,362.748 790.743,369.674 807.671,366.211 \n",
       "  \"/>\n",
       "<polygon clip-path=\"url(#clip00)\" points=\"\n",
       "477.885,89.6215 578.063,89.6215 578.063,44.2615 477.885,44.2615 \n",
       "  \" fill=\"#ffffff\" fill-opacity=\"1\"/>\n",
       "<polyline clip-path=\"url(#clip00)\" style=\"stroke:#00002d; stroke-width:0.8; stroke-opacity:1; fill:none\" points=\"\n",
       "  477.885,89.6215 578.063,89.6215 578.063,44.2615 477.885,44.2615 477.885,89.6215 \n",
       "  \"/>\n",
       "<polyline clip-path=\"url(#clip00)\" style=\"stroke:#0099ff; stroke-width:0.8; stroke-opacity:1; fill:none\" points=\"\n",
       "  483.885,59.3815 519.885,59.3815 \n",
       "  \"/>\n",
       "<g clip-path=\"url(#clip00)\">\n",
       "<text style=\"fill:#00002d; fill-opacity:1; font-family:Arial,Helvetica Neue,Helvetica,sans-serif; font-size:12; text-anchor:start;\" transform=\"rotate(0, 525.885, 63.8815)\" x=\"525.885\" y=\"63.8815\">JuMP</text>\n",
       "</g>\n",
       "<polyline clip-path=\"url(#clip00)\" style=\"stroke:#e9746a; stroke-width:0.8; stroke-opacity:1; fill:none\" points=\"\n",
       "  483.885,74.5015 519.885,74.5015 \n",
       "  \"/>\n",
       "<g clip-path=\"url(#clip00)\">\n",
       "<text style=\"fill:#00002d; fill-opacity:1; font-family:Arial,Helvetica Neue,Helvetica,sans-serif; font-size:12; text-anchor:start;\" transform=\"rotate(0, 525.885, 79.0015)\" x=\"525.885\" y=\"79.0015\">Newton</text>\n",
       "</g>\n",
       "</svg>\n"
      ]
     },
     "execution_count": 16,
     "metadata": {},
     "output_type": "execute_result"
    }
   ],
   "source": [
    "plot(angle_amplitude,ss_JuMP,label = \"JuMP\", xlims = (0, 65), title = \"Power Flow Convergence\")\n",
    "plot!(angle_amplitude, ss_newt, label = \"Newton\", xlabel = \"Phase Angle Amplitude (degrees)\", ylabel = \"Convergence (%)\")"
   ]
  },
  {
   "cell_type": "markdown",
   "metadata": {},
   "source": [
    "We can see that the Power Flow algorithm has a higher convergence rate at small voltage angles (θ) and that Newton't method is superior in convergence and time to JuMP using Ipopt"
   ]
  },
  {
   "cell_type": "markdown",
   "metadata": {},
   "source": [
    "## 2. AC Optimal Power Flow analysis"
   ]
  },
  {
   "cell_type": "markdown",
   "metadata": {},
   "source": [
    "Optimal Power Flow (OPF) is an expansion of power flow analysis in which power flow are optimized in order to minimize the cost of generation subject to the power flow constraints and other operational constraints, such as generator minimum output constraints, transmission stability and voltage constraints, and limits on switching mechanical equipment.\n",
    "\n",
    "Equality constraints\n",
    "- Power balance at each node - power flow equations\n",
    "\n",
    "Inequality constraints\n",
    "- Network operating limits (line flows, voltages)\n",
    "- Limits on control variables\n",
    "\n",
    "Solving an OPF is necessary to determine the optimal operation and planning of the grid. In this algorithm, I will simulate an optimal power flow model for a 6-bus system and determine the locational marginal prices (LMPs) and generator power flows.\n",
    "\n",
    "- Slack: Bus 1\n",
    "- PV(Generators): Buses 2,3\n",
    "- PQ(Load): Buses 4,5,6"
   ]
  },
  {
   "cell_type": "markdown",
   "metadata": {},
   "source": [
    "### Locational Marginal Prices (LMPs)\n",
    "Locational marginal pricing is a way for wholesale electric energy prices to reflect the value of electric energy at different locations, accounting for the patterns of load, generation, and the physical limits of the transmission system.\n",
    "\n",
    "LMPs are the marginal costs of serving an extra MW-h of electricity at a specific node at a given time. They are composed of energy costs + losses + congestion. LMPs are calculated every five minutes and they are used to settle contracts in energy markets and to deal with transmission congestion."
   ]
  },
  {
   "cell_type": "markdown",
   "metadata": {},
   "source": [
    "### Problem Set up"
   ]
  },
  {
   "cell_type": "markdown",
   "metadata": {},
   "source": [
    "Objective: minimize ∑fᵢPᵢ (generators)\n",
    "\n",
    "Power flow equations:\n",
    "- Pᵢ = ∑|Vᵢ||Vⱼ|[Gᵢⱼ cos(θᵢⱼ) + Bᵢⱼ sin(θᵢⱼ)] \n",
    "- Qᵢ = ∑|Vᵢ||Vⱼ|[Gᵢⱼ sin(θᵢⱼ) - Bᵢⱼ cos(θᵢⱼ)]\n",
    "\n",
    "Cost functions (generators):\n",
    "- fᵢ = a(P)² + b(P) + C\n",
    "- a = [0.11, 0.085, 0.1225]\n",
    "- b = [5, 1.2, 1]\n",
    "- c = [150, 600, 335]\n",
    "\n",
    "Constraints:\n",
    "\n",
    "- Generators & Slack\n",
    "    - θ₁ = 0 # reference\n",
    "    - 0.9 <= |V₁| <= 1.1\n",
    "    - 0.9 <= |V₂| <= 1.1\n",
    "    - 0.9 <= |V₃| <= 1.1\n",
    "    - 10 <= P₁ <= 200\n",
    "    - 10 <= P₂ <= 100\n",
    "    - 10 <= P₃ <= 300\n",
    "    - -300 <= Q₁ <= 300\n",
    "    - -300 <= Q₂ <= 300\n",
    "    - -300 <= Q₃ <= 300\n",
    "\n",
    "- Loads\n",
    "    - 0.9 <= |V₄| <= 1.1\n",
    "    - 0.9 <= |V₅| <= 1.1\n",
    "    - 0.9 <= |V₆| <= 1.1\n",
    "    - P₄ = -90\n",
    "    - P₅ = -100\n",
    "    - P₆ = -125\n",
    "    - Q₄ = -30\n",
    "    - Q₅ = -35\n",
    "    - Q₆ = -50\n",
    "\n",
    "- Lines\n",
    "    - S₁₄ <= 95"
   ]
  },
  {
   "cell_type": "markdown",
   "metadata": {},
   "source": [
    "### Constructing the Admittance Matrix"
   ]
  },
  {
   "cell_type": "code",
   "execution_count": 17,
   "metadata": {
    "collapsed": false
   },
   "outputs": [
    {
     "data": {
      "text/plain": [
       "6×6 Array{Complex{Float64},2}:\n",
       "  4615.38-3076.92im       0.0+0.0im      …       0.0+0.0im    \n",
       "      0.0+0.0im       4615.38-3076.92im     -4615.38+3076.92im\n",
       "      0.0+0.0im           0.0+0.0im              0.0+0.0im    \n",
       " -4615.38+3076.92im       0.0+0.0im         -4615.38+3076.92im\n",
       "      0.0+0.0im           0.0+0.0im         -4615.38+3076.92im\n",
       "      0.0+0.0im      -4615.38+3076.92im  …   13846.2-9230.77im"
      ]
     },
     "execution_count": 17,
     "metadata": {},
     "output_type": "execute_result"
    }
   ],
   "source": [
    "res = 0.015*ones(6)\n",
    "react = 0.01*ones(6)\n",
    "baseMVA = 100.\n",
    "Zij = zeros(6,6)\n",
    "Zij = complex(Zij)\n",
    "Zij[1,4] = (1/baseMVA)*complex(res[1],react[1]); Zij[4,1] = (1/baseMVA)*complex(res[1],react[1]);\n",
    "Zij[4,5] = (1/baseMVA)*complex(res[2],react[2]); Zij[5,4] = (1/baseMVA)*complex(res[2],react[2]);\n",
    "Zij[3,5] = (1/baseMVA)*complex(res[3],react[3]); Zij[5,3] = (1/baseMVA)*complex(res[3],react[3]);\n",
    "Zij[5,6] = (1/baseMVA)*complex(res[4],react[4]); Zij[6,5] = (1/baseMVA)*complex(res[4],react[4]);\n",
    "Zij[6,2] = (1/baseMVA)*complex(res[5],react[5]); Zij[2,6] = (1/baseMVA)*complex(res[5],react[5]);\n",
    "Zij[6,4] = (1/baseMVA)*complex(res[6],react[6]); Zij[4,6] = (1/baseMVA)*complex(res[6],react[6]);\n",
    "\n",
    "Y = zeros(6,6)\n",
    "Y = complex(Y)\n",
    "\n",
    "for i=1:6, j=1:6\n",
    "    if i != j\n",
    "        if Zij[i,j] != 0\n",
    "            Y[i,j] = -Zij[i,j]^-1\n",
    "        else\n",
    "            Y[i,j] = 0.0\n",
    "        end\n",
    "    end\n",
    "end\n",
    "for i = 1:6\n",
    "    Y[i,i] = -sum(Y[i,:])\n",
    "end\n",
    "Y = (Y+conj(Y'))/2;\n",
    "Y"
   ]
  },
  {
   "cell_type": "markdown",
   "metadata": {},
   "source": [
    "### We set uo new x-vector\n",
    "\n",
    "x = [θ₁, θ₂, θ₃, θ₄, θ₅, θ₆, V₁, V₂, V₃, V₄, V₅, V₆]"
   ]
  },
  {
   "cell_type": "markdown",
   "metadata": {},
   "source": [
    "### Power Flow Model for the new system"
   ]
  },
  {
   "cell_type": "code",
   "execution_count": 18,
   "metadata": {
    "collapsed": false
   },
   "outputs": [],
   "source": [
    "# generator buses starting at bus 1\n",
    "vconstraints = [1., 1., 1.]\n",
    "vlow = 0.9\n",
    "vhigh = 1.1\n",
    "\n",
    "# start at bus 2\n",
    "pconstraints = [150, 75, -90, -100, -125]\n",
    "\n",
    "# start at bus 4\n",
    "qconstraints = [-30, -35, -50]\n",
    "\n",
    "# JuMP does not recognize real and imaginary functions so I have to define the Real and Imaginary Parts of Y\n",
    "YR = real(Y); YI = imag(Y);\n",
    "\n",
    "# Initialize Ipopt Solver\n",
    "m = Model(solver=IpoptSolver(print_level=2))\n",
    "\n",
    "# Define our x variable\n",
    "@variable(m, x[1:12])\n",
    "\n",
    "# Set initial guess\n",
    "for i in 1:6\n",
    "    setvalue(x[i], 0.0)\n",
    "end\n",
    "\n",
    "for i in 7:12\n",
    "    setvalue(x[i], 1.0)\n",
    "end\n",
    "\n",
    "@NLobjective(m, Max, 10) #doesn't matter we can write as constant\n",
    "\n",
    "# Voltage magnitude and voltage angle linear constraints\n",
    "\n",
    "# slackbus reference angle\n",
    "@constraint(m, x[1] == 0)\n",
    "\n",
    "# generator voltage constraints\n",
    "@constraint(m, vconstr[i=1:3], x[i+6] == vconstraints[i])\n",
    "@constraint(m, vmin[i=1:6], x[i+6] >= vlow)\n",
    "@constraint(m, vhig[i=1:6], x[i+6] <= vhigh)\n",
    "\n",
    "# Active Power & Reactive Power non-linear constraints\n",
    "\n",
    "#active power constraints\n",
    "@NLconstraint(m, pconstr[i=1:5], sum(x[i+7]*x[j+6]*(YR[i+1,j]*cos(x[i+1]-x[j])+\n",
    "            YI[i+1,j]*sin(x[i+1]-x[j])) for j = 1:6) == pconstraints[i])\n",
    "\n",
    "#reactive power constraints\n",
    "@NLconstraint(m, qconstr[i=1:3], sum(x[i+9]*x[j+6]*(YR[i+3,j]*sin(x[i+3]-x[j])-\n",
    "            YI[i+3,j]*cos(x[i+3]-x[j])) for j = 1:6) == qconstraints[i])\n",
    "\n",
    "solve(m)\n",
    "x_PF = getvalue(x)"
   ]
  },
  {
   "cell_type": "markdown",
   "metadata": {},
   "source": [
    "### Optimal Power Flow"
   ]
  },
  {
   "cell_type": "markdown",
   "metadata": {},
   "source": [
    "- We add the corresponding constraints and minimization function"
   ]
  },
  {
   "cell_type": "markdown",
   "metadata": {},
   "source": [
    "### Constraints"
   ]
  },
  {
   "cell_type": "code",
   "execution_count": 19,
   "metadata": {
    "collapsed": false
   },
   "outputs": [],
   "source": [
    "# All buses starting at bus 1\n",
    "vlow = 0.9\n",
    "vhigh = 1.1\n",
    "\n",
    "#Generators (buses 1-3 - includes slack)\n",
    "\n",
    "# generators cost coefficients\n",
    "a = [0.11, 0.085, 0.1225]\n",
    "b = [5, 1.2, 1.]\n",
    "c = [150., 600., 335.];\n",
    "\n",
    "# active power\n",
    "pgenmin = [10,10,10]\n",
    "pgenmax = [200,100,300]\n",
    "\n",
    "# reactive power\n",
    "qgenmin = [-300,-300,-300]\n",
    "qgenmax = [300,300,300]\n",
    "\n",
    "# Loads (buses 4-6)\n",
    "plconstraints = [-90, -100, -125]\n",
    "qlconstraints = [-30, -35, -50]\n",
    "\n",
    "# Lines\n",
    "\n",
    "l14constraint = 95"
   ]
  },
  {
   "cell_type": "markdown",
   "metadata": {},
   "source": [
    "### Solver"
   ]
  },
  {
   "cell_type": "code",
   "execution_count": 20,
   "metadata": {
    "collapsed": false
   },
   "outputs": [
    {
     "data": {
      "text/plain": [
       "12-element Array{Float64,1}:\n",
       " -5.60637e-33\n",
       " -0.00823517 \n",
       " -0.00424296 \n",
       " -0.00709477 \n",
       " -0.00820755 \n",
       " -0.00927922 \n",
       "  1.08973    \n",
       "  1.0946     \n",
       "  1.1        \n",
       "  1.07602    \n",
       "  1.07814    \n",
       "  1.07556    "
      ]
     },
     "execution_count": 20,
     "metadata": {},
     "output_type": "execute_result"
    }
   ],
   "source": [
    "# Initialize Ipopt Solver\n",
    "m = Model(solver=IpoptSolver(print_level=0))\n",
    "\n",
    "# Define our x variable\n",
    "@variable(m, x[1:12])\n",
    "\n",
    "# Set initial guess\n",
    "for i in 1:6\n",
    "    setvalue(x[i], 0.0)\n",
    "end\n",
    "\n",
    "for i in 7:12\n",
    "    setvalue(x[i], 1.0)\n",
    "end\n",
    "\n",
    "# Define power expression P = f(x)\n",
    "@NLexpression(m, pi[i=1:3], sum(x[i+6]*x[j+6]*(YR[i,j]*cos(x[i]-x[j])+\n",
    "            YI[i,j]*sin(x[i]-x[j])) for j = 1:6))\n",
    "\n",
    "# minimize generation costs\n",
    "@NLobjective(m, Min, sum(a[i]*pi[i]^2+b[i]*pi[i]+c[i] for i = 1:3))\n",
    "\n",
    "# slackbus reference angle\n",
    "@constraint(m, x[1] == 0)\n",
    "\n",
    "# All buses starting at bus 1\n",
    "                        \n",
    "@constraint(m, vmin[i=1:6], x[i+6] >= vlow)\n",
    "@constraint(m, vhig[i=1:6], x[i+6] <= vhigh)\n",
    "\n",
    "#Generators (buses 1-3 - includes slack)     \n",
    "                        \n",
    "#active power\n",
    "@NLconstraint(m, pgenminJP[i=1:3], sum(x[i+6]*x[j+6]*(YR[i,j]*cos(x[i]-x[j])+\n",
    "            YI[i,j]*sin(x[i]-x[j])) for j = 1:6) >= pgenmin[i])\n",
    "@NLconstraint(m, pgenmaxJP[i=1:3], sum(x[i+6]*x[j+6]*(YR[i,j]*cos(x[i]-x[j])+\n",
    "            YI[i,j]*sin(x[i]-x[j])) for j = 1:6) <= pgenmax[i])\n",
    "                                                \n",
    "#reactive power\n",
    "@NLconstraint(m, qgenminJP[i=1:3], sum(x[i+6]*x[j+6]*(YR[i,j]*sin(x[i]-x[j])-\n",
    "            YI[i,j]*cos(x[i]-x[j])) for j = 1:6) >= qgenmin[i])\n",
    "@NLconstraint(m, qgenmaxJP[i=1:3], sum(x[i+6]*x[j+6]*(YR[i,j]*sin(x[i]-x[j])-\n",
    "            YI[i,j]*cos(x[i]-x[j])) for j = 1:6) <= qgenmax[i])\n",
    "                                                                        \n",
    "\n",
    "#Loads (buses 4-6)  \n",
    "\n",
    "#active power constraints\n",
    "@NLconstraint(m, plconstr[i=1:3], sum(x[i+9]*x[j+6]*(YR[i+3,j]*cos(x[i+3]-x[j])+\n",
    "            YI[i+3,j]*sin(x[i+3]-x[j])) for j = 1:6) == plconstraints[i])\n",
    "\n",
    "#reactive power constraints\n",
    "@NLconstraint(m, qlconstr[i=1:3], sum(x[i+9]*x[j+6]*(YR[i+3,j]*sin(x[i+3]-x[j])-\n",
    "            YI[i+3,j]*cos(x[i+3]-x[j])) for j = 1:6) == qlconstraints[i])\n",
    "\n",
    "#line constraint\n",
    "\n",
    "@NLexpression(m, p14, x[1+6]*x[1+6]*YR[1,1] + x[1+6]*x[4+6]*(YR[1,4]*cos(x[1]-x[4])+YI[1,4]*sin(x[1]-x[4])))\n",
    "@NLexpression(m, q14, -x[1+6]*x[1+6]*YI[1,1] + x[1+6]*x[4+6]*(YR[1,4]*sin(x[1]-x[4])-YI[1,4]*cos(x[1]-x[4])))\n",
    "\n",
    "# line constraint must be in terms of complex power\n",
    "@NLexpression(m, s14sq, p14^2+q14^2)                                                                                                \n",
    "                                                                                       \n",
    "@NLconstraint(m, l14constrJP, s14sq <= l14constraint^2)\n",
    "                                                                                                \n",
    "solve(m)\n",
    "x_OPF = getvalue(x)"
   ]
  },
  {
   "cell_type": "code",
   "execution_count": 21,
   "metadata": {
    "collapsed": false
   },
   "outputs": [
    {
     "data": {
      "text/plain": [
       "5570.047199958679"
      ]
     },
     "execution_count": 21,
     "metadata": {},
     "output_type": "execute_result"
    }
   ],
   "source": [
    "getobjectivevalue(m)"
   ]
  },
  {
   "cell_type": "markdown",
   "metadata": {},
   "source": [
    "### Extracting relevant results\n",
    "\n",
    "In Optimal Power Flow, even though the output you get from the model is the phase angles and voltage magnitude, those are usually not the results that we are interested in. The results that we are more interested in are the active and reactive power flows of generators and the Locational Marginal Prices that loads and generators face. However we have to calculate such values."
   ]
  },
  {
   "cell_type": "markdown",
   "metadata": {},
   "source": [
    "#### Active and Reactive Power Flows"
   ]
  },
  {
   "cell_type": "code",
   "execution_count": 22,
   "metadata": {
    "collapsed": false
   },
   "outputs": [
    {
     "data": {
      "text/plain": [
       "6×2 Array{Float64,2}:\n",
       "   94.6902    7.66648\n",
       "  100.0      58.4722 \n",
       "  125.513    52.33   \n",
       "  -90.0     -30.0    \n",
       " -100.0     -35.0    \n",
       " -125.0     -50.0    "
      ]
     },
     "execution_count": 22,
     "metadata": {},
     "output_type": "execute_result"
    }
   ],
   "source": [
    "v_θ_jump = x_OPF[1:6]; v_jump = x_OPF[7:12]\n",
    "\n",
    "P_jp = zeros(6,6); Q_jp = zeros(6,6); \n",
    "P_jump = zeros(6); Q_jump = zeros(6); \n",
    "\n",
    "for i = 1:6, j = 1:6\n",
    "    P_jp[i,j] = v_jump[i]*v_jump[j]*(YR[i,j]*cos(v_θ_jump[i]-v_θ_jump[j]) + \n",
    "        YI[i,j]*sin(v_θ_jump[i]-v_θ_jump[j]))\n",
    "    Q_jp[i,j] = v_jump[i]*v_jump[j]*(YR[i,j]*sin(v_θ_jump[i]-v_θ_jump[j]) - \n",
    "        YI[i,j]*cos(v_θ_jump[i]-v_θ_jump[j]))\n",
    "end\n",
    "\n",
    "for i = 1:6\n",
    "    P_jump[i] = sum(P_jp[i,:])\n",
    "    Q_jump[i] = sum(Q_jp[i,:])\n",
    "end\n",
    "\n",
    "[P_jump Q_jump]"
   ]
  },
  {
   "cell_type": "markdown",
   "metadata": {},
   "source": [
    "#### Locational Marginal Prices"
   ]
  },
  {
   "cell_type": "markdown",
   "metadata": {},
   "source": [
    "Locational marginal prices are harder to calculate because they are related to the lagrangian and KKT multipliers from the constraints. However, JuMP is really smart and solves the dual constraint problem simultaneously.\n",
    "\n",
    "- For loads, LMPs are the langrange multipliers of the active power constraint\n",
    "    - LMP = λₚ\n",
    "    \n",
    "- For generators, LMPs are the langrange multipliers of the active power constraint + KKT multipliers of Pmin and Pmax constraints\n",
    "    - LMP = λₚ - μₗ + μₕ\n",
    "    - where λₚ = Marginal cost = MC(Pᵒᵖᵗ) \n",
    "    - MC(P) = 2*a*P + b \n"
   ]
  },
  {
   "cell_type": "code",
   "execution_count": 23,
   "metadata": {
    "collapsed": false
   },
   "outputs": [
    {
     "data": {
      "text/plain": [
       "6-element Array{Float64,1}:\n",
       " 25.8318\n",
       " 32.1407\n",
       " 31.7506\n",
       " 32.872 \n",
       " 32.8045\n",
       " 32.9602"
      ]
     },
     "execution_count": 23,
     "metadata": {},
     "output_type": "execute_result"
    }
   ],
   "source": [
    "LMP_jump = zeros(6)\n",
    "\n",
    "# For loads\n",
    "LMP_jump[4:6] = abs(getdual(plconstr))\n",
    "\n",
    "# For generators\n",
    "\n",
    "μ_pmin = getdual(pgenminJP)\n",
    "μ_pmax = abs(getdual(pgenmaxJP))\n",
    "\n",
    "for i = 1:3\n",
    "    LMP_jump[i] = 2*a[i]*P_jump[i]+b[i]-μ_pmin[i]+μ_pmax[i]\n",
    "end\n",
    "    \n",
    "LMP_jump"
   ]
  },
  {
   "cell_type": "markdown",
   "metadata": {},
   "source": [
    "### Results JuMP"
   ]
  },
  {
   "cell_type": "code",
   "execution_count": 24,
   "metadata": {
    "collapsed": false
   },
   "outputs": [
    {
     "data": {
      "text/html": [
       "<table class=\"data-frame\"><thead><tr><th></th><th>Bus</th><th>Voltage_pu</th><th>θ_deg</th><th>P_MW</th><th>Q_MW</th><th>LMP_JuMP</th></tr></thead><tbody><tr><th>1</th><td>1</td><td>1.089729748544749</td><td>-3.212213280053105e-31</td><td>94.690153166669</td><td>7.666477399926407</td><td>25.831833695336</td></tr><tr><th>2</th><td>2</td><td>1.0946022290235418</td><td>-0.4718404170299756</td><td>99.99999996753832</td><td>58.472176770997066</td><td>32.14073527638974</td></tr><tr><th>3</th><td>3</td><td>1.1000000098582219</td><td>-0.24310393216302847</td><td>125.51278928858392</td><td>52.32997411202996</td><td>31.75063337400616</td></tr><tr><th>4</th><td>4</td><td>1.0760193219271599</td><td>-0.40650023875230284</td><td>-89.99999999972351</td><td>-30.000000000035016</td><td>32.8719554222692</td></tr><tr><th>5</th><td>5</td><td>1.0781358323379941</td><td>-0.47025781502015285</td><td>-99.99999999949068</td><td>-35.00000000015871</td><td>32.80452639533041</td></tr><tr><th>6</th><td>6</td><td>1.0755573417968547</td><td>-0.5316603601786397</td><td>-124.99999999947795</td><td>-50.000000000027285</td><td>32.96024099031816</td></tr></tbody></table>"
      ],
      "text/plain": [
       "6×6 DataFrames.DataFrame\n",
       "│ Row │ Bus │ Voltage_pu │ θ_deg        │ P_MW    │ Q_MW    │ LMP_JuMP │\n",
       "├─────┼─────┼────────────┼──────────────┼─────────┼─────────┼──────────┤\n",
       "│ 1   │ 1   │ 1.08973    │ -3.21221e-31 │ 94.6902 │ 7.66648 │ 25.8318  │\n",
       "│ 2   │ 2   │ 1.0946     │ -0.47184     │ 100.0   │ 58.4722 │ 32.1407  │\n",
       "│ 3   │ 3   │ 1.1        │ -0.243104    │ 125.513 │ 52.33   │ 31.7506  │\n",
       "│ 4   │ 4   │ 1.07602    │ -0.4065      │ -90.0   │ -30.0   │ 32.872   │\n",
       "│ 5   │ 5   │ 1.07814    │ -0.470258    │ -100.0  │ -35.0   │ 32.8045  │\n",
       "│ 6   │ 6   │ 1.07556    │ -0.53166     │ -125.0  │ -50.0   │ 32.9602  │"
      ]
     },
     "execution_count": 24,
     "metadata": {},
     "output_type": "execute_result"
    }
   ],
   "source": [
    "JuMP_r = DataFrame(Bus = 1:6, Voltage_pu = v_jump, θ_deg = v_θ_jump*180/π, P_MW = P_jump, Q_MW = Q_jump, \n",
    "    LMP_JuMP = LMP_jump)"
   ]
  },
  {
   "cell_type": "markdown",
   "metadata": {},
   "source": [
    "### Results Matlab (attached in Github)"
   ]
  },
  {
   "cell_type": "markdown",
   "metadata": {},
   "source": [
    "- I performed the same simulation in matlab using commercial software Matpower and obtained the following results:"
   ]
  },
  {
   "cell_type": "code",
   "execution_count": 25,
   "metadata": {
    "collapsed": false
   },
   "outputs": [
    {
     "data": {
      "text/html": [
       "<table class=\"data-frame\"><thead><tr><th></th><th>Bus</th><th>Voltage_pu</th><th>θ_deg</th><th>P_MW</th><th>Q_MW</th><th>LMP_Matlab</th></tr></thead><tbody><tr><th>1</th><td>1</td><td>1.09</td><td>0.0</td><td>94.69</td><td>7.67</td><td>25.832</td></tr><tr><th>2</th><td>2</td><td>1.095</td><td>-0.472</td><td>100.0</td><td>58.47</td><td>32.141</td></tr><tr><th>3</th><td>3</td><td>1.1</td><td>-0.243</td><td>125.51</td><td>52.33</td><td>31.751</td></tr><tr><th>4</th><td>4</td><td>1.076</td><td>-0.407</td><td>-90.0</td><td>-30.0</td><td>32.872</td></tr><tr><th>5</th><td>5</td><td>1.078</td><td>-0.47</td><td>-100.0</td><td>-35.0</td><td>32.805</td></tr><tr><th>6</th><td>6</td><td>1.076</td><td>-0.532</td><td>-125.0</td><td>-50.0</td><td>32.96</td></tr></tbody></table>"
      ],
      "text/plain": [
       "6×6 DataFrames.DataFrame\n",
       "│ Row │ Bus │ Voltage_pu │ θ_deg  │ P_MW   │ Q_MW  │ LMP_Matlab │\n",
       "├─────┼─────┼────────────┼────────┼────────┼───────┼────────────┤\n",
       "│ 1   │ 1   │ 1.09       │ 0.0    │ 94.69  │ 7.67  │ 25.832     │\n",
       "│ 2   │ 2   │ 1.095      │ -0.472 │ 100.0  │ 58.47 │ 32.141     │\n",
       "│ 3   │ 3   │ 1.1        │ -0.243 │ 125.51 │ 52.33 │ 31.751     │\n",
       "│ 4   │ 4   │ 1.076      │ -0.407 │ -90.0  │ -30.0 │ 32.872     │\n",
       "│ 5   │ 5   │ 1.078      │ -0.47  │ -100.0 │ -35.0 │ 32.805     │\n",
       "│ 6   │ 6   │ 1.076      │ -0.532 │ -125.0 │ -50.0 │ 32.96      │"
      ]
     },
     "execution_count": 25,
     "metadata": {},
     "output_type": "execute_result"
    }
   ],
   "source": [
    "v_mat = [1.090,1.095,1.100,1.076, 1.078,1.076]; v_θ = [0.000,-0.472,-0.243,-0.407, -0.470,-0.532];\n",
    "p_mat = [94.69,100.00,125.51,-90.00,-100.00,-125.00]; q_mat = [7.67,58.47,52.33,-30.00, -35.00,-50.00];\n",
    "LMP_mat = [25.832,32.141,31.751,32.872,32.805,32.960]\n",
    "Matlab = DataFrame(Bus = 1:6, Voltage_pu = v_mat, θ_deg = v_θ, P_MW = p_mat, Q_MW = q_mat, LMP_Matlab = LMP_mat)"
   ]
  },
  {
   "cell_type": "markdown",
   "metadata": {},
   "source": [
    "Comparing Matpower from Matlab, we can see that the results are the same and the model works"
   ]
  },
  {
   "cell_type": "markdown",
   "metadata": {},
   "source": [
    "## 3. Market Power"
   ]
  },
  {
   "cell_type": "markdown",
   "metadata": {},
   "source": [
    "- In this exercise, I will show that when a generator can exert market power (manipulate prices) due to cheaper costs -could also be due to size-, they will seek to maximize profit and produce at levels suboptimal for society. \n",
    "\n",
    "\n",
    "- When left unregulated, generators with market power will withhold capacity to maximize profit, causing them to produce away from society's optimal point. This will create Deadweight Loss (DWL) that will be paid by ratepayers, justifying regulating generators with market power in markets.\n",
    "\n",
    "In order for this problem to work I will adjust the generator costs as shown below:"
   ]
  },
  {
   "cell_type": "code",
   "execution_count": 26,
   "metadata": {
    "collapsed": false
   },
   "outputs": [
    {
     "data": {
      "text/html": [
       "<?xml version=\"1.0\" encoding=\"utf-8\"?>\n",
       "<svg xmlns=\"http://www.w3.org/2000/svg\" xmlns:xlink=\"http://www.w3.org/1999/xlink\" width=\"600\" height=\"400\" viewBox=\"0 0 600 400\">\n",
       "<defs>\n",
       "  <clipPath id=\"clip00\">\n",
       "    <rect x=\"0\" y=\"0\" width=\"600\" height=\"400\"/>\n",
       "  </clipPath>\n",
       "</defs>\n",
       "<polygon clip-path=\"url(#clip00)\" points=\"\n",
       "0,400 600,400 600,0 0,0 \n",
       "  \" fill=\"#ffffff\" fill-opacity=\"1\"/>\n",
       "<defs>\n",
       "  <clipPath id=\"clip01\">\n",
       "    <rect x=\"120\" y=\"0\" width=\"421\" height=\"400\"/>\n",
       "  </clipPath>\n",
       "</defs>\n",
       "<polygon clip-path=\"url(#clip00)\" points=\"\n",
       "63.6592,369.674 596.063,369.674 596.063,3.93701 63.6592,3.93701 \n",
       "  \" fill=\"#ffffff\" fill-opacity=\"1\"/>\n",
       "<defs>\n",
       "  <clipPath id=\"clip02\">\n",
       "    <rect x=\"63\" y=\"3\" width=\"533\" height=\"366\"/>\n",
       "  </clipPath>\n",
       "</defs>\n",
       "<polyline clip-path=\"url(#clip02)\" style=\"stroke:#00002d; stroke-width:0.8; stroke-opacity:0.5; fill:none\" stroke-dasharray=\"1, 2\" points=\"\n",
       "  63.6592,364.188 63.6592,9.42306 \n",
       "  \"/>\n",
       "<polyline clip-path=\"url(#clip02)\" style=\"stroke:#00002d; stroke-width:0.8; stroke-opacity:0.5; fill:none\" stroke-dasharray=\"1, 2\" points=\"\n",
       "  220.249,364.188 220.249,9.42306 \n",
       "  \"/>\n",
       "<polyline clip-path=\"url(#clip02)\" style=\"stroke:#00002d; stroke-width:0.8; stroke-opacity:0.5; fill:none\" stroke-dasharray=\"1, 2\" points=\"\n",
       "  376.838,364.188 376.838,9.42306 \n",
       "  \"/>\n",
       "<polyline clip-path=\"url(#clip02)\" style=\"stroke:#00002d; stroke-width:0.8; stroke-opacity:0.5; fill:none\" stroke-dasharray=\"1, 2\" points=\"\n",
       "  533.427,364.188 533.427,9.42306 \n",
       "  \"/>\n",
       "<polyline clip-path=\"url(#clip02)\" style=\"stroke:#00002d; stroke-width:0.8; stroke-opacity:0.5; fill:none\" stroke-dasharray=\"1, 2\" points=\"\n",
       "  71.6453,358.917 588.077,358.917 \n",
       "  \"/>\n",
       "<polyline clip-path=\"url(#clip02)\" style=\"stroke:#00002d; stroke-width:0.8; stroke-opacity:0.5; fill:none\" stroke-dasharray=\"1, 2\" points=\"\n",
       "  71.6453,251.347 588.077,251.347 \n",
       "  \"/>\n",
       "<polyline clip-path=\"url(#clip02)\" style=\"stroke:#00002d; stroke-width:0.8; stroke-opacity:0.5; fill:none\" stroke-dasharray=\"1, 2\" points=\"\n",
       "  71.6453,143.778 588.077,143.778 \n",
       "  \"/>\n",
       "<polyline clip-path=\"url(#clip02)\" style=\"stroke:#00002d; stroke-width:0.8; stroke-opacity:0.5; fill:none\" stroke-dasharray=\"1, 2\" points=\"\n",
       "  71.6453,36.2079 588.077,36.2079 \n",
       "  \"/>\n",
       "<polyline clip-path=\"url(#clip02)\" style=\"stroke:#00002d; stroke-width:0.8; stroke-opacity:1; fill:none\" points=\"\n",
       "  63.6592,369.674 596.063,369.674 \n",
       "  \"/>\n",
       "<polyline clip-path=\"url(#clip02)\" style=\"stroke:#00002d; stroke-width:0.8; stroke-opacity:1; fill:none\" points=\"\n",
       "  63.6592,369.674 63.6592,364.188 \n",
       "  \"/>\n",
       "<polyline clip-path=\"url(#clip02)\" style=\"stroke:#00002d; stroke-width:0.8; stroke-opacity:1; fill:none\" points=\"\n",
       "  220.249,369.674 220.249,364.188 \n",
       "  \"/>\n",
       "<polyline clip-path=\"url(#clip02)\" style=\"stroke:#00002d; stroke-width:0.8; stroke-opacity:1; fill:none\" points=\"\n",
       "  376.838,369.674 376.838,364.188 \n",
       "  \"/>\n",
       "<polyline clip-path=\"url(#clip02)\" style=\"stroke:#00002d; stroke-width:0.8; stroke-opacity:1; fill:none\" points=\"\n",
       "  533.427,369.674 533.427,364.188 \n",
       "  \"/>\n",
       "<polyline clip-path=\"url(#clip02)\" style=\"stroke:#00002d; stroke-width:0.8; stroke-opacity:1; fill:none\" points=\"\n",
       "  63.6592,369.674 63.6592,3.93701 \n",
       "  \"/>\n",
       "<polyline clip-path=\"url(#clip02)\" style=\"stroke:#00002d; stroke-width:0.8; stroke-opacity:1; fill:none\" points=\"\n",
       "  63.6592,358.917 71.6453,358.917 \n",
       "  \"/>\n",
       "<polyline clip-path=\"url(#clip02)\" style=\"stroke:#00002d; stroke-width:0.8; stroke-opacity:1; fill:none\" points=\"\n",
       "  63.6592,251.347 71.6453,251.347 \n",
       "  \"/>\n",
       "<polyline clip-path=\"url(#clip02)\" style=\"stroke:#00002d; stroke-width:0.8; stroke-opacity:1; fill:none\" points=\"\n",
       "  63.6592,143.778 71.6453,143.778 \n",
       "  \"/>\n",
       "<polyline clip-path=\"url(#clip02)\" style=\"stroke:#00002d; stroke-width:0.8; stroke-opacity:1; fill:none\" points=\"\n",
       "  63.6592,36.2079 71.6453,36.2079 \n",
       "  \"/>\n",
       "<g clip-path=\"url(#clip00)\">\n",
       "<text style=\"fill:#00002d; fill-opacity:1; font-family:Arial,Helvetica Neue,Helvetica,sans-serif; font-size:12; text-anchor:middle;\" transform=\"rotate(0, 63.6592, 381.674)\" x=\"63.6592\" y=\"381.674\">0</text>\n",
       "</g>\n",
       "<g clip-path=\"url(#clip00)\">\n",
       "<text style=\"fill:#00002d; fill-opacity:1; font-family:Arial,Helvetica Neue,Helvetica,sans-serif; font-size:12; text-anchor:middle;\" transform=\"rotate(0, 220.249, 381.674)\" x=\"220.249\" y=\"381.674\">100</text>\n",
       "</g>\n",
       "<g clip-path=\"url(#clip00)\">\n",
       "<text style=\"fill:#00002d; fill-opacity:1; font-family:Arial,Helvetica Neue,Helvetica,sans-serif; font-size:12; text-anchor:middle;\" transform=\"rotate(0, 376.838, 381.674)\" x=\"376.838\" y=\"381.674\">200</text>\n",
       "</g>\n",
       "<g clip-path=\"url(#clip00)\">\n",
       "<text style=\"fill:#00002d; fill-opacity:1; font-family:Arial,Helvetica Neue,Helvetica,sans-serif; font-size:12; text-anchor:middle;\" transform=\"rotate(0, 533.427, 381.674)\" x=\"533.427\" y=\"381.674\">300</text>\n",
       "</g>\n",
       "<g clip-path=\"url(#clip00)\">\n",
       "<text style=\"fill:#00002d; fill-opacity:1; font-family:Arial,Helvetica Neue,Helvetica,sans-serif; font-size:12; text-anchor:end;\" transform=\"rotate(0, 62.4592, 363.417)\" x=\"62.4592\" y=\"363.417\">0</text>\n",
       "</g>\n",
       "<g clip-path=\"url(#clip00)\">\n",
       "<text style=\"fill:#00002d; fill-opacity:1; font-family:Arial,Helvetica Neue,Helvetica,sans-serif; font-size:12; text-anchor:end;\" transform=\"rotate(0, 62.4592, 255.847)\" x=\"62.4592\" y=\"255.847\">10000</text>\n",
       "</g>\n",
       "<g clip-path=\"url(#clip00)\">\n",
       "<text style=\"fill:#00002d; fill-opacity:1; font-family:Arial,Helvetica Neue,Helvetica,sans-serif; font-size:12; text-anchor:end;\" transform=\"rotate(0, 62.4592, 148.278)\" x=\"62.4592\" y=\"148.278\">20000</text>\n",
       "</g>\n",
       "<g clip-path=\"url(#clip00)\">\n",
       "<text style=\"fill:#00002d; fill-opacity:1; font-family:Arial,Helvetica Neue,Helvetica,sans-serif; font-size:12; text-anchor:end;\" transform=\"rotate(0, 62.4592, 40.7079)\" x=\"62.4592\" y=\"40.7079\">30000</text>\n",
       "</g>\n",
       "<g clip-path=\"url(#clip00)\">\n",
       "<text style=\"fill:#00002d; fill-opacity:1; font-family:Arial,Helvetica Neue,Helvetica,sans-serif; font-size:16; text-anchor:middle;\" transform=\"rotate(0, 329.861, 397.6)\" x=\"329.861\" y=\"397.6\">Power (MW)</text>\n",
       "</g>\n",
       "<g clip-path=\"url(#clip00)\">\n",
       "<text style=\"fill:#00002d; fill-opacity:1; font-family:Arial,Helvetica Neue,Helvetica,sans-serif; font-size:16; text-anchor:middle;\" transform=\"rotate(-90, 14.4, 186.806)\" x=\"14.4\" y=\"186.806\">Generation Costs (dollars/hr)</text>\n",
       "</g>\n",
       "<polyline clip-path=\"url(#clip02)\" style=\"stroke:#0099ff; stroke-width:0.8; stroke-opacity:1; fill:none\" points=\"\n",
       "  68.2469,347.979 110.667,344.122 136.159,339.905 157.712,335.228 181.126,328.992 202.711,322.178 225.852,313.738 252.663,302.49 276.49,291.171 297.384,280.22 \n",
       "  320.164,267.19 343.079,252.934 368.415,235.831 392.522,218.251 417.587,198.62 438.687,181.026 464.447,158.223 488.662,135.46 527.457,96.3108 \n",
       "  \"/>\n",
       "<polyline clip-path=\"url(#clip02)\" style=\"stroke:#e9746a; stroke-width:0.8; stroke-opacity:1; fill:none\" points=\"\n",
       "  68.8586,346.811 116.934,342.032 145.826,337.21 170.253,331.99 196.788,325.132 221.251,317.716 247.477,308.599 277.864,296.526 304.867,284.437 328.547,272.784 \n",
       "  354.365,258.957 380.336,243.868 409.05,225.807 436.37,207.28 464.778,186.627 488.69,168.143 517.885,144.217 545.329,120.361 589.297,79.3884 \n",
       "  \"/>\n",
       "<polyline clip-path=\"url(#clip02)\" style=\"stroke:#3cb370; stroke-width:0.8; stroke-opacity:1; fill:none\" points=\"\n",
       "  68.8586,357.8 116.934,356.853 145.826,355.796 170.253,354.617 196.788,353.039 221.251,351.311 247.477,349.167 277.864,346.305 304.867,343.422 328.547,340.631 \n",
       "  354.365,337.307 380.336,333.669 409.05,329.302 436.37,324.811 464.778,319.794 488.69,315.296 517.885,309.465 545.329,303.642 589.297,293.626 \n",
       "  \"/>\n",
       "<polygon clip-path=\"url(#clip00)\" points=\"\n",
       "363.942,85.297 578.063,85.297 578.063,24.817 363.942,24.817 \n",
       "  \" fill=\"#ffffff\" fill-opacity=\"1\"/>\n",
       "<polyline clip-path=\"url(#clip00)\" style=\"stroke:#00002d; stroke-width:0.8; stroke-opacity:1; fill:none\" points=\"\n",
       "  363.942,85.297 578.063,85.297 578.063,24.817 363.942,24.817 363.942,85.297 \n",
       "  \"/>\n",
       "<polyline clip-path=\"url(#clip00)\" style=\"stroke:#0099ff; stroke-width:0.8; stroke-opacity:1; fill:none\" points=\"\n",
       "  369.942,39.937 405.942,39.937 \n",
       "  \"/>\n",
       "<g clip-path=\"url(#clip00)\">\n",
       "<text style=\"fill:#00002d; fill-opacity:1; font-family:Arial,Helvetica Neue,Helvetica,sans-serif; font-size:12; text-anchor:start;\" transform=\"rotate(0, 411.942, 44.437)\" x=\"411.942\" y=\"44.437\">Generator 1</text>\n",
       "</g>\n",
       "<polyline clip-path=\"url(#clip00)\" style=\"stroke:#e9746a; stroke-width:0.8; stroke-opacity:1; fill:none\" points=\"\n",
       "  369.942,55.057 405.942,55.057 \n",
       "  \"/>\n",
       "<g clip-path=\"url(#clip00)\">\n",
       "<text style=\"fill:#00002d; fill-opacity:1; font-family:Arial,Helvetica Neue,Helvetica,sans-serif; font-size:12; text-anchor:start;\" transform=\"rotate(0, 411.942, 59.557)\" x=\"411.942\" y=\"59.557\">Generator 2</text>\n",
       "</g>\n",
       "<polyline clip-path=\"url(#clip00)\" style=\"stroke:#3cb370; stroke-width:0.8; stroke-opacity:1; fill:none\" points=\"\n",
       "  369.942,70.177 405.942,70.177 \n",
       "  \"/>\n",
       "<g clip-path=\"url(#clip00)\">\n",
       "<text style=\"fill:#00002d; fill-opacity:1; font-family:Arial,Helvetica Neue,Helvetica,sans-serif; font-size:12; text-anchor:start;\" transform=\"rotate(0, 411.942, 74.677)\" x=\"411.942\" y=\"74.677\">Generator with Market Power</text>\n",
       "</g>\n",
       "</svg>\n"
      ]
     },
     "execution_count": 26,
     "metadata": {},
     "output_type": "execute_result"
    }
   ],
   "source": [
    "# generator cost functions\n",
    "f1(x) = 0.25*x^2 + 5*x + 1000\n",
    "f2(x) = 0.20*x^2 + 7*x + 1100\n",
    "f3(x) = 0.05*x^2 + 1*x + 100\n",
    "\n",
    "plot(f1,0,300, label = \"Generator 1\", xlabel = \"Power (MW)\", ylabel = \"Generation Costs (dollars/hr)\",\n",
    " xlims = (0, 340),ylims = (-1000,33000))\n",
    "plot!(f2, label = \"Generator 2\")\n",
    "plot!(f3, label = \"Generator with Market Power\")"
   ]
  },
  {
   "cell_type": "markdown",
   "metadata": {},
   "source": [
    "#### The steps to show the impact of market power will be the following:\n",
    "- Build an AC OPF algorithm\n",
    "- Determine the optimal social point by optimizing the power system without restrictions - optimal power flows, generator profit and systemwide costs.\n",
    "- Run power flow simulations withholding generation capacity from the generator with market power\n",
    "- Calculate the new optimal power flow, generator profit, systemwide costs and DWL\n",
    "- Determine the optimal operation point for the generator based on profit maximizing\n",
    "- Determine the associated DWL to society based on the generator profit-maximizing"
   ]
  },
  {
   "cell_type": "markdown",
   "metadata": {
    "collapsed": true
   },
   "source": [
    "### Market Power function"
   ]
  },
  {
   "cell_type": "markdown",
   "metadata": {},
   "source": [
    "- Define a function that takes as input the Power of the generator with market power and calculates system total costs, locational marginal prices and active power flows"
   ]
  },
  {
   "cell_type": "code",
   "execution_count": 27,
   "metadata": {
    "collapsed": false
   },
   "outputs": [
    {
     "data": {
      "text/plain": [
       "mrkt_power (generic function with 1 method)"
      ]
     },
     "execution_count": 27,
     "metadata": {},
     "output_type": "execute_result"
    }
   ],
   "source": [
    "function mrkt_power(P_cheap)\n",
    "\n",
    "# All buses starting at bus 1\n",
    "vlow = 0.9\n",
    "vhigh = 1.1\n",
    "\n",
    "#Generators (buses 1-3 - includes slack)\n",
    "\n",
    "# generators cost coefficients\n",
    "a = [0.25, 0.20, 0.05]\n",
    "b = [5., 7., 1.]\n",
    "c = [1000., 1100., 100.]\n",
    "\n",
    "# active power\n",
    "pgenmin = [10,10,10]\n",
    "pgenmax = [600,600,P_cheap]\n",
    "\n",
    "# reactive power\n",
    "qgenmin = [-300,-300,-300]\n",
    "qgenmax = [300,300,300]\n",
    "\n",
    "# Loads (buses 4-6)\n",
    "plconstraints = [-150, -150, -150]\n",
    "qlconstraints = [-30, -35, -50]\n",
    "\n",
    "l14constraint = 95    \n",
    "    \n",
    "# Initialize Ipopt Solver\n",
    "m = Model(solver=IpoptSolver(print_level=0))\n",
    "\n",
    "# Define our x variable\n",
    "@variable(m, x[1:12])\n",
    "\n",
    "# Set initial guess\n",
    "for i in 1:6\n",
    "    setvalue(x[i], 0.0)\n",
    "end\n",
    "\n",
    "for i in 7:12\n",
    "    setvalue(x[i], 1.0)\n",
    "end\n",
    "\n",
    "# Define power expression P = f(x)\n",
    "@NLexpression(m, pi[i=1:3], sum(x[i+6]*x[j+6]*(YR[i,j]*cos(x[i]-x[j])+\n",
    "            YI[i,j]*sin(x[i]-x[j])) for j = 1:6))\n",
    "\n",
    "# minimize generation costs\n",
    "@NLobjective(m, Min, sum(a[i]*pi[i]^2+b[i]*pi[i]+c[i] for i = 1:3))\n",
    "\n",
    "# slackbus reference angle\n",
    "@constraint(m, x[1] == 0)\n",
    "\n",
    "# All buses starting at bus 1\n",
    "                        \n",
    "@constraint(m, vmin[i=1:6], x[i+6] >= vlow)\n",
    "@constraint(m, vhig[i=1:6], x[i+6] <= vhigh)\n",
    "\n",
    "#Generators (buses 1-3 - includes slack)     \n",
    "                        \n",
    "#active power\n",
    "@NLconstraint(m, pgenminJP[i=1:3], sum(x[i+6]*x[j+6]*(YR[i,j]*cos(x[i]-x[j])+\n",
    "            YI[i,j]*sin(x[i]-x[j])) for j = 1:6) >= pgenmin[i])\n",
    "@NLconstraint(m, pgenmaxJP[i=1:3], sum(x[i+6]*x[j+6]*(YR[i,j]*cos(x[i]-x[j])+\n",
    "            YI[i,j]*sin(x[i]-x[j])) for j = 1:6) <= pgenmax[i])\n",
    "                                                \n",
    "#reactive power\n",
    "@NLconstraint(m, qgenminJP[i=1:3], sum(x[i+6]*x[j+6]*(YR[i,j]*sin(x[i]-x[j])-\n",
    "            YI[i,j]*cos(x[i]-x[j])) for j = 1:6) >= qgenmin[i])\n",
    "@NLconstraint(m, qgenmaxJP[i=1:3], sum(x[i+6]*x[j+6]*(YR[i,j]*sin(x[i]-x[j])-\n",
    "            YI[i,j]*cos(x[i]-x[j])) for j = 1:6) <= qgenmax[i])\n",
    "                                                                        \n",
    "\n",
    "#Loads (buses 4-6)  \n",
    "\n",
    "#active power constraints\n",
    "@NLconstraint(m, plconstr[i=1:3], sum(x[i+9]*x[j+6]*(YR[i+3,j]*cos(x[i+3]-x[j])+\n",
    "            YI[i+3,j]*sin(x[i+3]-x[j])) for j = 1:6) == plconstraints[i])\n",
    "\n",
    "#reactive power constraints\n",
    "@NLconstraint(m, qlconstr[i=1:3], sum(x[i+9]*x[j+6]*(YR[i+3,j]*sin(x[i+3]-x[j])-\n",
    "            YI[i+3,j]*cos(x[i+3]-x[j])) for j = 1:6) == qlconstraints[i])\n",
    "\n",
    "#line constraint\n",
    "\n",
    "@NLexpression(m, p14, x[1+6]*x[1+6]*YR[1,1] + x[1+6]*x[4+6]*(YR[1,4]*cos(x[1]-x[4])+YI[1,4]*sin(x[1]-x[4])))\n",
    "@NLexpression(m, q14, -x[1+6]*x[1+6]*YI[1,1] + x[1+6]*x[4+6]*(YR[1,4]*sin(x[1]-x[4])-YI[1,4]*cos(x[1]-x[4])))\n",
    "\n",
    "# line constraint must be in terms of complex power\n",
    "@NLconstraint(m, s14sq, p14^2+q14^2 <= l14constraint^2)                                                                                                \n",
    "                                                                                                \n",
    "solve(m)\n",
    "x_OPF = getvalue(x)\n",
    "\n",
    "v_θ_jump = x_OPF[1:6]; v_jump = x_OPF[7:12]\n",
    "\n",
    "P_jp = zeros(6,6); Q_jp = zeros(6,6); \n",
    "P_jump = zeros(6); Q_jump = zeros(6); \n",
    "\n",
    "for i = 1:6, j = 1:6\n",
    "    P_jp[i,j] = v_jump[i]*v_jump[j]*(YR[i,j]*cos(v_θ_jump[i]-v_θ_jump[j]) + \n",
    "        YI[i,j]*sin(v_θ_jump[i]-v_θ_jump[j]))\n",
    "    Q_jp[i,j] = v_jump[i]*v_jump[j]*(YR[i,j]*sin(v_θ_jump[i]-v_θ_jump[j]) - \n",
    "        YI[i,j]*cos(v_θ_jump[i]-v_θ_jump[j]))\n",
    "end\n",
    "\n",
    "for i = 1:6\n",
    "    P_jump[i] = sum(P_jp[i,:])\n",
    "    Q_jump[i] = sum(Q_jp[i,:])\n",
    "end\n",
    "\n",
    "LMP_jump = zeros(6)\n",
    "\n",
    "# For loads\n",
    "LMP_jump[4:6] = abs(getdual(plconstr))\n",
    "\n",
    "# For generators\n",
    "\n",
    "μ_pmin = getdual(pgenminJP)\n",
    "μ_pmax = abs(getdual(pgenmaxJP))\n",
    "\n",
    "for i = 1:3\n",
    "    LMP_jump[i] = 2*a[i]*P_jump[i]+b[i]-μ_pmin[i]+μ_pmax[i]\n",
    "end\n",
    "                                                                                                    \n",
    "obj = getobjectivevalue(m)\n",
    "                                                                                                    \n",
    "return P_jump, Q_jump, LMP_jump, obj, x_OPF                                                                                                    \n",
    "                                                                                                    \n",
    "end                                                                                               "
   ]
  },
  {
   "cell_type": "markdown",
   "metadata": {},
   "source": [
    "### Determine the Social Optimal Scenario"
   ]
  },
  {
   "cell_type": "code",
   "execution_count": 28,
   "metadata": {
    "collapsed": false
   },
   "outputs": [
    {
     "name": "stdout",
     "output_type": "stream",
     "text": [
      "The optimal production of the generator with market power is 328.14 MW\n",
      "The total cost of generation the 10908.44 dollars/hr\n",
      "The Deadweight loss is 0 dollars/hr\n"
     ]
    }
   ],
   "source": [
    "(P_opt, Q_opt, LMP_opt, optval)  = mrkt_power(600)\n",
    "\n",
    "gen_p = round(P_opt[3],2)\n",
    "optval = round(optval,2)\n",
    "\n",
    "println(\"The optimal production of the generator with market power is $gen_p MW\")\n",
    "println(\"The total cost of generation the $optval dollars/hr\")\n",
    "println(\"The Deadweight loss is 0 dollars/hr\")"
   ]
  },
  {
   "cell_type": "markdown",
   "metadata": {},
   "source": [
    "### Run the simulation with different levels of production for generator with market power"
   ]
  },
  {
   "cell_type": "code",
   "execution_count": 29,
   "metadata": {
    "collapsed": false
   },
   "outputs": [],
   "source": [
    "P_iter = 10:2:328\n",
    "\n",
    "length = size(P_iter)[1]\n",
    "\n",
    "P_run = zeros(length,6)\n",
    "Q_run = zeros(length, 6)\n",
    "LMP_run = zeros(length, 6)\n",
    "obj_run = zeros(length)\n",
    "\n",
    "c = 0\n",
    "\n",
    "for i in P_iter\n",
    "    c = c + 1\n",
    "    (P, Q, LMP, obj)  = mrkt_power(i)\n",
    "    P_run[c,:] = P\n",
    "    Q_run[c,:] = Q\n",
    "    LMP_run[c,:] = LMP\n",
    "    obj_run[c] = obj\n",
    "end"
   ]
  },
  {
   "cell_type": "markdown",
   "metadata": {},
   "source": [
    "- Determine the costs, revenue & profit of Generator with market power at different levels of production along with the associated DWL"
   ]
  },
  {
   "cell_type": "code",
   "execution_count": 30,
   "metadata": {
    "collapsed": false
   },
   "outputs": [],
   "source": [
    "# Revenue = PQ = locational marginal prices x production level of generator\n",
    "rev_gen = LMP_run[:,3].*P_run[:,3]\n",
    "\n",
    "# Cost = generation cost function evaluated at production level\n",
    "costs_gen = f3.(P_run[:,3]);\n",
    "\n",
    "# Profit = Revenue - Costs\n",
    "profit_gen = rev_gen - costs_gen\n",
    "\n",
    "# Optimal generation point = profit maximizing generation level\n",
    "gen_opt_ind = indmax(profit_gen)\n",
    "gen_opt_P = round(P_run[gen_opt_ind,3], 2)\n",
    "\n",
    "# DWL = associated system-wide costs - system-wide costs at society's optimal point\n",
    "gen_opt_DWL = round(obj_run[gen_opt_ind]-optval,2);"
   ]
  },
  {
   "cell_type": "markdown",
   "metadata": {},
   "source": [
    "### Profit Maximization of generator with market power"
   ]
  },
  {
   "cell_type": "code",
   "execution_count": 31,
   "metadata": {
    "collapsed": false
   },
   "outputs": [
    {
     "data": {
      "text/html": [
       "<?xml version=\"1.0\" encoding=\"utf-8\"?>\n",
       "<svg xmlns=\"http://www.w3.org/2000/svg\" xmlns:xlink=\"http://www.w3.org/1999/xlink\" width=\"600\" height=\"400\" viewBox=\"0 0 600 400\">\n",
       "<defs>\n",
       "  <clipPath id=\"clip00\">\n",
       "    <rect x=\"0\" y=\"0\" width=\"600\" height=\"400\"/>\n",
       "  </clipPath>\n",
       "</defs>\n",
       "<polygon clip-path=\"url(#clip00)\" points=\"\n",
       "0,400 600,400 600,0 0,0 \n",
       "  \" fill=\"#ffffff\" fill-opacity=\"1\"/>\n",
       "<defs>\n",
       "  <clipPath id=\"clip01\">\n",
       "    <rect x=\"120\" y=\"0\" width=\"421\" height=\"400\"/>\n",
       "  </clipPath>\n",
       "</defs>\n",
       "<polygon clip-path=\"url(#clip00)\" points=\"\n",
       "63.6592,369.674 596.063,369.674 596.063,23.3815 63.6592,23.3815 \n",
       "  \" fill=\"#ffffff\" fill-opacity=\"1\"/>\n",
       "<defs>\n",
       "  <clipPath id=\"clip02\">\n",
       "    <rect x=\"63\" y=\"23\" width=\"533\" height=\"347\"/>\n",
       "  </clipPath>\n",
       "</defs>\n",
       "<polyline clip-path=\"url(#clip02)\" style=\"stroke:#00002d; stroke-width:0.8; stroke-opacity:0.5; fill:none\" stroke-dasharray=\"1, 2\" points=\"\n",
       "  95.9261,364.48 95.9261,28.5758 \n",
       "  \"/>\n",
       "<polyline clip-path=\"url(#clip02)\" style=\"stroke:#00002d; stroke-width:0.8; stroke-opacity:0.5; fill:none\" stroke-dasharray=\"1, 2\" points=\"\n",
       "  144.326,364.48 144.326,28.5758 \n",
       "  \"/>\n",
       "<polyline clip-path=\"url(#clip02)\" style=\"stroke:#00002d; stroke-width:0.8; stroke-opacity:0.5; fill:none\" stroke-dasharray=\"1, 2\" points=\"\n",
       "  192.727,364.48 192.727,28.5758 \n",
       "  \"/>\n",
       "<polyline clip-path=\"url(#clip02)\" style=\"stroke:#00002d; stroke-width:0.8; stroke-opacity:0.5; fill:none\" stroke-dasharray=\"1, 2\" points=\"\n",
       "  241.127,364.48 241.127,28.5758 \n",
       "  \"/>\n",
       "<polyline clip-path=\"url(#clip02)\" style=\"stroke:#00002d; stroke-width:0.8; stroke-opacity:0.5; fill:none\" stroke-dasharray=\"1, 2\" points=\"\n",
       "  289.527,364.48 289.527,28.5758 \n",
       "  \"/>\n",
       "<polyline clip-path=\"url(#clip02)\" style=\"stroke:#00002d; stroke-width:0.8; stroke-opacity:0.5; fill:none\" stroke-dasharray=\"1, 2\" points=\"\n",
       "  337.928,364.48 337.928,28.5758 \n",
       "  \"/>\n",
       "<polyline clip-path=\"url(#clip02)\" style=\"stroke:#00002d; stroke-width:0.8; stroke-opacity:0.5; fill:none\" stroke-dasharray=\"1, 2\" points=\"\n",
       "  386.328,364.48 386.328,28.5758 \n",
       "  \"/>\n",
       "<polyline clip-path=\"url(#clip02)\" style=\"stroke:#00002d; stroke-width:0.8; stroke-opacity:0.5; fill:none\" stroke-dasharray=\"1, 2\" points=\"\n",
       "  434.729,364.48 434.729,28.5758 \n",
       "  \"/>\n",
       "<polyline clip-path=\"url(#clip02)\" style=\"stroke:#00002d; stroke-width:0.8; stroke-opacity:0.5; fill:none\" stroke-dasharray=\"1, 2\" points=\"\n",
       "  483.129,364.48 483.129,28.5758 \n",
       "  \"/>\n",
       "<polyline clip-path=\"url(#clip02)\" style=\"stroke:#00002d; stroke-width:0.8; stroke-opacity:0.5; fill:none\" stroke-dasharray=\"1, 2\" points=\"\n",
       "  531.529,364.48 531.529,28.5758 \n",
       "  \"/>\n",
       "<polyline clip-path=\"url(#clip02)\" style=\"stroke:#00002d; stroke-width:0.8; stroke-opacity:0.5; fill:none\" stroke-dasharray=\"1, 2\" points=\"\n",
       "  579.93,364.48 579.93,28.5758 \n",
       "  \"/>\n",
       "<polyline clip-path=\"url(#clip02)\" style=\"stroke:#00002d; stroke-width:0.8; stroke-opacity:0.5; fill:none\" stroke-dasharray=\"1, 2\" points=\"\n",
       "  71.6453,354.618 588.077,354.618 \n",
       "  \"/>\n",
       "<polyline clip-path=\"url(#clip02)\" style=\"stroke:#00002d; stroke-width:0.8; stroke-opacity:0.5; fill:none\" stroke-dasharray=\"1, 2\" points=\"\n",
       "  71.6453,279.337 588.077,279.337 \n",
       "  \"/>\n",
       "<polyline clip-path=\"url(#clip02)\" style=\"stroke:#00002d; stroke-width:0.8; stroke-opacity:0.5; fill:none\" stroke-dasharray=\"1, 2\" points=\"\n",
       "  71.6453,204.056 588.077,204.056 \n",
       "  \"/>\n",
       "<polyline clip-path=\"url(#clip02)\" style=\"stroke:#00002d; stroke-width:0.8; stroke-opacity:0.5; fill:none\" stroke-dasharray=\"1, 2\" points=\"\n",
       "  71.6453,128.775 588.077,128.775 \n",
       "  \"/>\n",
       "<polyline clip-path=\"url(#clip02)\" style=\"stroke:#00002d; stroke-width:0.8; stroke-opacity:0.5; fill:none\" stroke-dasharray=\"1, 2\" points=\"\n",
       "  71.6453,53.4939 588.077,53.4939 \n",
       "  \"/>\n",
       "<polyline clip-path=\"url(#clip02)\" style=\"stroke:#00002d; stroke-width:0.8; stroke-opacity:1; fill:none\" points=\"\n",
       "  63.6592,369.674 596.063,369.674 \n",
       "  \"/>\n",
       "<polyline clip-path=\"url(#clip02)\" style=\"stroke:#00002d; stroke-width:0.8; stroke-opacity:1; fill:none\" points=\"\n",
       "  95.9261,369.674 95.9261,364.48 \n",
       "  \"/>\n",
       "<polyline clip-path=\"url(#clip02)\" style=\"stroke:#00002d; stroke-width:0.8; stroke-opacity:1; fill:none\" points=\"\n",
       "  144.326,369.674 144.326,364.48 \n",
       "  \"/>\n",
       "<polyline clip-path=\"url(#clip02)\" style=\"stroke:#00002d; stroke-width:0.8; stroke-opacity:1; fill:none\" points=\"\n",
       "  192.727,369.674 192.727,364.48 \n",
       "  \"/>\n",
       "<polyline clip-path=\"url(#clip02)\" style=\"stroke:#00002d; stroke-width:0.8; stroke-opacity:1; fill:none\" points=\"\n",
       "  241.127,369.674 241.127,364.48 \n",
       "  \"/>\n",
       "<polyline clip-path=\"url(#clip02)\" style=\"stroke:#00002d; stroke-width:0.8; stroke-opacity:1; fill:none\" points=\"\n",
       "  289.527,369.674 289.527,364.48 \n",
       "  \"/>\n",
       "<polyline clip-path=\"url(#clip02)\" style=\"stroke:#00002d; stroke-width:0.8; stroke-opacity:1; fill:none\" points=\"\n",
       "  337.928,369.674 337.928,364.48 \n",
       "  \"/>\n",
       "<polyline clip-path=\"url(#clip02)\" style=\"stroke:#00002d; stroke-width:0.8; stroke-opacity:1; fill:none\" points=\"\n",
       "  386.328,369.674 386.328,364.48 \n",
       "  \"/>\n",
       "<polyline clip-path=\"url(#clip02)\" style=\"stroke:#00002d; stroke-width:0.8; stroke-opacity:1; fill:none\" points=\"\n",
       "  434.729,369.674 434.729,364.48 \n",
       "  \"/>\n",
       "<polyline clip-path=\"url(#clip02)\" style=\"stroke:#00002d; stroke-width:0.8; stroke-opacity:1; fill:none\" points=\"\n",
       "  483.129,369.674 483.129,364.48 \n",
       "  \"/>\n",
       "<polyline clip-path=\"url(#clip02)\" style=\"stroke:#00002d; stroke-width:0.8; stroke-opacity:1; fill:none\" points=\"\n",
       "  531.529,369.674 531.529,364.48 \n",
       "  \"/>\n",
       "<polyline clip-path=\"url(#clip02)\" style=\"stroke:#00002d; stroke-width:0.8; stroke-opacity:1; fill:none\" points=\"\n",
       "  579.93,369.674 579.93,364.48 \n",
       "  \"/>\n",
       "<polyline clip-path=\"url(#clip02)\" style=\"stroke:#00002d; stroke-width:0.8; stroke-opacity:1; fill:none\" points=\"\n",
       "  63.6592,369.674 63.6592,23.3815 \n",
       "  \"/>\n",
       "<polyline clip-path=\"url(#clip02)\" style=\"stroke:#00002d; stroke-width:0.8; stroke-opacity:1; fill:none\" points=\"\n",
       "  63.6592,354.618 71.6453,354.618 \n",
       "  \"/>\n",
       "<polyline clip-path=\"url(#clip02)\" style=\"stroke:#00002d; stroke-width:0.8; stroke-opacity:1; fill:none\" points=\"\n",
       "  63.6592,279.337 71.6453,279.337 \n",
       "  \"/>\n",
       "<polyline clip-path=\"url(#clip02)\" style=\"stroke:#00002d; stroke-width:0.8; stroke-opacity:1; fill:none\" points=\"\n",
       "  63.6592,204.056 71.6453,204.056 \n",
       "  \"/>\n",
       "<polyline clip-path=\"url(#clip02)\" style=\"stroke:#00002d; stroke-width:0.8; stroke-opacity:1; fill:none\" points=\"\n",
       "  63.6592,128.775 71.6453,128.775 \n",
       "  \"/>\n",
       "<polyline clip-path=\"url(#clip02)\" style=\"stroke:#00002d; stroke-width:0.8; stroke-opacity:1; fill:none\" points=\"\n",
       "  63.6592,53.4939 71.6453,53.4939 \n",
       "  \"/>\n",
       "<g clip-path=\"url(#clip00)\">\n",
       "<text style=\"fill:#00002d; fill-opacity:1; font-family:Arial,Helvetica Neue,Helvetica,sans-serif; font-size:12; text-anchor:middle;\" transform=\"rotate(0, 95.9261, 381.674)\" x=\"95.9261\" y=\"381.674\">30</text>\n",
       "</g>\n",
       "<g clip-path=\"url(#clip00)\">\n",
       "<text style=\"fill:#00002d; fill-opacity:1; font-family:Arial,Helvetica Neue,Helvetica,sans-serif; font-size:12; text-anchor:middle;\" transform=\"rotate(0, 144.326, 381.674)\" x=\"144.326\" y=\"381.674\">60</text>\n",
       "</g>\n",
       "<g clip-path=\"url(#clip00)\">\n",
       "<text style=\"fill:#00002d; fill-opacity:1; font-family:Arial,Helvetica Neue,Helvetica,sans-serif; font-size:12; text-anchor:middle;\" transform=\"rotate(0, 192.727, 381.674)\" x=\"192.727\" y=\"381.674\">90</text>\n",
       "</g>\n",
       "<g clip-path=\"url(#clip00)\">\n",
       "<text style=\"fill:#00002d; fill-opacity:1; font-family:Arial,Helvetica Neue,Helvetica,sans-serif; font-size:12; text-anchor:middle;\" transform=\"rotate(0, 241.127, 381.674)\" x=\"241.127\" y=\"381.674\">120</text>\n",
       "</g>\n",
       "<g clip-path=\"url(#clip00)\">\n",
       "<text style=\"fill:#00002d; fill-opacity:1; font-family:Arial,Helvetica Neue,Helvetica,sans-serif; font-size:12; text-anchor:middle;\" transform=\"rotate(0, 289.527, 381.674)\" x=\"289.527\" y=\"381.674\">150</text>\n",
       "</g>\n",
       "<g clip-path=\"url(#clip00)\">\n",
       "<text style=\"fill:#00002d; fill-opacity:1; font-family:Arial,Helvetica Neue,Helvetica,sans-serif; font-size:12; text-anchor:middle;\" transform=\"rotate(0, 337.928, 381.674)\" x=\"337.928\" y=\"381.674\">180</text>\n",
       "</g>\n",
       "<g clip-path=\"url(#clip00)\">\n",
       "<text style=\"fill:#00002d; fill-opacity:1; font-family:Arial,Helvetica Neue,Helvetica,sans-serif; font-size:12; text-anchor:middle;\" transform=\"rotate(0, 386.328, 381.674)\" x=\"386.328\" y=\"381.674\">210</text>\n",
       "</g>\n",
       "<g clip-path=\"url(#clip00)\">\n",
       "<text style=\"fill:#00002d; fill-opacity:1; font-family:Arial,Helvetica Neue,Helvetica,sans-serif; font-size:12; text-anchor:middle;\" transform=\"rotate(0, 434.729, 381.674)\" x=\"434.729\" y=\"381.674\">240</text>\n",
       "</g>\n",
       "<g clip-path=\"url(#clip00)\">\n",
       "<text style=\"fill:#00002d; fill-opacity:1; font-family:Arial,Helvetica Neue,Helvetica,sans-serif; font-size:12; text-anchor:middle;\" transform=\"rotate(0, 483.129, 381.674)\" x=\"483.129\" y=\"381.674\">270</text>\n",
       "</g>\n",
       "<g clip-path=\"url(#clip00)\">\n",
       "<text style=\"fill:#00002d; fill-opacity:1; font-family:Arial,Helvetica Neue,Helvetica,sans-serif; font-size:12; text-anchor:middle;\" transform=\"rotate(0, 531.529, 381.674)\" x=\"531.529\" y=\"381.674\">300</text>\n",
       "</g>\n",
       "<g clip-path=\"url(#clip00)\">\n",
       "<text style=\"fill:#00002d; fill-opacity:1; font-family:Arial,Helvetica Neue,Helvetica,sans-serif; font-size:12; text-anchor:middle;\" transform=\"rotate(0, 579.93, 381.674)\" x=\"579.93\" y=\"381.674\">330</text>\n",
       "</g>\n",
       "<g clip-path=\"url(#clip00)\">\n",
       "<text style=\"fill:#00002d; fill-opacity:1; font-family:Arial,Helvetica Neue,Helvetica,sans-serif; font-size:12; text-anchor:end;\" transform=\"rotate(0, 62.4592, 359.118)\" x=\"62.4592\" y=\"359.118\">0</text>\n",
       "</g>\n",
       "<g clip-path=\"url(#clip00)\">\n",
       "<text style=\"fill:#00002d; fill-opacity:1; font-family:Arial,Helvetica Neue,Helvetica,sans-serif; font-size:12; text-anchor:end;\" transform=\"rotate(0, 62.4592, 283.837)\" x=\"62.4592\" y=\"283.837\">5000</text>\n",
       "</g>\n",
       "<g clip-path=\"url(#clip00)\">\n",
       "<text style=\"fill:#00002d; fill-opacity:1; font-family:Arial,Helvetica Neue,Helvetica,sans-serif; font-size:12; text-anchor:end;\" transform=\"rotate(0, 62.4592, 208.556)\" x=\"62.4592\" y=\"208.556\">10000</text>\n",
       "</g>\n",
       "<g clip-path=\"url(#clip00)\">\n",
       "<text style=\"fill:#00002d; fill-opacity:1; font-family:Arial,Helvetica Neue,Helvetica,sans-serif; font-size:12; text-anchor:end;\" transform=\"rotate(0, 62.4592, 133.275)\" x=\"62.4592\" y=\"133.275\">15000</text>\n",
       "</g>\n",
       "<g clip-path=\"url(#clip00)\">\n",
       "<text style=\"fill:#00002d; fill-opacity:1; font-family:Arial,Helvetica Neue,Helvetica,sans-serif; font-size:12; text-anchor:end;\" transform=\"rotate(0, 62.4592, 57.9939)\" x=\"62.4592\" y=\"57.9939\">20000</text>\n",
       "</g>\n",
       "<g clip-path=\"url(#clip00)\">\n",
       "<text style=\"fill:#00002d; fill-opacity:1; font-family:Arial,Helvetica Neue,Helvetica,sans-serif; font-size:21; text-anchor:middle;\" transform=\"rotate(0, 329.861, 18)\" x=\"329.861\" y=\"18\">Profit-maximizing for Generator with Market Power</text>\n",
       "</g>\n",
       "<g clip-path=\"url(#clip00)\">\n",
       "<text style=\"fill:#00002d; fill-opacity:1; font-family:Arial,Helvetica Neue,Helvetica,sans-serif; font-size:16; text-anchor:middle;\" transform=\"rotate(0, 329.861, 397.6)\" x=\"329.861\" y=\"397.6\">Generator Power Supplied (MW)</text>\n",
       "</g>\n",
       "<g clip-path=\"url(#clip00)\">\n",
       "<text style=\"fill:#00002d; fill-opacity:1; font-family:Arial,Helvetica Neue,Helvetica,sans-serif; font-size:16; text-anchor:middle;\" transform=\"rotate(-90, 14.4, 196.528)\" x=\"14.4\" y=\"196.528\">Value (dollars/hour)</text>\n",
       "</g>\n",
       "<polyline clip-path=\"url(#clip02)\" style=\"stroke:#0099ff; stroke-width:2.4; stroke-opacity:1; fill:none\" points=\"\n",
       "  63.6592,328.302 66.8859,323.276 70.1126,318.328 73.3393,313.458 76.566,308.664 79.7927,303.946 83.0194,299.304 86.2461,294.737 89.4727,290.244 92.6994,285.825 \n",
       "  95.9261,281.48 99.1528,277.208 102.38,273.008 105.606,268.881 108.833,264.824 112.06,260.839 115.286,256.924 118.513,253.079 121.74,249.303 124.966,245.597 \n",
       "  128.193,241.959 131.42,238.389 134.646,234.886 137.873,231.451 141.1,228.082 144.326,224.78 147.553,221.543 150.78,218.372 154.007,215.266 157.233,212.224 \n",
       "  160.46,209.246 163.687,206.332 166.913,203.481 170.14,200.693 173.367,197.967 176.593,195.303 179.82,192.701 183.047,190.16 186.273,187.68 189.5,185.26 \n",
       "  192.727,182.9 195.953,180.6 199.18,178.359 202.407,176.176 205.634,174.053 208.86,171.987 212.087,169.979 215.314,168.029 218.54,166.135 221.767,164.298 \n",
       "  224.994,162.518 228.22,160.793 231.447,159.124 234.674,157.511 237.9,155.952 241.127,154.448 244.354,152.998 247.581,151.602 250.807,150.259 254.034,148.97 \n",
       "  257.261,147.734 260.487,146.55 263.714,145.419 266.941,144.34 270.167,143.312 273.394,142.336 276.621,141.411 279.847,140.536 283.074,139.712 286.301,138.938 \n",
       "  289.527,138.214 292.754,137.54 295.981,136.914 299.208,136.338 302.434,135.811 305.661,135.331 308.888,134.9 312.114,134.517 315.341,134.181 318.568,133.893 \n",
       "  321.794,133.651 325.021,133.456 328.248,133.308 331.474,133.206 334.701,133.149 337.928,133.138 341.155,133.678 344.381,134.455 347.608,134.981 350.835,135.132 \n",
       "  354.061,135.328 357.288,135.568 360.515,135.852 363.741,136.179 366.968,136.55 370.195,136.964 373.421,137.42 376.648,137.919 379.875,138.459 383.101,139.041 \n",
       "  386.328,139.664 389.555,140.328 392.782,141.032 396.008,141.775 399.235,142.557 402.462,143.377 405.688,144.234 408.915,145.128 412.142,146.057 415.368,147.02 \n",
       "  418.595,148.015 421.822,149.04 425.048,150.092 428.275,151.169 431.502,152.266 434.729,153.378 437.955,154.498 441.182,155.618 444.409,156.729 447.635,157.818 \n",
       "  450.862,158.875 454.089,159.889 457.315,160.849 460.542,161.752 463.769,162.597 466.995,163.388 470.222,164.13 473.449,164.831 476.675,165.501 479.902,166.145 \n",
       "  483.129,166.773 486.356,167.388 489.582,167.977 492.809,168.434 496.036,168.911 499.262,169.411 502.489,169.931 505.716,170.472 508.942,171.034 512.169,171.617 \n",
       "  515.396,172.221 518.622,172.845 521.849,173.49 525.076,174.156 528.303,174.841 531.529,175.547 534.756,176.273 537.983,177.019 541.209,177.785 544.436,178.571 \n",
       "  547.663,179.376 550.889,180.202 554.116,181.046 557.343,181.91 560.569,182.794 563.796,183.696 567.023,184.618 570.249,185.558 573.476,186.518 576.703,187.496 \n",
       "  \n",
       "  \"/>\n",
       "<polyline clip-path=\"url(#clip02)\" style=\"stroke:#e9746a; stroke-width:2.4; stroke-opacity:1; fill:none\" points=\"\n",
       "  63.6592,352.886 66.8859,352.823 70.1126,352.754 73.3393,352.679 76.566,352.597 79.7927,352.51 83.0194,352.417 86.2461,352.317 89.4727,352.212 92.6994,352.101 \n",
       "  95.9261,351.983 99.1528,351.86 102.38,351.73 105.606,351.595 108.833,351.453 112.06,351.306 115.286,351.152 118.513,350.992 121.74,350.827 124.966,350.655 \n",
       "  128.193,350.477 131.42,350.294 134.646,350.104 137.873,349.908 141.1,349.707 144.326,349.499 147.553,349.285 150.78,349.065 154.007,348.839 157.233,348.607 \n",
       "  160.46,348.37 163.687,348.126 166.913,347.876 170.14,347.62 173.367,347.358 176.593,347.09 179.82,346.816 183.047,346.536 186.273,346.25 189.5,345.958 \n",
       "  192.727,345.659 195.953,345.355 199.18,345.045 202.407,344.729 205.634,344.407 208.86,344.079 212.087,343.744 215.314,343.404 218.54,343.058 221.767,342.705 \n",
       "  224.994,342.347 228.22,341.983 231.447,341.612 234.674,341.236 237.9,340.854 241.127,340.465 244.354,340.071 247.581,339.67 250.807,339.264 254.034,338.851 \n",
       "  257.261,338.432 260.487,338.008 263.714,337.577 266.941,337.141 270.167,336.698 273.394,336.249 276.621,335.795 279.847,335.334 283.074,334.867 286.301,334.394 \n",
       "  289.527,333.916 292.754,333.431 295.981,332.94 299.208,332.443 302.434,331.94 305.661,331.431 308.888,330.916 312.114,330.395 315.341,329.869 318.568,329.336 \n",
       "  321.794,328.797 325.021,328.251 328.248,327.7 331.474,327.143 334.701,326.58 337.928,326.011 341.155,325.436 344.381,324.855 347.608,324.268 350.835,323.674 \n",
       "  354.061,323.075 357.288,322.47 360.515,321.859 363.741,321.241 366.968,320.618 370.195,319.989 373.421,319.353 376.648,318.712 379.875,318.064 383.101,317.411 \n",
       "  386.328,316.752 389.555,316.086 392.782,315.415 396.008,314.737 399.235,314.053 402.462,313.364 405.688,312.668 408.915,311.967 412.142,311.259 415.368,310.545 \n",
       "  418.595,309.826 421.822,309.1 425.048,308.368 428.275,307.631 431.502,306.887 434.729,306.137 437.955,305.381 441.182,304.619 444.409,303.851 447.635,303.078 \n",
       "  450.862,302.298 454.089,301.512 457.315,300.72 460.542,299.922 463.769,299.118 466.995,298.308 470.222,297.492 473.449,296.67 476.675,295.841 479.902,295.007 \n",
       "  483.129,294.167 486.356,293.321 489.582,292.469 492.809,291.611 496.036,290.746 499.262,289.876 502.489,289 505.716,288.118 508.942,287.229 512.169,286.335 \n",
       "  515.396,285.435 518.622,284.528 521.849,283.616 525.076,282.697 528.303,281.773 531.529,280.843 534.756,279.906 537.983,278.963 541.209,278.015 544.436,277.06 \n",
       "  547.663,276.1 550.889,275.133 554.116,274.161 557.343,273.182 560.569,272.197 563.796,271.207 567.023,270.21 570.249,269.207 573.476,268.198 576.703,267.184 \n",
       "  \n",
       "  \"/>\n",
       "<polyline clip-path=\"url(#clip02)\" style=\"stroke:#3cb370; stroke-width:2.4; stroke-opacity:1; fill:none\" points=\"\n",
       "  63.6592,330.033 66.8859,325.071 70.1126,320.192 73.3393,315.397 76.566,310.684 79.7927,306.054 83.0194,301.505 86.2461,297.037 89.4727,292.65 92.6994,288.343 \n",
       "  95.9261,284.115 99.1528,279.966 102.38,275.896 105.606,271.904 108.833,267.989 112.06,264.151 115.286,260.39 118.513,256.704 121.74,253.094 124.966,249.559 \n",
       "  128.193,246.099 131.42,242.713 134.646,239.4 137.873,236.161 141.1,232.994 144.326,229.899 147.553,226.876 150.78,223.925 154.007,221.044 157.233,218.234 \n",
       "  160.46,215.495 163.687,212.824 166.913,210.223 170.14,207.691 173.367,205.227 176.593,202.832 179.82,200.503 183.047,198.242 186.273,196.048 189.5,193.92 \n",
       "  192.727,191.858 195.953,189.862 199.18,187.931 202.407,186.065 205.634,184.264 208.86,182.526 212.087,180.853 215.314,179.242 218.54,177.695 221.767,176.211 \n",
       "  224.994,174.789 228.22,173.428 231.447,172.13 234.674,170.893 237.9,169.716 241.127,168.6 244.354,167.545 247.581,166.549 250.807,165.614 254.034,164.737 \n",
       "  257.261,163.919 260.487,163.16 263.714,162.46 266.941,161.817 270.167,161.232 273.394,160.704 276.621,160.234 279.847,159.82 283.074,159.463 286.301,159.162 \n",
       "  289.527,158.916 292.754,158.727 295.981,158.592 299.208,158.513 302.434,158.488 305.661,158.518 308.888,158.602 312.114,158.739 315.341,158.931 318.568,159.175 \n",
       "  321.794,159.473 325.021,159.823 328.248,160.226 331.474,160.68 334.701,161.187 337.928,161.745 341.155,162.86 344.381,164.218 347.608,165.331 350.835,166.076 \n",
       "  354.061,166.871 357.288,167.716 360.515,168.611 363.741,169.556 366.968,170.55 370.195,171.593 373.421,172.685 376.648,173.825 379.875,175.013 383.101,176.248 \n",
       "  386.328,177.531 389.555,178.86 392.782,180.235 396.008,181.656 399.235,183.121 402.462,184.631 405.688,186.184 408.915,187.779 412.142,189.416 415.368,191.092 \n",
       "  418.595,192.807 421.822,194.558 425.048,196.342 428.275,198.157 431.502,199.997 434.729,201.859 437.955,203.735 441.182,205.617 444.409,207.495 447.635,209.359 \n",
       "  450.862,211.196 454.089,212.995 457.315,214.747 460.542,216.449 463.769,218.097 466.995,219.698 470.222,221.256 473.449,222.779 476.675,224.277 479.902,225.756 \n",
       "  483.129,227.223 486.356,228.685 489.582,230.126 492.809,231.441 496.036,232.783 499.262,234.152 502.489,235.549 505.716,236.972 508.942,238.423 512.169,239.9 \n",
       "  515.396,241.404 518.622,242.935 521.849,244.492 525.076,246.076 528.303,247.686 531.529,249.323 534.756,250.985 537.983,252.674 541.209,254.388 544.436,256.128 \n",
       "  547.663,257.895 550.889,259.686 554.116,261.503 557.343,263.346 560.569,265.214 563.796,267.107 567.023,269.026 570.249,270.969 573.476,272.938 576.703,274.931 \n",
       "  \n",
       "  \"/>\n",
       "<polygon clip-path=\"url(#clip02)\" style=\"fill:#7f7f7f; fill-opacity:0.8\" points=\"\n",
       "  576.921,267.731 569.721,274.931 576.921,282.131 584.121,274.931 576.921,267.731 \n",
       "  \"/>\n",
       "<polygon clip-path=\"url(#clip02)\" style=\"fill:#008100; fill-opacity:0.8\" points=\"\n",
       "  576.921,270.131 572.121,274.931 576.921,279.731 581.721,274.931 576.921,270.131 \n",
       "  \"/>\n",
       "<polygon clip-path=\"url(#clip02)\" style=\"fill:#7f7f7f; fill-opacity:0.8\" points=\"\n",
       "  302.434,151.288 295.234,158.488 302.434,165.688 309.634,158.488 302.434,151.288 \n",
       "  \"/>\n",
       "<polygon clip-path=\"url(#clip02)\" style=\"fill:#ff0000; fill-opacity:0.8\" points=\"\n",
       "  302.434,153.688 297.634,158.488 302.434,163.288 307.234,158.488 302.434,153.688 \n",
       "  \"/>\n",
       "<line clip-path=\"url(#clip02)\" x1=\"307.274\" y1=\"196.528\" x2=\"308.274\" y2=\"196.528\" style=\"stroke:#00002d; stroke-opacity:1\"/>\n",
       "<line clip-path=\"url(#clip02)\" x1=\"307.274\" y1=\"196.528\" x2=\"308.274\" y2=\"196.528\" style=\"stroke:#ffffff; stroke-opacity:1\"/>\n",
       "<g clip-path=\"url(#clip00)\">\n",
       "<text style=\"fill:#00002d; fill-opacity:1; font-family:Arial,Helvetica Neue,Helvetica,sans-serif; font-size:21; text-anchor:middle;\" transform=\"rotate(0, 307.274, 204.028)\" x=\"307.274\" y=\"204.028\">P = 158.0 MW</text>\n",
       "</g>\n",
       "<polygon clip-path=\"url(#clip00)\" points=\"\n",
       "395.23,150.101 578.063,150.101 578.063,44.2615 395.23,44.2615 \n",
       "  \" fill=\"#ffffff\" fill-opacity=\"1\"/>\n",
       "<polyline clip-path=\"url(#clip00)\" style=\"stroke:#00002d; stroke-width:0.8; stroke-opacity:1; fill:none\" points=\"\n",
       "  395.23,150.101 578.063,150.101 578.063,44.2615 395.23,44.2615 395.23,150.101 \n",
       "  \"/>\n",
       "<polyline clip-path=\"url(#clip00)\" style=\"stroke:#0099ff; stroke-width:2.4; stroke-opacity:1; fill:none\" points=\"\n",
       "  401.23,59.3815 437.23,59.3815 \n",
       "  \"/>\n",
       "<g clip-path=\"url(#clip00)\">\n",
       "<text style=\"fill:#00002d; fill-opacity:1; font-family:Arial,Helvetica Neue,Helvetica,sans-serif; font-size:12; text-anchor:start;\" transform=\"rotate(0, 443.23, 63.8815)\" x=\"443.23\" y=\"63.8815\">Revenue generator</text>\n",
       "</g>\n",
       "<polyline clip-path=\"url(#clip00)\" style=\"stroke:#e9746a; stroke-width:2.4; stroke-opacity:1; fill:none\" points=\"\n",
       "  401.23,74.5015 437.23,74.5015 \n",
       "  \"/>\n",
       "<g clip-path=\"url(#clip00)\">\n",
       "<text style=\"fill:#00002d; fill-opacity:1; font-family:Arial,Helvetica Neue,Helvetica,sans-serif; font-size:12; text-anchor:start;\" transform=\"rotate(0, 443.23, 79.0015)\" x=\"443.23\" y=\"79.0015\">Costs generator</text>\n",
       "</g>\n",
       "<polyline clip-path=\"url(#clip00)\" style=\"stroke:#3cb370; stroke-width:2.4; stroke-opacity:1; fill:none\" points=\"\n",
       "  401.23,89.6215 437.23,89.6215 \n",
       "  \"/>\n",
       "<g clip-path=\"url(#clip00)\">\n",
       "<text style=\"fill:#00002d; fill-opacity:1; font-family:Arial,Helvetica Neue,Helvetica,sans-serif; font-size:12; text-anchor:start;\" transform=\"rotate(0, 443.23, 94.1215)\" x=\"443.23\" y=\"94.1215\">Profit generator</text>\n",
       "</g>\n",
       "<polygon clip-path=\"url(#clip00)\" style=\"fill:#7f7f7f; fill-opacity:0.8\" points=\"\n",
       "  407.23,94.3415 396.83,104.741 407.23,115.141 417.63,104.741 407.23,94.3415 \n",
       "  \"/>\n",
       "<polygon clip-path=\"url(#clip00)\" style=\"fill:#008100; fill-opacity:0.8\" points=\"\n",
       "  407.23,96.7415 399.23,104.741 407.23,112.741 415.23,104.741 407.23,96.7415 \n",
       "  \"/>\n",
       "<polygon clip-path=\"url(#clip00)\" style=\"fill:#7f7f7f; fill-opacity:0.8\" points=\"\n",
       "  431.23,94.3415 420.83,104.741 431.23,115.141 441.63,104.741 431.23,94.3415 \n",
       "  \"/>\n",
       "<polygon clip-path=\"url(#clip00)\" style=\"fill:#008100; fill-opacity:0.8\" points=\"\n",
       "  431.23,96.7415 423.23,104.741 431.23,112.741 439.23,104.741 431.23,96.7415 \n",
       "  \"/>\n",
       "<g clip-path=\"url(#clip00)\">\n",
       "<text style=\"fill:#00002d; fill-opacity:1; font-family:Arial,Helvetica Neue,Helvetica,sans-serif; font-size:12; text-anchor:start;\" transform=\"rotate(0, 443.23, 109.241)\" x=\"443.23\" y=\"109.241\">Society Optimality</text>\n",
       "</g>\n",
       "<polygon clip-path=\"url(#clip00)\" style=\"fill:#7f7f7f; fill-opacity:0.8\" points=\"\n",
       "  407.23,109.461 396.83,119.861 407.23,130.261 417.63,119.861 407.23,109.461 \n",
       "  \"/>\n",
       "<polygon clip-path=\"url(#clip00)\" style=\"fill:#ff0000; fill-opacity:0.8\" points=\"\n",
       "  407.23,111.861 399.23,119.861 407.23,127.861 415.23,119.861 407.23,111.861 \n",
       "  \"/>\n",
       "<polygon clip-path=\"url(#clip00)\" style=\"fill:#7f7f7f; fill-opacity:0.8\" points=\"\n",
       "  431.23,109.461 420.83,119.861 431.23,130.261 441.63,119.861 431.23,109.461 \n",
       "  \"/>\n",
       "<polygon clip-path=\"url(#clip00)\" style=\"fill:#ff0000; fill-opacity:0.8\" points=\"\n",
       "  431.23,111.861 423.23,119.861 431.23,127.861 439.23,119.861 431.23,111.861 \n",
       "  \"/>\n",
       "<g clip-path=\"url(#clip00)\">\n",
       "<text style=\"fill:#00002d; fill-opacity:1; font-family:Arial,Helvetica Neue,Helvetica,sans-serif; font-size:12; text-anchor:start;\" transform=\"rotate(0, 443.23, 124.361)\" x=\"443.23\" y=\"124.361\">Profit-Maximizing point</text>\n",
       "</g>\n",
       "<circle clip-path=\"url(#clip00)\" style=\"fill:#00002d; stroke:none; fill-opacity:1\" cx=\"407.23\" cy=\"134.981\" r=\"7\"/>\n",
       "<circle clip-path=\"url(#clip00)\" style=\"fill:#ffffff; stroke:none; fill-opacity:1\" cx=\"407.23\" cy=\"134.981\" r=\"7\"/>\n",
       "<circle clip-path=\"url(#clip00)\" style=\"fill:#00002d; stroke:none; fill-opacity:1\" cx=\"431.23\" cy=\"134.981\" r=\"7\"/>\n",
       "<circle clip-path=\"url(#clip00)\" style=\"fill:#ffffff; stroke:none; fill-opacity:1\" cx=\"431.23\" cy=\"134.981\" r=\"7\"/>\n",
       "<g clip-path=\"url(#clip00)\">\n",
       "<text style=\"fill:#00002d; fill-opacity:1; font-family:Arial,Helvetica Neue,Helvetica,sans-serif; font-size:12; text-anchor:start;\" transform=\"rotate(0, 443.23, 139.481)\" x=\"443.23\" y=\"139.481\">Annotation</text>\n",
       "</g>\n",
       "</svg>\n"
      ]
     },
     "execution_count": 31,
     "metadata": {},
     "output_type": "execute_result"
    }
   ],
   "source": [
    "plot(P_run[:,3],rev_gen, label = \"Revenue generator\",xlims = (10, 340),ylims = (-1000,22000),\n",
    "    xticks = 30:30:330, yticks = 0:5000:25000, xlabel = \"Generator Power Supplied (MW)\", ylabel = \"Value (dollars/hour)\", \n",
    "    w = 3, title = \"Profit-maximizing for Generator with Market Power\")\n",
    "plot!(P_run[:,3],costs_gen, label = \"Costs generator\", w = 3)\n",
    "plot!(P_run[:,3],profit_gen, label = \"Profit generator\", w = 3)\n",
    "scatter!([P_opt[3]],[profit_gen[end]],color=[:green],marker=([:d],6,0.8,stroke(3,:gray)), label = \"Society Optimality\")\n",
    "scatter!([gen_opt_P],[profit_gen[gen_opt_ind]],color=[:red],marker=([:d],6,0.8,stroke(3,:gray)), \n",
    "    label = \"Profit-Maximizing point\")\n",
    "scatter!([gen_opt_P+3], [10_500], series_annotations = [\"P = $gen_opt_P MW\"], markersize = 0, color = [:white]\n",
    "    , label = \"Annotation\")"
   ]
  },
  {
   "cell_type": "markdown",
   "metadata": {},
   "source": [
    "#### We can see that the profit maximizing function dictates that the generator only produce 158 MW of electricity"
   ]
  },
  {
   "cell_type": "markdown",
   "metadata": {},
   "source": [
    "### DWL associated with generator's optimal production"
   ]
  },
  {
   "cell_type": "code",
   "execution_count": 32,
   "metadata": {
    "collapsed": false
   },
   "outputs": [
    {
     "data": {
      "text/html": [
       "<?xml version=\"1.0\" encoding=\"utf-8\"?>\n",
       "<svg xmlns=\"http://www.w3.org/2000/svg\" xmlns:xlink=\"http://www.w3.org/1999/xlink\" width=\"600\" height=\"400\" viewBox=\"0 0 600 400\">\n",
       "<defs>\n",
       "  <clipPath id=\"clip00\">\n",
       "    <rect x=\"0\" y=\"0\" width=\"600\" height=\"400\"/>\n",
       "  </clipPath>\n",
       "</defs>\n",
       "<polygon clip-path=\"url(#clip00)\" points=\"\n",
       "0,400 600,400 600,0 0,0 \n",
       "  \" fill=\"#ffffff\" fill-opacity=\"1\"/>\n",
       "<defs>\n",
       "  <clipPath id=\"clip01\">\n",
       "    <rect x=\"120\" y=\"0\" width=\"421\" height=\"400\"/>\n",
       "  </clipPath>\n",
       "</defs>\n",
       "<polygon clip-path=\"url(#clip00)\" points=\"\n",
       "63.6592,369.674 596.063,369.674 596.063,23.3815 63.6592,23.3815 \n",
       "  \" fill=\"#ffffff\" fill-opacity=\"1\"/>\n",
       "<defs>\n",
       "  <clipPath id=\"clip02\">\n",
       "    <rect x=\"63\" y=\"23\" width=\"533\" height=\"347\"/>\n",
       "  </clipPath>\n",
       "</defs>\n",
       "<polyline clip-path=\"url(#clip02)\" style=\"stroke:#00002d; stroke-width:0.8; stroke-opacity:0.5; fill:none\" stroke-dasharray=\"1, 2\" points=\"\n",
       "  94.0823,364.48 94.0823,28.5758 \n",
       "  \"/>\n",
       "<polyline clip-path=\"url(#clip02)\" style=\"stroke:#00002d; stroke-width:0.8; stroke-opacity:0.5; fill:none\" stroke-dasharray=\"1, 2\" points=\"\n",
       "  139.717,364.48 139.717,28.5758 \n",
       "  \"/>\n",
       "<polyline clip-path=\"url(#clip02)\" style=\"stroke:#00002d; stroke-width:0.8; stroke-opacity:0.5; fill:none\" stroke-dasharray=\"1, 2\" points=\"\n",
       "  185.352,364.48 185.352,28.5758 \n",
       "  \"/>\n",
       "<polyline clip-path=\"url(#clip02)\" style=\"stroke:#00002d; stroke-width:0.8; stroke-opacity:0.5; fill:none\" stroke-dasharray=\"1, 2\" points=\"\n",
       "  230.986,364.48 230.986,28.5758 \n",
       "  \"/>\n",
       "<polyline clip-path=\"url(#clip02)\" style=\"stroke:#00002d; stroke-width:0.8; stroke-opacity:0.5; fill:none\" stroke-dasharray=\"1, 2\" points=\"\n",
       "  276.621,364.48 276.621,28.5758 \n",
       "  \"/>\n",
       "<polyline clip-path=\"url(#clip02)\" style=\"stroke:#00002d; stroke-width:0.8; stroke-opacity:0.5; fill:none\" stroke-dasharray=\"1, 2\" points=\"\n",
       "  322.255,364.48 322.255,28.5758 \n",
       "  \"/>\n",
       "<polyline clip-path=\"url(#clip02)\" style=\"stroke:#00002d; stroke-width:0.8; stroke-opacity:0.5; fill:none\" stroke-dasharray=\"1, 2\" points=\"\n",
       "  367.89,364.48 367.89,28.5758 \n",
       "  \"/>\n",
       "<polyline clip-path=\"url(#clip02)\" style=\"stroke:#00002d; stroke-width:0.8; stroke-opacity:0.5; fill:none\" stroke-dasharray=\"1, 2\" points=\"\n",
       "  413.525,364.48 413.525,28.5758 \n",
       "  \"/>\n",
       "<polyline clip-path=\"url(#clip02)\" style=\"stroke:#00002d; stroke-width:0.8; stroke-opacity:0.5; fill:none\" stroke-dasharray=\"1, 2\" points=\"\n",
       "  459.159,364.48 459.159,28.5758 \n",
       "  \"/>\n",
       "<polyline clip-path=\"url(#clip02)\" style=\"stroke:#00002d; stroke-width:0.8; stroke-opacity:0.5; fill:none\" stroke-dasharray=\"1, 2\" points=\"\n",
       "  504.794,364.48 504.794,28.5758 \n",
       "  \"/>\n",
       "<polyline clip-path=\"url(#clip02)\" style=\"stroke:#00002d; stroke-width:0.8; stroke-opacity:0.5; fill:none\" stroke-dasharray=\"1, 2\" points=\"\n",
       "  550.428,364.48 550.428,28.5758 \n",
       "  \"/>\n",
       "<polyline clip-path=\"url(#clip02)\" style=\"stroke:#00002d; stroke-width:0.8; stroke-opacity:0.5; fill:none\" stroke-dasharray=\"1, 2\" points=\"\n",
       "  71.6453,356.848 588.077,356.848 \n",
       "  \"/>\n",
       "<polyline clip-path=\"url(#clip02)\" style=\"stroke:#00002d; stroke-width:0.8; stroke-opacity:0.5; fill:none\" stroke-dasharray=\"1, 2\" points=\"\n",
       "  71.6453,292.72 588.077,292.72 \n",
       "  \"/>\n",
       "<polyline clip-path=\"url(#clip02)\" style=\"stroke:#00002d; stroke-width:0.8; stroke-opacity:0.5; fill:none\" stroke-dasharray=\"1, 2\" points=\"\n",
       "  71.6453,228.592 588.077,228.592 \n",
       "  \"/>\n",
       "<polyline clip-path=\"url(#clip02)\" style=\"stroke:#00002d; stroke-width:0.8; stroke-opacity:0.5; fill:none\" stroke-dasharray=\"1, 2\" points=\"\n",
       "  71.6453,164.464 588.077,164.464 \n",
       "  \"/>\n",
       "<polyline clip-path=\"url(#clip02)\" style=\"stroke:#00002d; stroke-width:0.8; stroke-opacity:0.5; fill:none\" stroke-dasharray=\"1, 2\" points=\"\n",
       "  71.6453,100.335 588.077,100.335 \n",
       "  \"/>\n",
       "<polyline clip-path=\"url(#clip02)\" style=\"stroke:#00002d; stroke-width:0.8; stroke-opacity:0.5; fill:none\" stroke-dasharray=\"1, 2\" points=\"\n",
       "  71.6453,36.2071 588.077,36.2071 \n",
       "  \"/>\n",
       "<polyline clip-path=\"url(#clip02)\" style=\"stroke:#00002d; stroke-width:0.8; stroke-opacity:1; fill:none\" points=\"\n",
       "  63.6592,369.674 596.063,369.674 \n",
       "  \"/>\n",
       "<polyline clip-path=\"url(#clip02)\" style=\"stroke:#00002d; stroke-width:0.8; stroke-opacity:1; fill:none\" points=\"\n",
       "  94.0823,369.674 94.0823,364.48 \n",
       "  \"/>\n",
       "<polyline clip-path=\"url(#clip02)\" style=\"stroke:#00002d; stroke-width:0.8; stroke-opacity:1; fill:none\" points=\"\n",
       "  139.717,369.674 139.717,364.48 \n",
       "  \"/>\n",
       "<polyline clip-path=\"url(#clip02)\" style=\"stroke:#00002d; stroke-width:0.8; stroke-opacity:1; fill:none\" points=\"\n",
       "  185.352,369.674 185.352,364.48 \n",
       "  \"/>\n",
       "<polyline clip-path=\"url(#clip02)\" style=\"stroke:#00002d; stroke-width:0.8; stroke-opacity:1; fill:none\" points=\"\n",
       "  230.986,369.674 230.986,364.48 \n",
       "  \"/>\n",
       "<polyline clip-path=\"url(#clip02)\" style=\"stroke:#00002d; stroke-width:0.8; stroke-opacity:1; fill:none\" points=\"\n",
       "  276.621,369.674 276.621,364.48 \n",
       "  \"/>\n",
       "<polyline clip-path=\"url(#clip02)\" style=\"stroke:#00002d; stroke-width:0.8; stroke-opacity:1; fill:none\" points=\"\n",
       "  322.255,369.674 322.255,364.48 \n",
       "  \"/>\n",
       "<polyline clip-path=\"url(#clip02)\" style=\"stroke:#00002d; stroke-width:0.8; stroke-opacity:1; fill:none\" points=\"\n",
       "  367.89,369.674 367.89,364.48 \n",
       "  \"/>\n",
       "<polyline clip-path=\"url(#clip02)\" style=\"stroke:#00002d; stroke-width:0.8; stroke-opacity:1; fill:none\" points=\"\n",
       "  413.525,369.674 413.525,364.48 \n",
       "  \"/>\n",
       "<polyline clip-path=\"url(#clip02)\" style=\"stroke:#00002d; stroke-width:0.8; stroke-opacity:1; fill:none\" points=\"\n",
       "  459.159,369.674 459.159,364.48 \n",
       "  \"/>\n",
       "<polyline clip-path=\"url(#clip02)\" style=\"stroke:#00002d; stroke-width:0.8; stroke-opacity:1; fill:none\" points=\"\n",
       "  504.794,369.674 504.794,364.48 \n",
       "  \"/>\n",
       "<polyline clip-path=\"url(#clip02)\" style=\"stroke:#00002d; stroke-width:0.8; stroke-opacity:1; fill:none\" points=\"\n",
       "  550.428,369.674 550.428,364.48 \n",
       "  \"/>\n",
       "<polyline clip-path=\"url(#clip02)\" style=\"stroke:#00002d; stroke-width:0.8; stroke-opacity:1; fill:none\" points=\"\n",
       "  63.6592,369.674 63.6592,23.3815 \n",
       "  \"/>\n",
       "<polyline clip-path=\"url(#clip02)\" style=\"stroke:#00002d; stroke-width:0.8; stroke-opacity:1; fill:none\" points=\"\n",
       "  63.6592,356.848 71.6453,356.848 \n",
       "  \"/>\n",
       "<polyline clip-path=\"url(#clip02)\" style=\"stroke:#00002d; stroke-width:0.8; stroke-opacity:1; fill:none\" points=\"\n",
       "  63.6592,292.72 71.6453,292.72 \n",
       "  \"/>\n",
       "<polyline clip-path=\"url(#clip02)\" style=\"stroke:#00002d; stroke-width:0.8; stroke-opacity:1; fill:none\" points=\"\n",
       "  63.6592,228.592 71.6453,228.592 \n",
       "  \"/>\n",
       "<polyline clip-path=\"url(#clip02)\" style=\"stroke:#00002d; stroke-width:0.8; stroke-opacity:1; fill:none\" points=\"\n",
       "  63.6592,164.464 71.6453,164.464 \n",
       "  \"/>\n",
       "<polyline clip-path=\"url(#clip02)\" style=\"stroke:#00002d; stroke-width:0.8; stroke-opacity:1; fill:none\" points=\"\n",
       "  63.6592,100.335 71.6453,100.335 \n",
       "  \"/>\n",
       "<polyline clip-path=\"url(#clip02)\" style=\"stroke:#00002d; stroke-width:0.8; stroke-opacity:1; fill:none\" points=\"\n",
       "  63.6592,36.2071 71.6453,36.2071 \n",
       "  \"/>\n",
       "<g clip-path=\"url(#clip00)\">\n",
       "<text style=\"fill:#00002d; fill-opacity:1; font-family:Arial,Helvetica Neue,Helvetica,sans-serif; font-size:12; text-anchor:middle;\" transform=\"rotate(0, 94.0823, 381.674)\" x=\"94.0823\" y=\"381.674\">30</text>\n",
       "</g>\n",
       "<g clip-path=\"url(#clip00)\">\n",
       "<text style=\"fill:#00002d; fill-opacity:1; font-family:Arial,Helvetica Neue,Helvetica,sans-serif; font-size:12; text-anchor:middle;\" transform=\"rotate(0, 139.717, 381.674)\" x=\"139.717\" y=\"381.674\">60</text>\n",
       "</g>\n",
       "<g clip-path=\"url(#clip00)\">\n",
       "<text style=\"fill:#00002d; fill-opacity:1; font-family:Arial,Helvetica Neue,Helvetica,sans-serif; font-size:12; text-anchor:middle;\" transform=\"rotate(0, 185.352, 381.674)\" x=\"185.352\" y=\"381.674\">90</text>\n",
       "</g>\n",
       "<g clip-path=\"url(#clip00)\">\n",
       "<text style=\"fill:#00002d; fill-opacity:1; font-family:Arial,Helvetica Neue,Helvetica,sans-serif; font-size:12; text-anchor:middle;\" transform=\"rotate(0, 230.986, 381.674)\" x=\"230.986\" y=\"381.674\">120</text>\n",
       "</g>\n",
       "<g clip-path=\"url(#clip00)\">\n",
       "<text style=\"fill:#00002d; fill-opacity:1; font-family:Arial,Helvetica Neue,Helvetica,sans-serif; font-size:12; text-anchor:middle;\" transform=\"rotate(0, 276.621, 381.674)\" x=\"276.621\" y=\"381.674\">150</text>\n",
       "</g>\n",
       "<g clip-path=\"url(#clip00)\">\n",
       "<text style=\"fill:#00002d; fill-opacity:1; font-family:Arial,Helvetica Neue,Helvetica,sans-serif; font-size:12; text-anchor:middle;\" transform=\"rotate(0, 322.255, 381.674)\" x=\"322.255\" y=\"381.674\">180</text>\n",
       "</g>\n",
       "<g clip-path=\"url(#clip00)\">\n",
       "<text style=\"fill:#00002d; fill-opacity:1; font-family:Arial,Helvetica Neue,Helvetica,sans-serif; font-size:12; text-anchor:middle;\" transform=\"rotate(0, 367.89, 381.674)\" x=\"367.89\" y=\"381.674\">210</text>\n",
       "</g>\n",
       "<g clip-path=\"url(#clip00)\">\n",
       "<text style=\"fill:#00002d; fill-opacity:1; font-family:Arial,Helvetica Neue,Helvetica,sans-serif; font-size:12; text-anchor:middle;\" transform=\"rotate(0, 413.525, 381.674)\" x=\"413.525\" y=\"381.674\">240</text>\n",
       "</g>\n",
       "<g clip-path=\"url(#clip00)\">\n",
       "<text style=\"fill:#00002d; fill-opacity:1; font-family:Arial,Helvetica Neue,Helvetica,sans-serif; font-size:12; text-anchor:middle;\" transform=\"rotate(0, 459.159, 381.674)\" x=\"459.159\" y=\"381.674\">270</text>\n",
       "</g>\n",
       "<g clip-path=\"url(#clip00)\">\n",
       "<text style=\"fill:#00002d; fill-opacity:1; font-family:Arial,Helvetica Neue,Helvetica,sans-serif; font-size:12; text-anchor:middle;\" transform=\"rotate(0, 504.794, 381.674)\" x=\"504.794\" y=\"381.674\">300</text>\n",
       "</g>\n",
       "<g clip-path=\"url(#clip00)\">\n",
       "<text style=\"fill:#00002d; fill-opacity:1; font-family:Arial,Helvetica Neue,Helvetica,sans-serif; font-size:12; text-anchor:middle;\" transform=\"rotate(0, 550.428, 381.674)\" x=\"550.428\" y=\"381.674\">330</text>\n",
       "</g>\n",
       "<g clip-path=\"url(#clip00)\">\n",
       "<text style=\"fill:#00002d; fill-opacity:1; font-family:Arial,Helvetica Neue,Helvetica,sans-serif; font-size:12; text-anchor:end;\" transform=\"rotate(0, 62.4592, 361.348)\" x=\"62.4592\" y=\"361.348\">0</text>\n",
       "</g>\n",
       "<g clip-path=\"url(#clip00)\">\n",
       "<text style=\"fill:#00002d; fill-opacity:1; font-family:Arial,Helvetica Neue,Helvetica,sans-serif; font-size:12; text-anchor:end;\" transform=\"rotate(0, 62.4592, 297.22)\" x=\"62.4592\" y=\"297.22\">5000</text>\n",
       "</g>\n",
       "<g clip-path=\"url(#clip00)\">\n",
       "<text style=\"fill:#00002d; fill-opacity:1; font-family:Arial,Helvetica Neue,Helvetica,sans-serif; font-size:12; text-anchor:end;\" transform=\"rotate(0, 62.4592, 233.092)\" x=\"62.4592\" y=\"233.092\">10000</text>\n",
       "</g>\n",
       "<g clip-path=\"url(#clip00)\">\n",
       "<text style=\"fill:#00002d; fill-opacity:1; font-family:Arial,Helvetica Neue,Helvetica,sans-serif; font-size:12; text-anchor:end;\" transform=\"rotate(0, 62.4592, 168.964)\" x=\"62.4592\" y=\"168.964\">15000</text>\n",
       "</g>\n",
       "<g clip-path=\"url(#clip00)\">\n",
       "<text style=\"fill:#00002d; fill-opacity:1; font-family:Arial,Helvetica Neue,Helvetica,sans-serif; font-size:12; text-anchor:end;\" transform=\"rotate(0, 62.4592, 104.835)\" x=\"62.4592\" y=\"104.835\">20000</text>\n",
       "</g>\n",
       "<g clip-path=\"url(#clip00)\">\n",
       "<text style=\"fill:#00002d; fill-opacity:1; font-family:Arial,Helvetica Neue,Helvetica,sans-serif; font-size:12; text-anchor:end;\" transform=\"rotate(0, 62.4592, 40.7071)\" x=\"62.4592\" y=\"40.7071\">25000</text>\n",
       "</g>\n",
       "<g clip-path=\"url(#clip00)\">\n",
       "<text style=\"fill:#00002d; fill-opacity:1; font-family:Arial,Helvetica Neue,Helvetica,sans-serif; font-size:21; text-anchor:middle;\" transform=\"rotate(0, 329.861, 18)\" x=\"329.861\" y=\"18\">Profit-maximizing for Generator with Market Power</text>\n",
       "</g>\n",
       "<g clip-path=\"url(#clip00)\">\n",
       "<text style=\"fill:#00002d; fill-opacity:1; font-family:Arial,Helvetica Neue,Helvetica,sans-serif; font-size:16; text-anchor:middle;\" transform=\"rotate(0, 329.861, 397.6)\" x=\"329.861\" y=\"397.6\">Generator Power Supplied (MW)</text>\n",
       "</g>\n",
       "<g clip-path=\"url(#clip00)\">\n",
       "<text style=\"fill:#00002d; fill-opacity:1; font-family:Arial,Helvetica Neue,Helvetica,sans-serif; font-size:16; text-anchor:middle;\" transform=\"rotate(-90, 14.4, 196.528)\" x=\"14.4\" y=\"196.528\">Value (dollars/hour)</text>\n",
       "</g>\n",
       "<polygon clip-path=\"url(#clip02)\" points=\"\n",
       "63.6592,54.8383 66.7015,59.251 69.7438,63.625 72.7862,67.9604 75.8285,72.2573 78.8708,76.5159 81.9131,80.7365 84.9554,84.919 87.9977,89.0638 91.04,93.1709 \n",
       "  94.0823,97.2405 97.1246,101.273 100.167,105.268 103.209,109.226 106.252,113.147 109.294,117.031 112.336,120.879 115.378,124.69 118.421,128.465 121.463,132.204 \n",
       "  124.505,135.907 127.548,139.574 130.59,143.205 133.632,146.801 136.675,150.361 139.717,153.886 142.759,157.375 145.802,160.83 148.844,164.249 151.886,167.634 \n",
       "  154.928,170.985 157.971,174.3 161.013,177.582 164.055,180.829 167.098,184.042 170.14,187.22 173.182,190.365 176.225,193.477 179.267,196.554 182.309,199.599 \n",
       "  185.352,202.609 188.394,205.587 191.436,208.531 194.478,211.443 197.521,214.321 200.563,217.167 203.605,219.98 206.648,222.76 209.69,225.508 212.732,228.224 \n",
       "  215.775,230.907 218.817,233.559 221.859,236.178 224.902,238.766 227.944,241.322 230.986,243.846 234.028,246.339 237.071,248.8 240.113,251.23 243.155,253.629 \n",
       "  246.198,255.997 249.24,258.333 252.282,260.639 255.325,262.914 258.367,265.159 261.409,267.372 264.452,269.556 267.494,271.709 270.536,273.831 273.578,275.924 \n",
       "  276.621,277.986 279.663,280.019 282.705,282.022 285.748,283.995 288.79,285.938 291.832,287.851 294.875,289.736 297.917,291.59 300.959,293.416 304.001,295.212 \n",
       "  307.044,296.98 310.086,298.718 313.128,300.427 316.171,302.108 319.213,303.76 322.255,305.383 325.298,306.976 328.34,308.534 331.382,310.058 334.425,311.553 \n",
       "  337.467,313.021 340.509,314.46 343.551,315.872 346.594,317.256 349.636,318.613 352.678,319.942 355.721,321.243 358.763,322.518 361.805,323.765 364.848,324.985 \n",
       "  367.89,326.178 370.932,327.344 373.975,328.484 377.017,329.596 380.059,330.682 383.101,331.741 386.144,332.774 389.186,333.78 392.228,334.76 395.271,335.714 \n",
       "  398.313,336.641 401.355,337.543 404.398,338.419 407.44,339.27 410.482,340.095 413.525,340.894 416.567,341.669 419.609,342.419 422.651,343.145 425.694,343.847 \n",
       "  428.736,344.526 431.778,345.182 434.821,345.815 437.863,346.427 440.905,347.018 443.948,347.588 446.99,348.139 450.032,348.67 453.075,349.183 456.117,349.677 \n",
       "  459.159,350.153 462.201,350.611 465.244,351.052 468.286,351.476 471.328,351.883 474.371,352.274 477.413,352.649 480.455,353.008 483.498,353.35 486.54,353.676 \n",
       "  489.582,353.987 492.625,354.281 495.667,354.558 498.709,354.82 501.751,355.066 504.794,355.296 507.836,355.509 510.878,355.707 513.921,355.889 516.963,356.055 \n",
       "  520.005,356.205 523.048,356.34 526.09,356.458 529.132,356.561 532.175,356.648 535.217,356.719 538.259,356.775 541.301,356.815 544.344,356.84 547.386,356.848 \n",
       "  547.386,356.848 544.344,356.848 541.301,356.848 538.259,356.848 535.217,356.848 532.175,356.848 529.132,356.848 526.09,356.848 523.048,356.848 520.005,356.848 \n",
       "  516.963,356.848 513.921,356.848 510.878,356.848 507.836,356.848 504.794,356.848 501.751,356.848 498.709,356.848 495.667,356.848 492.625,356.848 489.582,356.848 \n",
       "  486.54,356.848 483.498,356.848 480.455,356.848 477.413,356.848 474.371,356.848 471.328,356.848 468.286,356.848 465.244,356.848 462.201,356.848 459.159,356.848 \n",
       "  456.117,356.848 453.075,356.848 450.032,356.848 446.99,356.848 443.948,356.848 440.905,356.848 437.863,356.848 434.821,356.848 431.778,356.848 428.736,356.848 \n",
       "  425.694,356.848 422.651,356.848 419.609,356.848 416.567,356.848 413.525,356.848 410.482,356.848 407.44,356.848 404.398,356.848 401.355,356.848 398.313,356.848 \n",
       "  395.271,356.848 392.228,356.848 389.186,356.848 386.144,356.848 383.101,356.848 380.059,356.848 377.017,356.848 373.975,356.848 370.932,356.848 367.89,356.848 \n",
       "  364.848,356.848 361.805,356.848 358.763,356.848 355.721,356.848 352.678,356.848 349.636,356.848 346.594,356.848 343.551,356.848 340.509,356.848 337.467,356.848 \n",
       "  334.425,356.848 331.382,356.848 328.34,356.848 325.298,356.848 322.255,356.848 319.213,356.848 316.171,356.848 313.128,356.848 310.086,356.848 307.044,356.848 \n",
       "  304.001,356.848 300.959,356.848 297.917,356.848 294.875,356.848 291.832,356.848 288.79,356.848 285.748,356.848 282.705,356.848 279.663,356.848 276.621,356.848 \n",
       "  273.578,356.848 270.536,356.848 267.494,356.848 264.452,356.848 261.409,356.848 258.367,356.848 255.325,356.848 252.282,356.848 249.24,356.848 246.198,356.848 \n",
       "  243.155,356.848 240.113,356.848 237.071,356.848 234.028,356.848 230.986,356.848 227.944,356.848 224.902,356.848 221.859,356.848 218.817,356.848 215.775,356.848 \n",
       "  212.732,356.848 209.69,356.848 206.648,356.848 203.605,356.848 200.563,356.848 197.521,356.848 194.478,356.848 191.436,356.848 188.394,356.848 185.352,356.848 \n",
       "  182.309,356.848 179.267,356.848 176.225,356.848 173.182,356.848 170.14,356.848 167.098,356.848 164.055,356.848 161.013,356.848 157.971,356.848 154.928,356.848 \n",
       "  151.886,356.848 148.844,356.848 145.802,356.848 142.759,356.848 139.717,356.848 136.675,356.848 133.632,356.848 130.59,356.848 127.548,356.848 124.505,356.848 \n",
       "  121.463,356.848 118.421,356.848 115.378,356.848 112.336,356.848 109.294,356.848 106.252,356.848 103.209,356.848 100.167,356.848 97.1246,356.848 94.0823,356.848 \n",
       "  91.04,356.848 87.9977,356.848 84.9554,356.848 81.9131,356.848 78.8708,356.848 75.8285,356.848 72.7862,356.848 69.7438,356.848 66.7015,356.848 63.6592,356.848 \n",
       "  \n",
       "  \" fill=\"#86cdeb\" fill-opacity=\"1\"/>\n",
       "<polyline clip-path=\"url(#clip02)\" style=\"stroke:#0099ff; stroke-width:2.4; stroke-opacity:1; fill:none\" points=\"\n",
       "  63.6592,54.8383 66.7015,59.251 69.7438,63.625 72.7862,67.9604 75.8285,72.2573 78.8708,76.5159 81.9131,80.7365 84.9554,84.919 87.9977,89.0638 91.04,93.1709 \n",
       "  94.0823,97.2405 97.1246,101.273 100.167,105.268 103.209,109.226 106.252,113.147 109.294,117.031 112.336,120.879 115.378,124.69 118.421,128.465 121.463,132.204 \n",
       "  124.505,135.907 127.548,139.574 130.59,143.205 133.632,146.801 136.675,150.361 139.717,153.886 142.759,157.375 145.802,160.83 148.844,164.249 151.886,167.634 \n",
       "  154.928,170.985 157.971,174.3 161.013,177.582 164.055,180.829 167.098,184.042 170.14,187.22 173.182,190.365 176.225,193.477 179.267,196.554 182.309,199.599 \n",
       "  185.352,202.609 188.394,205.587 191.436,208.531 194.478,211.443 197.521,214.321 200.563,217.167 203.605,219.98 206.648,222.76 209.69,225.508 212.732,228.224 \n",
       "  215.775,230.907 218.817,233.559 221.859,236.178 224.902,238.766 227.944,241.322 230.986,243.846 234.028,246.339 237.071,248.8 240.113,251.23 243.155,253.629 \n",
       "  246.198,255.997 249.24,258.333 252.282,260.639 255.325,262.914 258.367,265.159 261.409,267.372 264.452,269.556 267.494,271.709 270.536,273.831 273.578,275.924 \n",
       "  276.621,277.986 279.663,280.019 282.705,282.022 285.748,283.995 288.79,285.938 291.832,287.851 294.875,289.736 297.917,291.59 300.959,293.416 304.001,295.212 \n",
       "  307.044,296.98 310.086,298.718 313.128,300.427 316.171,302.108 319.213,303.76 322.255,305.383 325.298,306.976 328.34,308.534 331.382,310.058 334.425,311.553 \n",
       "  337.467,313.021 340.509,314.46 343.551,315.872 346.594,317.256 349.636,318.613 352.678,319.942 355.721,321.243 358.763,322.518 361.805,323.765 364.848,324.985 \n",
       "  367.89,326.178 370.932,327.344 373.975,328.484 377.017,329.596 380.059,330.682 383.101,331.741 386.144,332.774 389.186,333.78 392.228,334.76 395.271,335.714 \n",
       "  398.313,336.641 401.355,337.543 404.398,338.419 407.44,339.27 410.482,340.095 413.525,340.894 416.567,341.669 419.609,342.419 422.651,343.145 425.694,343.847 \n",
       "  428.736,344.526 431.778,345.182 434.821,345.815 437.863,346.427 440.905,347.018 443.948,347.588 446.99,348.139 450.032,348.67 453.075,349.183 456.117,349.677 \n",
       "  459.159,350.153 462.201,350.611 465.244,351.052 468.286,351.476 471.328,351.883 474.371,352.274 477.413,352.649 480.455,353.008 483.498,353.35 486.54,353.676 \n",
       "  489.582,353.987 492.625,354.281 495.667,354.558 498.709,354.82 501.751,355.066 504.794,355.296 507.836,355.509 510.878,355.707 513.921,355.889 516.963,356.055 \n",
       "  520.005,356.205 523.048,356.34 526.09,356.458 529.132,356.561 532.175,356.648 535.217,356.719 538.259,356.775 541.301,356.815 544.344,356.84 547.386,356.848 \n",
       "  \n",
       "  \"/>\n",
       "<polyline clip-path=\"url(#clip02)\" style=\"stroke:#e9746a; stroke-width:2.4; stroke-opacity:1; fill:none\" points=\"\n",
       "  63.6592,335.906 66.7015,331.679 69.7438,327.523 72.7862,323.438 75.8285,319.423 78.8708,315.479 81.9131,311.604 84.9554,307.798 87.9977,304.061 91.04,300.392 \n",
       "  94.0823,296.79 97.1246,293.256 100.167,289.789 103.209,286.388 106.252,283.053 109.294,279.784 112.336,276.58 115.378,273.441 118.421,270.365 121.463,267.354 \n",
       "  124.505,264.406 127.548,261.522 130.59,258.7 133.632,255.94 136.675,253.243 139.717,250.607 142.759,248.032 145.802,245.517 148.844,243.064 151.886,240.67 \n",
       "  154.928,238.336 157.971,236.061 161.013,233.846 164.055,231.689 167.098,229.59 170.14,227.549 173.182,225.566 176.225,223.64 179.267,221.77 182.309,219.958 \n",
       "  185.352,218.201 188.394,216.501 191.436,214.856 194.478,213.267 197.521,211.732 200.563,210.252 203.605,208.826 206.648,207.455 209.69,206.137 212.732,204.872 \n",
       "  215.775,203.661 218.817,202.502 221.859,201.396 224.902,200.342 227.944,199.34 230.986,198.389 234.028,197.49 237.071,196.642 240.113,195.845 243.155,195.098 \n",
       "  246.198,194.402 249.24,193.755 252.282,193.158 255.325,192.611 258.367,192.112 261.409,191.663 264.452,191.262 267.494,190.91 270.536,190.605 273.578,190.349 \n",
       "  276.621,190.14 279.663,189.978 282.705,189.864 285.748,189.796 288.79,189.775 291.832,189.8 294.875,189.872 297.917,189.989 300.959,190.152 304.001,190.36 \n",
       "  307.044,190.614 310.086,190.912 313.128,191.255 316.171,191.642 319.213,192.074 322.255,192.55 325.298,193.499 328.34,194.656 331.382,195.604 334.425,196.238 \n",
       "  337.467,196.915 340.509,197.636 343.551,198.398 346.594,199.203 349.636,200.05 352.678,200.938 355.721,201.868 358.763,202.84 361.805,203.852 364.848,204.904 \n",
       "  367.89,205.996 370.932,207.129 373.975,208.3 377.017,209.51 380.059,210.759 383.101,212.045 386.144,213.368 389.186,214.727 392.228,216.121 395.271,217.549 \n",
       "  398.313,219.009 401.355,220.501 404.398,222.021 407.44,223.567 410.482,225.135 413.525,226.72 416.567,228.318 419.609,229.922 422.651,231.522 425.694,233.109 \n",
       "  428.736,234.674 431.778,236.207 434.821,237.7 437.863,239.149 440.905,240.553 443.948,241.916 446.99,243.244 450.032,244.542 453.075,245.817 456.117,247.077 \n",
       "  459.159,248.327 462.201,249.572 465.244,250.8 468.286,251.92 471.328,253.063 474.371,254.23 477.413,255.419 480.455,256.632 483.498,257.867 486.54,259.126 \n",
       "  489.582,260.407 492.625,261.711 495.667,263.038 498.709,264.387 501.751,265.759 504.794,267.152 507.836,268.569 510.878,270.007 513.921,271.468 516.963,272.95 \n",
       "  520.005,274.454 523.048,275.981 526.09,277.529 529.132,279.098 532.175,280.69 535.217,282.302 538.259,283.937 541.301,285.592 544.344,287.269 547.386,288.967 \n",
       "  \n",
       "  \"/>\n",
       "<polygon clip-path=\"url(#clip02)\" style=\"fill:#7f7f7f; fill-opacity:0.8\" points=\"\n",
       "  547.592,349.648 540.392,356.848 547.592,364.048 554.792,356.848 547.592,349.648 \n",
       "  \"/>\n",
       "<polygon clip-path=\"url(#clip02)\" style=\"fill:#008100; fill-opacity:0.8\" points=\"\n",
       "  547.592,352.048 542.792,356.848 547.592,361.648 552.392,356.848 547.592,352.048 \n",
       "  \"/>\n",
       "<polygon clip-path=\"url(#clip02)\" style=\"fill:#7f7f7f; fill-opacity:0.8\" points=\"\n",
       "  288.79,278.738 281.59,285.938 288.79,293.138 295.99,285.938 288.79,278.738 \n",
       "  \"/>\n",
       "<polygon clip-path=\"url(#clip02)\" style=\"fill:#ff0000; fill-opacity:0.8\" points=\"\n",
       "  288.79,281.138 283.99,285.938 288.79,290.738 293.59,285.938 288.79,281.138 \n",
       "  \"/>\n",
       "<polyline clip-path=\"url(#clip02)\" style=\"stroke:#810081; stroke-width:0.8; stroke-opacity:1; fill:none\" points=\"\n",
       "  288.79,369.674 288.79,23.3815 \n",
       "  \"/>\n",
       "<polyline clip-path=\"url(#clip02)\" style=\"stroke:#810081; stroke-width:0.8; stroke-opacity:1; fill:none\" points=\"\n",
       "  547.592,369.674 547.592,23.3815 \n",
       "  \"/>\n",
       "<line clip-path=\"url(#clip02)\" x1=\"293.353\" y1=\"170.876\" x2=\"294.353\" y2=\"170.876\" style=\"stroke:#00002d; stroke-opacity:1\"/>\n",
       "<line clip-path=\"url(#clip02)\" x1=\"293.353\" y1=\"170.876\" x2=\"294.353\" y2=\"170.876\" style=\"stroke:#ffffff; stroke-opacity:1\"/>\n",
       "<g clip-path=\"url(#clip00)\">\n",
       "<text style=\"fill:#00002d; fill-opacity:1; font-family:Arial,Helvetica Neue,Helvetica,sans-serif; font-size:21; text-anchor:middle;\" transform=\"rotate(0, 293.353, 178.376)\" x=\"293.353\" y=\"178.376\">DWL = 5528.81 dollars/hr</text>\n",
       "</g>\n",
       "<polygon clip-path=\"url(#clip00)\" points=\"\n",
       "408.73,150.101 578.063,150.101 578.063,44.2615 408.73,44.2615 \n",
       "  \" fill=\"#ffffff\" fill-opacity=\"1\"/>\n",
       "<polyline clip-path=\"url(#clip00)\" style=\"stroke:#00002d; stroke-width:0.8; stroke-opacity:1; fill:none\" points=\"\n",
       "  408.73,150.101 578.063,150.101 578.063,44.2615 408.73,44.2615 408.73,150.101 \n",
       "  \"/>\n",
       "<polyline clip-path=\"url(#clip00)\" style=\"stroke:#0099ff; stroke-width:2.4; stroke-opacity:1; fill:none\" points=\"\n",
       "  414.73,59.3815 450.73,59.3815 \n",
       "  \"/>\n",
       "<g clip-path=\"url(#clip00)\">\n",
       "<text style=\"fill:#00002d; fill-opacity:1; font-family:Arial,Helvetica Neue,Helvetica,sans-serif; font-size:12; text-anchor:start;\" transform=\"rotate(0, 456.73, 63.8815)\" x=\"456.73\" y=\"63.8815\">DWL to Society</text>\n",
       "</g>\n",
       "<polyline clip-path=\"url(#clip00)\" style=\"stroke:#e9746a; stroke-width:2.4; stroke-opacity:1; fill:none\" points=\"\n",
       "  414.73,74.5015 450.73,74.5015 \n",
       "  \"/>\n",
       "<g clip-path=\"url(#clip00)\">\n",
       "<text style=\"fill:#00002d; fill-opacity:1; font-family:Arial,Helvetica Neue,Helvetica,sans-serif; font-size:12; text-anchor:start;\" transform=\"rotate(0, 456.73, 79.0015)\" x=\"456.73\" y=\"79.0015\">Profit generator</text>\n",
       "</g>\n",
       "<polygon clip-path=\"url(#clip00)\" style=\"fill:#7f7f7f; fill-opacity:0.8\" points=\"\n",
       "  420.73,79.2215 410.33,89.6215 420.73,100.021 431.13,89.6215 420.73,79.2215 \n",
       "  \"/>\n",
       "<polygon clip-path=\"url(#clip00)\" style=\"fill:#008100; fill-opacity:0.8\" points=\"\n",
       "  420.73,81.6215 412.73,89.6215 420.73,97.6215 428.73,89.6215 420.73,81.6215 \n",
       "  \"/>\n",
       "<polygon clip-path=\"url(#clip00)\" style=\"fill:#7f7f7f; fill-opacity:0.8\" points=\"\n",
       "  444.73,79.2215 434.33,89.6215 444.73,100.021 455.13,89.6215 444.73,79.2215 \n",
       "  \"/>\n",
       "<polygon clip-path=\"url(#clip00)\" style=\"fill:#008100; fill-opacity:0.8\" points=\"\n",
       "  444.73,81.6215 436.73,89.6215 444.73,97.6215 452.73,89.6215 444.73,81.6215 \n",
       "  \"/>\n",
       "<g clip-path=\"url(#clip00)\">\n",
       "<text style=\"fill:#00002d; fill-opacity:1; font-family:Arial,Helvetica Neue,Helvetica,sans-serif; font-size:12; text-anchor:start;\" transform=\"rotate(0, 456.73, 94.1215)\" x=\"456.73\" y=\"94.1215\">Society Optimality</text>\n",
       "</g>\n",
       "<polygon clip-path=\"url(#clip00)\" style=\"fill:#7f7f7f; fill-opacity:0.8\" points=\"\n",
       "  420.73,94.3415 410.33,104.741 420.73,115.141 431.13,104.741 420.73,94.3415 \n",
       "  \"/>\n",
       "<polygon clip-path=\"url(#clip00)\" style=\"fill:#ff0000; fill-opacity:0.8\" points=\"\n",
       "  420.73,96.7415 412.73,104.741 420.73,112.741 428.73,104.741 420.73,96.7415 \n",
       "  \"/>\n",
       "<polygon clip-path=\"url(#clip00)\" style=\"fill:#7f7f7f; fill-opacity:0.8\" points=\"\n",
       "  444.73,94.3415 434.33,104.741 444.73,115.141 455.13,104.741 444.73,94.3415 \n",
       "  \"/>\n",
       "<polygon clip-path=\"url(#clip00)\" style=\"fill:#ff0000; fill-opacity:0.8\" points=\"\n",
       "  444.73,96.7415 436.73,104.741 444.73,112.741 452.73,104.741 444.73,96.7415 \n",
       "  \"/>\n",
       "<g clip-path=\"url(#clip00)\">\n",
       "<text style=\"fill:#00002d; fill-opacity:1; font-family:Arial,Helvetica Neue,Helvetica,sans-serif; font-size:12; text-anchor:start;\" transform=\"rotate(0, 456.73, 109.241)\" x=\"456.73\" y=\"109.241\">Generator Optimality</text>\n",
       "</g>\n",
       "<polyline clip-path=\"url(#clip00)\" style=\"stroke:#810081; stroke-width:0.8; stroke-opacity:1; fill:none\" points=\"\n",
       "  414.73,119.861 450.73,119.861 \n",
       "  \"/>\n",
       "<g clip-path=\"url(#clip00)\">\n",
       "<text style=\"fill:#00002d; fill-opacity:1; font-family:Arial,Helvetica Neue,Helvetica,sans-serif; font-size:12; text-anchor:start;\" transform=\"rotate(0, 456.73, 124.361)\" x=\"456.73\" y=\"124.361\">Support</text>\n",
       "</g>\n",
       "<circle clip-path=\"url(#clip00)\" style=\"fill:#00002d; stroke:none; fill-opacity:1\" cx=\"420.73\" cy=\"134.981\" r=\"7\"/>\n",
       "<circle clip-path=\"url(#clip00)\" style=\"fill:#ffffff; stroke:none; fill-opacity:1\" cx=\"420.73\" cy=\"134.981\" r=\"7\"/>\n",
       "<circle clip-path=\"url(#clip00)\" style=\"fill:#00002d; stroke:none; fill-opacity:1\" cx=\"444.73\" cy=\"134.981\" r=\"7\"/>\n",
       "<circle clip-path=\"url(#clip00)\" style=\"fill:#ffffff; stroke:none; fill-opacity:1\" cx=\"444.73\" cy=\"134.981\" r=\"7\"/>\n",
       "<g clip-path=\"url(#clip00)\">\n",
       "<text style=\"fill:#00002d; fill-opacity:1; font-family:Arial,Helvetica Neue,Helvetica,sans-serif; font-size:12; text-anchor:start;\" transform=\"rotate(0, 456.73, 139.481)\" x=\"456.73\" y=\"139.481\">Annotation</text>\n",
       "</g>\n",
       "</svg>\n"
      ]
     },
     "execution_count": 32,
     "metadata": {},
     "output_type": "execute_result"
    }
   ],
   "source": [
    "default(legend=true)\n",
    "plot(P_run[:,3],obj_run-optval, label = \"DWL to Society\",xlims = (10, 360),ylims = (-1000,26000),\n",
    "    xticks = 30:30:330, yticks = 0:5000:25000, xlabel = \"Generator Power Supplied (MW)\", ylabel = \"Value (dollars/hour)\", \n",
    "    w = 3, title = \"Profit-maximizing for Generator with Market Power\",fill=(0,:skyblue))\n",
    "plot!(P_run[:,3],rev_gen-costs_gen, label = \"Profit generator\", w = 3)\n",
    "scatter!([P_opt[3]],[0],color=[:green],marker=([:d],6,0.8,stroke(3,:gray)), label = \"Society Optimality\")\n",
    "scatter!([gen_opt_P],[gen_opt_DWL],color=[:red],marker=([:d],6,0.8,stroke(3,:gray)), label = \"Generator Optimality\")\n",
    "vline!([gen_opt_P, P_opt[3]],color = [:purple], label = \"Support\")\n",
    "scatter!([gen_opt_P+3], [14_500], series_annotations = [\"DWL = $gen_opt_DWL dollars/hr\"], markersize = 0, color = [:white]\n",
    ", label = \"Annotation\")"
   ]
  },
  {
   "cell_type": "markdown",
   "metadata": {},
   "source": [
    "- We can see a market flaw because at the profit maximizing point of the generator with market power, society incurs in a deadweight loss of 5528.81 dollars per hour compared to social optimality"
   ]
  },
  {
   "cell_type": "markdown",
   "metadata": {
    "collapsed": true
   },
   "source": [
    "## 4. Transmission Expansion Planning (Mixed Integer Programming)"
   ]
  },
  {
   "cell_type": "markdown",
   "metadata": {},
   "source": [
    "The transmission planning process must identify and support development of transmission infrastructure that is sufficiently robust and can enable competition among wholesale capacity and energy suppliers in energy markets. However, it is a very complex mathematical problem. In this project, I replicate algorithms that try to tackle this problem through linearizations and relaxations."
   ]
  },
  {
   "cell_type": "markdown",
   "metadata": {},
   "source": [
    "#### The TEP algorithms I will replicate come from the Paper:\n",
    "- Transmission Expansion Planning: A Mixed-Integer LP Approach (2003) by Natalia Alguacil, Alexis L. Motto and Antonio J. Conejo"
   ]
  },
  {
   "cell_type": "markdown",
   "metadata": {},
   "source": [
    "- This paper presents a mixed-integer LP approach to the solution of the long-term transmission expansion planning problem\n",
    "\n",
    "\n",
    "- In general, this problem is large-scale, mixed-integer, nonlinear, and nonconvex. The authors derive a mixed-integer linear formulation that considers losses and guarantees convergence to optimality using existing optimization software\n",
    "\n",
    "\n",
    "- The proposed model is applied to Garver’s 6-bus system, the IEEE Reliability Test System, and a realistic Brazilian system. However, I only apply the algorithm to Garver’s 6-bus system."
   ]
  },
  {
   "cell_type": "markdown",
   "metadata": {},
   "source": [
    "### TEP Algorithm (Original Model)\n",
    "\n",
    "#### Objective: minimize { σ ∑λⱼᴳPⱼᴳ + Kₛₜₖwₛₜₖ } \n",
    "\n",
    "σ - weighting factor to make investment and operational costs comparable\n",
    "\n",
    "λⱼᴳ - locational marginal prices\n",
    "\n",
    "Kₛₜₖ - Investment cost of constructing line in corridor (s,t)\n",
    "\n",
    "wₛₜₖ - Binary variable that equals 1 if line k from (s,t) corridor is built and equals 0 otherwise\n",
    "\n",
    "#### Constraints:\n",
    "\n",
    "- ∑ Pⱼᴳ - Pₛ = ∑ Pₛᴰ for every bus s\n",
    "\n",
    "\n",
    "- Pₛ = ∑ Pₛₜₖ = ∑ [ fₛₜₖ + 1/2 qₛₜₖ ] for every line connected to bus s and for every bus s\n",
    "\n",
    "\n",
    "- fₛₜₖ = -bₛₜₖwₛₜₖ sin( δₛ - δₜ ) for every line\n",
    "\n",
    "\n",
    "- qₛₜₖ = 2gₛₜₖwₛₜₖ [ 1 - cos( δₛ - δₜ ) ] for every line\n",
    "\n",
    "\n",
    "- max(Pₛₜₖ,Pₜₛₖ) <= Pₛₜₖᵐᵃˣ for every line\n",
    " \n",
    " \n",
    "- 0 <= Pⱼᴳ <= Pⱼᴳᵐᵃˣ for every every unit j\n",
    "    \n",
    "    \n",
    "- wₛₜₖ = 1 for every existing line that is not prospective\n",
    "    \n",
    "    \n",
    "- wₛₜₖ ϵ {0,1} for every line\n",
    "\n",
    "    \n",
    "bₛₜₖ - Susceptance of line k in corridor (s,t)\n",
    "\n",
    "gₛₜₖ - conductance of line k in corridor (s,t)\n",
    "\n",
    "qₛₜₖ - Power losses in line k of corridor (s,t)\n",
    "\n",
    "fₛₜₖ - Lossless power flow in line k of corridor (s,t)\n",
    "\n",
    "δₛ - Voltage angle at bus s\n",
    "\n"
   ]
  },
  {
   "cell_type": "markdown",
   "metadata": {},
   "source": [
    "## Gaver 6-bus system"
   ]
  },
  {
   "cell_type": "code",
   "execution_count": 33,
   "metadata": {
    "collapsed": false
   },
   "outputs": [
    {
     "data": {
      "image/png": "[encoded data removed]",
      "text/plain": [
       "400×800 Array{RGBA{N0f8},2}:\n",
       " RGBA{N0f8}(1.0,1.0,1.0,1.0)  …  RGBA{N0f8}(1.0,1.0,1.0,1.0)\n",
       " RGBA{N0f8}(1.0,1.0,1.0,1.0)     RGBA{N0f8}(1.0,1.0,1.0,1.0)\n",
       " RGBA{N0f8}(1.0,1.0,1.0,1.0)     RGBA{N0f8}(1.0,1.0,1.0,1.0)\n",
       " RGBA{N0f8}(1.0,1.0,1.0,1.0)     RGBA{N0f8}(1.0,1.0,1.0,1.0)\n",
       " RGBA{N0f8}(1.0,1.0,1.0,1.0)     RGBA{N0f8}(1.0,1.0,1.0,1.0)\n",
       " RGBA{N0f8}(1.0,1.0,1.0,1.0)  …  RGBA{N0f8}(1.0,1.0,1.0,1.0)\n",
       " RGBA{N0f8}(1.0,1.0,1.0,1.0)     RGBA{N0f8}(1.0,1.0,1.0,1.0)\n",
       " RGBA{N0f8}(1.0,1.0,1.0,1.0)     RGBA{N0f8}(1.0,1.0,1.0,1.0)\n",
       " RGBA{N0f8}(1.0,1.0,1.0,1.0)     RGBA{N0f8}(1.0,1.0,1.0,1.0)\n",
       " RGBA{N0f8}(1.0,1.0,1.0,1.0)     RGBA{N0f8}(1.0,1.0,1.0,1.0)\n",
       " RGBA{N0f8}(1.0,1.0,1.0,1.0)  …  RGBA{N0f8}(1.0,1.0,1.0,1.0)\n",
       " RGBA{N0f8}(1.0,1.0,1.0,1.0)     RGBA{N0f8}(1.0,1.0,1.0,1.0)\n",
       " RGBA{N0f8}(1.0,1.0,1.0,1.0)     RGBA{N0f8}(1.0,1.0,1.0,1.0)\n",
       " ⋮                            ⋱                             \n",
       " RGBA{N0f8}(1.0,1.0,1.0,1.0)     RGBA{N0f8}(1.0,1.0,1.0,1.0)\n",
       " RGBA{N0f8}(1.0,1.0,1.0,1.0)     RGBA{N0f8}(1.0,1.0,1.0,1.0)\n",
       " RGBA{N0f8}(1.0,1.0,1.0,1.0)  …  RGBA{N0f8}(1.0,1.0,1.0,1.0)\n",
       " RGBA{N0f8}(1.0,1.0,1.0,1.0)     RGBA{N0f8}(1.0,1.0,1.0,1.0)\n",
       " RGBA{N0f8}(1.0,1.0,1.0,1.0)     RGBA{N0f8}(1.0,1.0,1.0,1.0)\n",
       " RGBA{N0f8}(1.0,1.0,1.0,1.0)     RGBA{N0f8}(1.0,1.0,1.0,1.0)\n",
       " RGBA{N0f8}(1.0,1.0,1.0,1.0)     RGBA{N0f8}(1.0,1.0,1.0,1.0)\n",
       " RGBA{N0f8}(1.0,1.0,1.0,1.0)  …  RGBA{N0f8}(1.0,1.0,1.0,1.0)\n",
       " RGBA{N0f8}(1.0,1.0,1.0,1.0)     RGBA{N0f8}(1.0,1.0,1.0,1.0)\n",
       " RGBA{N0f8}(1.0,1.0,1.0,1.0)     RGBA{N0f8}(1.0,1.0,1.0,1.0)\n",
       " RGBA{N0f8}(1.0,1.0,1.0,1.0)     RGBA{N0f8}(1.0,1.0,1.0,1.0)\n",
       " RGBA{N0f8}(1.0,1.0,1.0,1.0)     RGBA{N0f8}(1.0,1.0,1.0,1.0)"
      ]
     },
     "execution_count": 33,
     "metadata": {},
     "output_type": "execute_result"
    }
   ],
   "source": [
    "load(\"Garver.png\")"
   ]
  },
  {
   "cell_type": "code",
   "execution_count": 34,
   "metadata": {
    "collapsed": false
   },
   "outputs": [
    {
     "data": {
      "text/html": [
       "<table class=\"data-frame\"><thead><tr><th></th><th>Line_ID</th><th>Corridor</th><th>Resistance</th><th>Reactance</th><th>Investment_Cost</th><th>Capacity_MW</th></tr></thead><tbody><tr><th>1</th><td>1</td><td>1-2</td><td>0.1</td><td>0.4</td><td>40.0</td><td>100</td></tr><tr><th>2</th><td>2</td><td>1-3</td><td>0.09</td><td>0.38</td><td>38.0</td><td>100</td></tr><tr><th>3</th><td>3</td><td>1-4</td><td>0.15</td><td>0.6</td><td>60.0</td><td>80</td></tr><tr><th>4</th><td>4</td><td>1-5</td><td>0.05</td><td>0.2</td><td>20.0</td><td>100</td></tr><tr><th>5</th><td>5</td><td>1-6</td><td>0.17</td><td>0.68</td><td>68.0</td><td>70</td></tr><tr><th>6</th><td>6</td><td>2-3</td><td>0.05</td><td>0.2</td><td>20.0</td><td>100</td></tr><tr><th>7</th><td>7</td><td>2-4</td><td>0.1</td><td>0.4</td><td>40.0</td><td>100</td></tr><tr><th>8</th><td>8</td><td>2-5</td><td>0.08</td><td>0.31</td><td>31.0</td><td>100</td></tr><tr><th>9</th><td>9</td><td>2-6</td><td>0.08</td><td>0.3</td><td>30.0</td><td>100</td></tr><tr><th>10</th><td>10</td><td>3-4</td><td>0.15</td><td>0.59</td><td>59.0</td><td>82</td></tr><tr><th>11</th><td>11</td><td>3-5</td><td>0.05</td><td>0.2</td><td>20.0</td><td>100</td></tr><tr><th>12</th><td>12</td><td>3-6</td><td>0.12</td><td>0.48</td><td>48.0</td><td>100</td></tr><tr><th>13</th><td>13</td><td>4-5</td><td>0.16</td><td>0.63</td><td>63.0</td><td>75</td></tr><tr><th>14</th><td>14</td><td>4-6</td><td>0.08</td><td>0.3</td><td>30.0</td><td>100</td></tr><tr><th>15</th><td>15</td><td>5-6</td><td>0.15</td><td>0.61</td><td>61.0</td><td>78</td></tr></tbody></table>"
      ],
      "text/plain": [
       "15×6 DataFrames.DataFrame\n",
       "│ Row │ Line_ID │ Corridor │ Resistance │ Reactance │ Investment_Cost │\n",
       "├─────┼─────────┼──────────┼────────────┼───────────┼─────────────────┤\n",
       "│ 1   │ 1       │ \"1-2\"    │ 0.1        │ 0.4       │ 40.0            │\n",
       "│ 2   │ 2       │ \"1-3\"    │ 0.09       │ 0.38      │ 38.0            │\n",
       "│ 3   │ 3       │ \"1-4\"    │ 0.15       │ 0.6       │ 60.0            │\n",
       "│ 4   │ 4       │ \"1-5\"    │ 0.05       │ 0.2       │ 20.0            │\n",
       "│ 5   │ 5       │ \"1-6\"    │ 0.17       │ 0.68      │ 68.0            │\n",
       "│ 6   │ 6       │ \"2-3\"    │ 0.05       │ 0.2       │ 20.0            │\n",
       "│ 7   │ 7       │ \"2-4\"    │ 0.1        │ 0.4       │ 40.0            │\n",
       "│ 8   │ 8       │ \"2-5\"    │ 0.08       │ 0.31      │ 31.0            │\n",
       "│ 9   │ 9       │ \"2-6\"    │ 0.08       │ 0.3       │ 30.0            │\n",
       "│ 10  │ 10      │ \"3-4\"    │ 0.15       │ 0.59      │ 59.0            │\n",
       "│ 11  │ 11      │ \"3-5\"    │ 0.05       │ 0.2       │ 20.0            │\n",
       "│ 12  │ 12      │ \"3-6\"    │ 0.12       │ 0.48      │ 48.0            │\n",
       "│ 13  │ 13      │ \"4-5\"    │ 0.16       │ 0.63      │ 63.0            │\n",
       "│ 14  │ 14      │ \"4-6\"    │ 0.08       │ 0.3       │ 30.0            │\n",
       "│ 15  │ 15      │ \"5-6\"    │ 0.15       │ 0.61      │ 61.0            │\n",
       "\n",
       "│ Row │ Capacity_MW │\n",
       "├─────┼─────────────┤\n",
       "│ 1   │ 100         │\n",
       "│ 2   │ 100         │\n",
       "│ 3   │ 80          │\n",
       "│ 4   │ 100         │\n",
       "│ 5   │ 70          │\n",
       "│ 6   │ 100         │\n",
       "│ 7   │ 100         │\n",
       "│ 8   │ 100         │\n",
       "│ 9   │ 100         │\n",
       "│ 10  │ 82          │\n",
       "│ 11  │ 100         │\n",
       "│ 12  │ 100         │\n",
       "│ 13  │ 75          │\n",
       "│ 14  │ 100         │\n",
       "│ 15  │ 78          │"
      ]
     },
     "execution_count": 34,
     "metadata": {},
     "output_type": "execute_result"
    }
   ],
   "source": [
    "# Line data for Garver 6 bus example\n",
    "Line_ID = 1:15; \n",
    "Corridor = [\"1-2\",\"1-3\",\"1-4\",\"1-5\",\"1-6\",\"2-3\",\"2-4\",\"2-5\",\"2-6\",\"3-4\",\"3-5\",\"3-6\",\"4-5\",\"4-6\",\"5-6\"]\n",
    "Resistance = [0.10,0.09,0.15,0.05,0.17,0.05,0.10,0.08,0.08,0.15,0.05,0.12,0.16,0.08,0.15]\n",
    "Reactance = [0.40,0.38,0.60,0.20,0.68,0.20,0.40,0.31,0.30,0.59,0.20,0.48,0.63,0.30,0.61]\n",
    "Line_cost = [40.,38,60,20,68,20,40,31,30,59,20,48,63,30,61]\n",
    "Capacity_MW = [100,100,80,100,70,100,100,100,100,82,100,100,75,100,78]\n",
    "\n",
    "Garver_line = DataFrame(Line_ID = Line_ID, Corridor = Corridor, Resistance = Resistance, \n",
    "    Reactance = Reactance, Investment_Cost = round(Line_cost), Capacity_MW = Capacity_MW)"
   ]
  },
  {
   "cell_type": "code",
   "execution_count": 35,
   "metadata": {
    "collapsed": false
   },
   "outputs": [
    {
     "data": {
      "text/html": [
       "<table class=\"data-frame\"><thead><tr><th></th><th>Line_ID</th><th>Corridor</th><th>Resistance</th><th>Reactance</th><th>Capacity_MW</th></tr></thead><tbody><tr><th>1</th><td>1</td><td>1-2</td><td>0.1</td><td>0.4</td><td>100</td></tr><tr><th>2</th><td>3</td><td>1-4</td><td>0.15</td><td>0.6</td><td>80</td></tr><tr><th>3</th><td>4</td><td>1-5</td><td>0.05</td><td>0.2</td><td>100</td></tr><tr><th>4</th><td>6</td><td>2-3</td><td>0.05</td><td>0.2</td><td>100</td></tr><tr><th>5</th><td>7</td><td>2-4</td><td>0.1</td><td>0.4</td><td>100</td></tr><tr><th>6</th><td>11</td><td>3-5</td><td>0.05</td><td>0.2</td><td>100</td></tr></tbody></table>"
      ],
      "text/plain": [
       "6×5 DataFrames.DataFrame\n",
       "│ Row │ Line_ID │ Corridor │ Resistance │ Reactance │ Capacity_MW │\n",
       "├─────┼─────────┼──────────┼────────────┼───────────┼─────────────┤\n",
       "│ 1   │ 1       │ \"1-2\"    │ 0.1        │ 0.4       │ 100         │\n",
       "│ 2   │ 3       │ \"1-4\"    │ 0.15       │ 0.6       │ 80          │\n",
       "│ 3   │ 4       │ \"1-5\"    │ 0.05       │ 0.2       │ 100         │\n",
       "│ 4   │ 6       │ \"2-3\"    │ 0.05       │ 0.2       │ 100         │\n",
       "│ 5   │ 7       │ \"2-4\"    │ 0.1        │ 0.4       │ 100         │\n",
       "│ 6   │ 11      │ \"3-5\"    │ 0.05       │ 0.2       │ 100         │"
      ]
     },
     "execution_count": 35,
     "metadata": {},
     "output_type": "execute_result"
    }
   ],
   "source": [
    "# Existing Lines Garver\n",
    "Ex_ID = [1,3,4,6,7,11]\n",
    "Ex_lines = DataFrame(Line_ID = Line_ID[Ex_ID], Corridor = Corridor[Ex_ID], \n",
    "    Resistance = Resistance[Ex_ID], Reactance = Reactance[Ex_ID], Capacity_MW = Capacity_MW[Ex_ID])"
   ]
  },
  {
   "cell_type": "code",
   "execution_count": 36,
   "metadata": {
    "collapsed": false
   },
   "outputs": [
    {
     "data": {
      "text/html": [
       "<table class=\"data-frame\"><thead><tr><th></th><th>Bus_ID</th><th>PG_max_MW</th><th>LMP_G</th><th>PD_MW</th></tr></thead><tbody><tr><th>1</th><td>1</td><td>150.0</td><td>10.0</td><td>80</td></tr><tr><th>2</th><td>2</td><td>0.0</td><td>0.0</td><td>240</td></tr><tr><th>3</th><td>3</td><td>360.0</td><td>20.0</td><td>40</td></tr><tr><th>4</th><td>4</td><td>0.0</td><td>0.0</td><td>160</td></tr><tr><th>5</th><td>5</td><td>0.0</td><td>0.0</td><td>240</td></tr><tr><th>6</th><td>6</td><td>600.0</td><td>30.0</td><td>0</td></tr></tbody></table>"
      ],
      "text/plain": [
       "6×4 DataFrames.DataFrame\n",
       "│ Row │ Bus_ID │ PG_max_MW │ LMP_G │ PD_MW │\n",
       "├─────┼────────┼───────────┼───────┼───────┤\n",
       "│ 1   │ 1      │ 150.0     │ 10.0  │ 80    │\n",
       "│ 2   │ 2      │ 0.0       │ 0.0   │ 240   │\n",
       "│ 3   │ 3      │ 360.0     │ 20.0  │ 40    │\n",
       "│ 4   │ 4      │ 0.0       │ 0.0   │ 160   │\n",
       "│ 5   │ 5      │ 0.0       │ 0.0   │ 240   │\n",
       "│ 6   │ 6      │ 600.0     │ 30.0  │ 0     │"
      ]
     },
     "execution_count": 36,
     "metadata": {},
     "output_type": "execute_result"
    }
   ],
   "source": [
    "# Bus data for Garver 6 bus example\n",
    "Bus_ID = 1:6; \n",
    "PG_max = [150.,0,360,0,0,600]\n",
    "LMP_G = [10.,0,20,0,0,30]\n",
    "PD = [80,240,40,160,240,0]\n",
    "\n",
    "Garver_bus = DataFrame(Bus_ID = Bus_ID, PG_max_MW = PG_max, LMP_G = LMP_G, PD_MW = PD)"
   ]
  },
  {
   "cell_type": "markdown",
   "metadata": {},
   "source": [
    "## DC Model Without Losses"
   ]
  },
  {
   "cell_type": "markdown",
   "metadata": {},
   "source": [
    "- I will start by solving the following DC Model without losses for Garver's 6-bus system:"
   ]
  },
  {
   "cell_type": "markdown",
   "metadata": {},
   "source": [
    "### Algorithm (DC Model without Losses)\n",
    "\n",
    "#### Objective: minimize { σ ∑λⱼᴳPⱼᴳ + Kₛₜₖwₛₜₖ } \n",
    "\n",
    "σ - weighting factor to make investment and operational costs comparable\n",
    "\n",
    "λⱼᴳ - locational marginal prices\n",
    "\n",
    "Kₛₜₖ - Investment cost of constructing line in corridor (s,t)\n",
    "\n",
    "wₛₜₖ - Binary variable that equals 1 if line k from (s,t) corridor is built and equals 0 otherwise\n",
    "\n",
    "#### Constraints\n",
    "\n",
    "\n",
    "- Pₛᴳ - ∑ Pₛₜₖ = Pₛᴰ for every bus s\n",
    "\n",
    "\n",
    "- -wₛₜₖPₛₜₖᵐᵃˣ <= Pₛₜₖ <= wₛₜₖPₛₜₖᵐᵃˣ : for every line\n",
    "\n",
    "\n",
    "- 0 <= Pⱼᴳ <= Pⱼᴳᵐᵃˣ : for every every unit j\n",
    "\n",
    "\n",
    "- wₛₜₖ = 1 : for every existing line that is not prospective\n",
    "    \n",
    "    \n",
    "- wₛₜₖ ϵ {0,1} : for every line\n",
    "\n"
   ]
  },
  {
   "cell_type": "code",
   "execution_count": 37,
   "metadata": {
    "collapsed": true
   },
   "outputs": [],
   "source": [
    "# line data\n",
    "C1 = [1,1,1,1,1,2,2,2,2,3,3,3,4,4,5]\n",
    "C2 = [2,3,4,5,6,3,4,5,6,4,5,6,5,6,6]\n",
    "\n",
    "# resized line data vectors (45-long vectors)\n",
    "Line_ID_jump = 1:45\n",
    "Corridor_jump = [Corridor;Corridor;Corridor]\n",
    "lcost_jump = [Line_cost;Line_cost;Line_cost]\n",
    "Capacity_MW_jump = [Capacity_MW;Capacity_MW;Capacity_MW]\n",
    "C1_jump = [C1;C1;C1]\n",
    "C2_jump = [C2;C2;C2]\n",
    "\n",
    "# NPV factor for 20 years with 10% discount rate to make fixed and operating costs compareable\n",
    "df = 0.0\n",
    "for i = 1:20\n",
    "    df += 1/(1.1)^i\n",
    "end\n",
    "fy = 1/df\n",
    "\n",
    "# bus data\n",
    "generators = [1,3,6]\n",
    "loads = [2,4,5];"
   ]
  },
  {
   "cell_type": "code",
   "execution_count": 38,
   "metadata": {
    "collapsed": true
   },
   "outputs": [],
   "source": [
    "# sets of bus and neighboring line IDs\n",
    "bus_1_c1 = Int64[]; bus_2_c1 = Int64[]; bus_3_c1 = Int64[]; bus_4_c1 = Int64[]; bus_5_c1 = Int64[]; bus_6_c1 = Int64[]\n",
    "bus_1_c2 = Int64[]; bus_2_c2 = Int64[]; bus_3_c2 = Int64[]; bus_4_c2 = Int64[]; bus_5_c2 = Int64[]; bus_6_c2 = Int64[]\n",
    "\n",
    "for i = 1:45\n",
    "    if C1_jump[i] == 1\n",
    "        bus_1_c1 = push!(bus_1_c1,i)\n",
    "    elseif C1_jump[i] == 2\n",
    "        bus_2_c1 = push!(bus_2_c1,i)\n",
    "    elseif C1_jump[i] == 3\n",
    "        bus_3_c1 = push!(bus_3_c1,i)\n",
    "    elseif C1_jump[i] == 4\n",
    "        bus_4_c1 = push!(bus_4_c1,i)       \n",
    "    elseif C1_jump[i] == 5\n",
    "        bus_5_c1 = push!(bus_5_c1,i)\n",
    "     elseif C1_jump[i] == 6\n",
    "        bus_6_c1 = push!(bus_6_c1,i)\n",
    "    end\n",
    "end   \n",
    "   \n",
    "for i = 1:45\n",
    "    if C2_jump[i] == 1\n",
    "        bus_1_c2 = push!(bus_1_c2,i)\n",
    "    elseif C2_jump[i] == 2\n",
    "        bus_2_c2 = push!(bus_2_c2,i)\n",
    "    elseif C2_jump[i] == 3\n",
    "        bus_3_c2 = push!(bus_3_c2,i)\n",
    "    elseif C2_jump[i] == 4\n",
    "        bus_4_c2 = push!(bus_4_c2,i)     \n",
    "    elseif C2_jump[i] == 5\n",
    "        bus_5_c2 = push!(bus_5_c2,i)\n",
    "     elseif C2_jump[i] == 6\n",
    "        bus_6_c2 = push!(bus_6_c2,i)\n",
    "    end\n",
    "end  "
   ]
  },
  {
   "cell_type": "code",
   "execution_count": 39,
   "metadata": {
    "collapsed": false
   },
   "outputs": [
    {
     "data": {
      "text/plain": [
       "6-element Array{Array{Int64,1},1}:\n",
       " [1,2,3,4,5,16,17,18,19,20,31,32,33,34,35]\n",
       " [6,7,8,9,21,22,23,24,36,37,38,39]        \n",
       " [10,11,12,25,26,27,40,41,42]             \n",
       " [13,14,28,29,43,44]                      \n",
       " [15,30,45]                               \n",
       " Int64[]                                  "
      ]
     },
     "execution_count": 39,
     "metadata": {},
     "output_type": "execute_result"
    }
   ],
   "source": [
    "# Set of lines going from bus s\n",
    "bus_mat_c1 = [bus_1_c1,bus_2_c1,bus_3_c1,bus_4_c1,bus_5_c1,bus_6_c1]"
   ]
  },
  {
   "cell_type": "code",
   "execution_count": 40,
   "metadata": {
    "collapsed": false
   },
   "outputs": [
    {
     "data": {
      "text/plain": [
       "6-element Array{Array{Int64,1},1}:\n",
       " Int64[]                                     \n",
       " [1,16,31]                                   \n",
       " [2,6,17,21,32,36]                           \n",
       " [3,7,10,18,22,25,33,37,40]                  \n",
       " [4,8,11,13,19,23,26,28,34,38,41,43]         \n",
       " [5,9,12,14,15,20,24,27,29,30,35,39,42,44,45]"
      ]
     },
     "execution_count": 40,
     "metadata": {},
     "output_type": "execute_result"
    }
   ],
   "source": [
    "# Set of lines going into bus s\n",
    "bus_mat_c2 = [bus_1_c2,bus_2_c2,bus_3_c2,bus_4_c2,bus_5_c2,bus_6_c2]"
   ]
  },
  {
   "cell_type": "code",
   "execution_count": 41,
   "metadata": {
    "collapsed": false
   },
   "outputs": [
    {
     "data": {
      "text/plain": [
       "DC_no_loss (generic function with 1 method)"
      ]
     },
     "execution_count": 41,
     "metadata": {},
     "output_type": "execute_result"
    }
   ],
   "source": [
    "# activate a mixed integer-linear solver\n",
    "\n",
    "function DC_no_loss()\n",
    "\n",
    "m = Model(solver = GLPKSolverMIP())\n",
    "\n",
    "@variable(m, w[1:45], Bin) # 45 variables because each line can be built up to 3 times\n",
    "@variable(m, pst[1:45]) # lineflow as variables\n",
    "\n",
    "# Set a constraint for exisiting lines\n",
    "@constraint(m, exconstr[i=1:6], w[Ex_ID[i]] == 1)\n",
    "\n",
    "# Calculate an expression for the power flows through each bus\n",
    "@expression(m, pf[i=1:6], sum(pst[j] for j in bus_mat_c1[i])-sum(pst[j] for j in bus_mat_c2[i]))\n",
    "\n",
    "# Calculate an expression for the power generated\n",
    "@expression(m, pg[i=1:6], PD[i]+pf[i])\n",
    "                    \n",
    "# Define the minimization objective\n",
    "@expression(m, gen_costs, sum(pg[i]*LMP_G[i] for i = 1:6))\n",
    "@expression(m, line_costs, sum(w[i]*lcost_jump[i] for i = 1:45))\n",
    "            \n",
    "@objective(m, Min, line_costs + gen_costs*(fy*8760/10^6)) \n",
    "\n",
    "# Generator flow constraints\n",
    "@constraint(m, gen[i=1:6], 0 <= pg[i] <= PG_max[i])\n",
    "                                    \n",
    "# Line flow constraints\n",
    "@expression(m, min_flow[i=1:45], -w[i]*Capacity_MW_jump[i])\n",
    "@expression(m, max_flow[i=1:45], w[i]*Capacity_MW_jump[i]) \n",
    "                                    \n",
    "@constraint(m, min_flow_cstr[i=1:45], pst[i] >= min_flow[i])\n",
    "@constraint(m, max_flow_cstr[i=1:45], pst[i] <= max_flow[i])\n",
    "                                    \n",
    "# Load constraints\n",
    "@constraint(m, load_balance[i = 1:6] , pg[i] - pf[i] == PD[i])\n",
    "                                    \n",
    "solve(m)\n",
    "\n",
    "W_jump_nl = getvalue(w)\n",
    "pst_jump_nl = getvalue(pst)\n",
    "pg_jump_nl = getvalue(pg)\n",
    "line_costs_jump_nl = getvalue(line_costs)\n",
    "                                            \n",
    "obj_nl = getobjectivevalue(m)  \n",
    "\n",
    "return W_jump_nl, pst_jump_nl, pg_jump_nl, line_costs_jump_nl, obj_nl\n",
    "                                                \n",
    "end                                  "
   ]
  },
  {
   "cell_type": "code",
   "execution_count": 42,
   "metadata": {
    "collapsed": true
   },
   "outputs": [],
   "source": [
    "(W_jump_nl, pst_jump_nl, pg_jump_nl, line_costs_jump_nl, obj_nl) = DC_no_loss();"
   ]
  },
  {
   "cell_type": "markdown",
   "metadata": {},
   "source": [
    "## Results"
   ]
  },
  {
   "cell_type": "code",
   "execution_count": 43,
   "metadata": {
    "collapsed": false
   },
   "outputs": [
    {
     "name": "stdout",
     "output_type": "stream",
     "text": [
      "the number of new lines required is 4\n"
     ]
    }
   ],
   "source": [
    "nl_lines = find(W_jump_nl[1:end])\n",
    "nl_new_lines = setdiff(nl_lines,Ex_ID)\n",
    "n_lines_DC_wo_loss = size(nl_new_lines)[1]\n",
    "println(\"the number of new lines required is $n_lines_DC_wo_loss\")"
   ]
  },
  {
   "cell_type": "code",
   "execution_count": 44,
   "metadata": {
    "collapsed": false
   },
   "outputs": [
    {
     "name": "stdout",
     "output_type": "stream",
     "text": [
      "  0.042622 seconds (5.64 k allocations: 404.297 KB)\n"
     ]
    }
   ],
   "source": [
    "time_nl = @elapsed DC_no_loss();\n",
    "@time DC_no_loss();"
   ]
  },
  {
   "cell_type": "markdown",
   "metadata": {},
   "source": [
    "### Additional lines built"
   ]
  },
  {
   "cell_type": "code",
   "execution_count": 45,
   "metadata": {
    "collapsed": false
   },
   "outputs": [
    {
     "data": {
      "text/html": [
       "<table class=\"data-frame\"><thead><tr><th></th><th>Line_ID</th><th>Corridor</th><th>Capacity_MW</th><th>Investment_Cost</th></tr></thead><tbody><tr><th>1</th><td>14</td><td>4-6</td><td>100</td><td>30.0</td></tr><tr><th>2</th><td>29</td><td>4-6</td><td>100</td><td>30.0</td></tr><tr><th>3</th><td>41</td><td>3-5</td><td>100</td><td>20.0</td></tr><tr><th>4</th><td>44</td><td>4-6</td><td>100</td><td>30.0</td></tr></tbody></table>"
      ],
      "text/plain": [
       "4×4 DataFrames.DataFrame\n",
       "│ Row │ Line_ID │ Corridor │ Capacity_MW │ Investment_Cost │\n",
       "├─────┼─────────┼──────────┼─────────────┼─────────────────┤\n",
       "│ 1   │ 14      │ \"4-6\"    │ 100         │ 30.0            │\n",
       "│ 2   │ 29      │ \"4-6\"    │ 100         │ 30.0            │\n",
       "│ 3   │ 41      │ \"3-5\"    │ 100         │ 20.0            │\n",
       "│ 4   │ 44      │ \"4-6\"    │ 100         │ 30.0            │"
      ]
     },
     "execution_count": 45,
     "metadata": {},
     "output_type": "execute_result"
    }
   ],
   "source": [
    "Ex_lines = DataFrame(Line_ID = Line_ID_jump[nl_new_lines], Corridor = Corridor_jump[nl_new_lines], \n",
    "    Capacity_MW = Capacity_MW_jump[nl_new_lines], Investment_Cost = lcost_jump[nl_new_lines])"
   ]
  },
  {
   "cell_type": "markdown",
   "metadata": {},
   "source": [
    "### Line Flows"
   ]
  },
  {
   "cell_type": "code",
   "execution_count": 46,
   "metadata": {
    "collapsed": false
   },
   "outputs": [
    {
     "data": {
      "text/html": [
       "<table class=\"data-frame\"><thead><tr><th></th><th>Line_ID</th><th>Coridor</th><th>Line_flow_MW</th></tr></thead><tbody><tr><th>1</th><td>1</td><td>1-2</td><td>40.0</td></tr><tr><th>2</th><td>3</td><td>1-4</td><td>-10.0</td></tr><tr><th>3</th><td>4</td><td>1-5</td><td>40.0</td></tr><tr><th>4</th><td>6</td><td>2-3</td><td>-100.0</td></tr><tr><th>5</th><td>7</td><td>2-4</td><td>-100.0</td></tr><tr><th>6</th><td>11</td><td>3-5</td><td>100.0</td></tr><tr><th>7</th><td>14</td><td>4-6</td><td>-70.0</td></tr><tr><th>8</th><td>29</td><td>4-6</td><td>-100.0</td></tr><tr><th>9</th><td>41</td><td>3-5</td><td>100.0</td></tr><tr><th>10</th><td>44</td><td>4-6</td><td>-100.0</td></tr></tbody></table>"
      ],
      "text/plain": [
       "10×3 DataFrames.DataFrame\n",
       "│ Row │ Line_ID │ Coridor │ Line_flow_MW │\n",
       "├─────┼─────────┼─────────┼──────────────┤\n",
       "│ 1   │ 1       │ \"1-2\"   │ 40.0         │\n",
       "│ 2   │ 3       │ \"1-4\"   │ -10.0        │\n",
       "│ 3   │ 4       │ \"1-5\"   │ 40.0         │\n",
       "│ 4   │ 6       │ \"2-3\"   │ -100.0       │\n",
       "│ 5   │ 7       │ \"2-4\"   │ -100.0       │\n",
       "│ 6   │ 11      │ \"3-5\"   │ 100.0        │\n",
       "│ 7   │ 14      │ \"4-6\"   │ -70.0        │\n",
       "│ 8   │ 29      │ \"4-6\"   │ -100.0       │\n",
       "│ 9   │ 41      │ \"3-5\"   │ 100.0        │\n",
       "│ 10  │ 44      │ \"4-6\"   │ -100.0       │"
      ]
     },
     "execution_count": 46,
     "metadata": {},
     "output_type": "execute_result"
    }
   ],
   "source": [
    "DataFrame(Line_ID = Line_ID_jump[nl_lines], Coridor = Corridor_jump[nl_lines], Line_flow_MW = pst_jump_nl[nl_lines])"
   ]
  },
  {
   "cell_type": "markdown",
   "metadata": {},
   "source": [
    "### Power summary for each bus"
   ]
  },
  {
   "cell_type": "code",
   "execution_count": 47,
   "metadata": {
    "collapsed": false
   },
   "outputs": [
    {
     "data": {
      "text/html": [
       "<table class=\"data-frame\"><thead><tr><th></th><th>Bus_ID</th><th>PG_MW</th><th>LMP_G</th><th>PD_MW</th></tr></thead><tbody><tr><th>1</th><td>1</td><td>150.0</td><td>10.0</td><td>80</td></tr><tr><th>2</th><td>2</td><td>0.0</td><td>0.0</td><td>240</td></tr><tr><th>3</th><td>3</td><td>340.0</td><td>20.0</td><td>40</td></tr><tr><th>4</th><td>4</td><td>0.0</td><td>0.0</td><td>160</td></tr><tr><th>5</th><td>5</td><td>0.0</td><td>0.0</td><td>240</td></tr><tr><th>6</th><td>6</td><td>270.0</td><td>30.0</td><td>0</td></tr></tbody></table>"
      ],
      "text/plain": [
       "6×4 DataFrames.DataFrame\n",
       "│ Row │ Bus_ID │ PG_MW │ LMP_G │ PD_MW │\n",
       "├─────┼────────┼───────┼───────┼───────┤\n",
       "│ 1   │ 1      │ 150.0 │ 10.0  │ 80    │\n",
       "│ 2   │ 2      │ 0.0   │ 0.0   │ 240   │\n",
       "│ 3   │ 3      │ 340.0 │ 20.0  │ 40    │\n",
       "│ 4   │ 4      │ 0.0   │ 0.0   │ 160   │\n",
       "│ 5   │ 5      │ 0.0   │ 0.0   │ 240   │\n",
       "│ 6   │ 6      │ 270.0 │ 30.0  │ 0     │"
      ]
     },
     "execution_count": 47,
     "metadata": {},
     "output_type": "execute_result"
    }
   ],
   "source": [
    "DataFrame(Bus_ID = Bus_ID, PG_MW = pg_jump_nl, LMP_G = LMP_G, PD_MW = PD)"
   ]
  },
  {
   "cell_type": "markdown",
   "metadata": {},
   "source": [
    "### Investment Costs"
   ]
  },
  {
   "cell_type": "code",
   "execution_count": 48,
   "metadata": {
    "collapsed": false
   },
   "outputs": [
    {
     "name": "stdout",
     "output_type": "stream",
     "text": [
      "The total investment cost of new lines is 110.0 M dollars\n"
     ]
    }
   ],
   "source": [
    "inv_nl = line_costs_jump_nl - sum(lcost_jump[Ex_ID])\n",
    "gen_nl = obj_nl-inv_nl\n",
    "println(\"The total investment cost of new lines is $inv_nl M dollars\")"
   ]
  },
  {
   "cell_type": "markdown",
   "metadata": {},
   "source": [
    "### Algorithm (Linearized LP Model with Losses)\n",
    "\n",
    "#### Objective: minimize { σ ∑λⱼᴳPⱼᴳ + Kₛₜₖwₛₜₖ } \n",
    "\n",
    "σ - weighting factor to make investment and operational costs comparable\n",
    "\n",
    "λⱼᴳ - locational marginal prices\n",
    "\n",
    "Kₛₜₖ - Investment cost of constructing line in corridor (s,t)\n",
    "\n",
    "wₛₜₖ - Binary variable that equals 1 if line k from (s,t) corridor is built and equals 0 otherwise\n",
    "\n",
    "#### Constraints:\n",
    "\n",
    "- ∑ Pⱼᴳ - ∑ [ fₛₜₖ + 1/2 qₛₜₖ ] = Pₛᴰ : for every bus s\n",
    "\n",
    "\n",
    "- -wₛₜₖPₛₜₖᵐᵃˣ <= fₛₜₖ <= wₛₜₖPₛₜₖᵐᵃˣ : for every line\n",
    "\n",
    "\n",
    "- -(1 - wₛₜₖ ) Mₛₜ <= fₛₜₖ/bₛₜₖ + (δₛₜ⁺ - δₛₜ⁻) <= ( 1 - wₛₜₖ ) Mₛₜ : for every line\n",
    "\n",
    "\n",
    "- 0 <= qₛₜₖ <= wₛₜₖPₛₜₖᵐᵃˣ : for every line\n",
    "\n",
    "\n",
    "- 0 <= -qₛₜₖ/gₛₜₖ + ∑ αₛₜ(x) δₛₜ(x) <= (1 - wₛₜₖ ) Mₛₜ² : for every line\n",
    "\n",
    "\n",
    "- δₛₜ⁺ + δₛₜ⁻ = ∑ δₛₜ(x) : for every line\n",
    "\n",
    "\n",
    "- δₛ - δₜ = δₛₜ⁺ + δₛₜ⁻ : for every line\n",
    "\n",
    "\n",
    "- fₛₜₖ + 1/2 qₛₜₖ <= Pₛₜₖᵐᵃˣ : for every line\n",
    "\n",
    "\n",
    "- -fₛₜₖ + 1/2 qₛₜₖ <= Pₛₜₖᵐᵃˣ : for every line\n",
    "\n",
    "\n",
    "- 0 <= Pⱼᴳ <= Pⱼᴳᵐᵃˣ : for every every unit j\n",
    "\n",
    "\n",
    "- wₛₜₖ = 1 : for every existing line that is not prospective\n",
    "    \n",
    "    \n",
    "- wₛₜₖ ϵ {0,1} : for every line\n",
    "\n",
    "\n",
    "- δₛ = 0 : reference bus\n",
    "\n",
    "\n",
    "- δₛₜ⁺ >= 0 ; δₛₜ⁻ >= 0 : for every line\n",
    "\n",
    "\n",
    "- δₛₜ(x) >= 0 : for every line and for every piecewise segment\n",
    "\n",
    "\n",
    "- δₛₜ(x) <= ∆δₛₜ + (1-wₛₜₖ) Mₛₜ : for every line and for every piecewise segment\n",
    "\n",
    "    \n",
    "bₛₜₖ - Susceptance of line k in corridor (s,t)\n",
    "\n",
    "gₛₜₖ - conductance of line k in corridor (s,t)\n",
    "\n",
    "qₛₜₖ - Power losses in line k of corridor (s,t) in scenario c\n",
    "\n",
    "fₛₜₖ - Lossless power flow in line k of corridor (s,t) in scenario c\n",
    "\n",
    "δₛ - Voltage angle at bus s in scenario c\n",
    "\n",
    "δₛₜ(x) - Variable used in the linearization of the power losses in corridor (s,t); it represents the the xth angle block relative to this corridor\n",
    "\n",
    "αₛₜ(x) - Slope of the the xth block of the voltage angle for the corridor (s,t)\n",
    "\n",
    "∆δₛₜ - Upper bound of the angle blocks of corridor (s,t)\n",
    "\n",
    "Mₛₜ - Large enough positive constant\n",
    "\n",
    "δₛₜ⁺ - Variable used in the linearization of the power losses in corridor (s,t)\n",
    "\n",
    "δₛₜ⁻ - Variable used in the linearization of the power losses in corridor (s,t)"
   ]
  },
  {
   "cell_type": "code",
   "execution_count": 49,
   "metadata": {
    "collapsed": true
   },
   "outputs": [],
   "source": [
    "# line data susceptance and conductance\n",
    "b = -Reactance./(Reactance.^2+Resistance.^2)\n",
    "g = Resistance./(Reactance.^2+Resistance.^2)\n",
    "\n",
    "# resized line data vectors (45-long vectors)\n",
    "b_jump = 100*[b;b;b]\n",
    "g_jump = 100*[g;g;g]\n",
    "\n",
    "# buses\n",
    "delta_lim = 20*π/180\n",
    "\n",
    "# other\n",
    "Mₛₜ = 10^3 # Positive constant needed for relaxation\n",
    "L = 4 # Number of blocks of the piecewise linearization of power losses\n",
    "\n",
    "αₛₜ = zeros(L); #Slope of the lth block of the voltage angle for the corridor (s,t)\n",
    "for i = 1:L\n",
    "    αₛₜ[i] = ((i*delta_lim)^2-(i*delta_lim-delta_lim)^2)/delta_lim\n",
    "end"
   ]
  },
  {
   "cell_type": "code",
   "execution_count": 50,
   "metadata": {
    "collapsed": false
   },
   "outputs": [
    {
     "data": {
      "text/plain": [
       "MILP (generic function with 1 method)"
      ]
     },
     "execution_count": 50,
     "metadata": {},
     "output_type": "execute_result"
    }
   ],
   "source": [
    "# activate mixed integer-linear solver\n",
    "function MILP()\n",
    "\n",
    "n = Model(solver = GLPKSolverMIP(msg_lev=GLPK.MSG_OFF))\n",
    "\n",
    "@variable(n, δₛ[1:6])\n",
    "@variable(n, δₛₜ⁺[1:45] >= 0) # support variable\n",
    "@variable(n, δₛₜ⁻[1:45] >= 0) # support variable\n",
    "@variable(n, δₗ[1:45,1:L] >= 0) # support variable\n",
    "@variable(n, w[1:45], Bin) # 45 variables because each line can be built up to 3 times\n",
    "@variable(n, fst[1:45])\n",
    "@variable(n, qst[1:45])\n",
    "@variable(n, pg[1:6])\n",
    "\n",
    "# Set a constraint for exisiting lines\n",
    "@constraint(n, exconstr[i=1:6], w[Ex_ID[i]] == 1)\n",
    "\n",
    "# Set constraint for reference bus\n",
    "@constraint(n, refbus, δₛ[1] == 1)\n",
    "\n",
    "# Calculate an expression for the power flows through each bus\n",
    "@expression(n, f[i=1:6],sum(fst[j]+qst[j] for j in bus_mat_c1[i])-sum(fst[j] for j in bus_mat_c2[i])) \n",
    "\n",
    "# Load constraints\n",
    "@constraint(n, load_balance_loss[i = 1:6] , pg[i] - f[i] == PD[i])\n",
    "\n",
    "# Line flow constraints\n",
    "@expression(n, min_flow_loss[i=1:45], -w[i]*Capacity_MW_jump[i])\n",
    "@expression(n, max_flow_loss[i=1:45], w[i]*Capacity_MW_jump[i]) \n",
    "                    \n",
    "@constraint(n, min_flow_cstr_loss[i=1:45], fst[i] >= min_flow_loss[i])\n",
    "@constraint(n, max_flow_cstr_loss[i=1:45], fst[i] <= max_flow_loss[i])\n",
    "\n",
    "# Elimination of non-linearity constraints\n",
    "@constraint(n, min_non_l[i=1:45], fst[i]/b_jump[i]+(δₛₜ⁺[i]-δₛₜ⁻[i]) >= -(1-w[i])*Mₛₜ)\n",
    "@constraint(n, max_non_l[i=1:45], fst[i]/b_jump[i]+(δₛₜ⁺[i]-δₛₜ⁻[i]) <= (1-w[i])*Mₛₜ)\n",
    "\n",
    "# Line loss constraints\n",
    "@constraint(n, min_loss[i=1:45], qst[i] >= 0)\n",
    "@constraint(n, max_loss[i=1:45], qst[i] <= w[i]*Capacity_MW_jump[i])\n",
    " \n",
    "# Linear loss constraints\n",
    "@expression(n, linear_loss[i=1:45], sum(αₛₜ[j]*δₗ[i,j] for j = 1:L))\n",
    "@constraint(n, min_loss_lin[i=1:45], -qst[i]/g_jump[i] + linear_loss[i] >=0)                    \n",
    "@constraint(n, max_loss_lin[i=1:45], -qst[i]/g_jump[i] + linear_loss[i] <= (1-w[i])*Mₛₜ^2)\n",
    "\n",
    "# Angle constraints\n",
    "@constraint(n, sum_angle[i=1:45], δₛₜ⁺[i]+δₛₜ⁻[i] == sum(δₗ[i,j] for j = 1:L))\n",
    "@constraint(n, diff_angle[i=1:45], δₛ[C1_jump[i]]-δₛ[C2_jump[i]] == δₛₜ⁺[i]-δₛₜ⁻[i])\n",
    "\n",
    "# Power balance constraints\n",
    "@constraint(n, pos_bal[i=1:45], fst[i] + 0.5*qst[i] <= w[i]*Capacity_MW_jump[i])\n",
    "@constraint(n, neg_bal[i=1:45],-fst[i] + 0.5*qst[i] <= w[i]*Capacity_MW_jump[i])\n",
    "                                \n",
    "# Generator flow constraints\n",
    "@constraint(n, gen[i=1:6], 0 <= pg[i] <= PG_max[i])\n",
    "                                \n",
    "# angle linearization constraint\n",
    "@constraint(n, angle_lin[i=1:45,j=1:L], δₗ[i,j] <= delta_lim + (1-w[i])*Mₛₜ)\n",
    "                                \n",
    "# Define the minimization objective\n",
    "@expression(n, gen_costs_loss, sum(pg[i]*LMP_G[i] for i = 1:6))\n",
    "@expression(n, line_costs_loss, sum(w[i]*lcost_jump[i] for i = 1:45))\n",
    "            \n",
    "@objective(n, Min, line_costs_loss + gen_costs_loss*(fy*8760/10^6))\n",
    "                                    \n",
    "solve(n)\n",
    "\n",
    "W_jump_lp = getvalue(w)\n",
    "pg_jump_lp = getvalue(pg)\n",
    "qst_jump_lp = getvalue(qst)\n",
    "fst_jump_lp = getvalue(fst)\n",
    "line_costs_jump_lp = getvalue(line_costs_loss)\n",
    "                                                        \n",
    "obj_lp = getobjectivevalue(n)                                                                          \n",
    " \n",
    "return W_jump_lp, pg_jump_lp, qst_jump_lp, qst_jump_lp, fst_jump_lp, line_costs_jump_lp, obj_lp\n",
    "                                                                        \n",
    "end                                                                \n",
    "                                                              "
   ]
  },
  {
   "cell_type": "code",
   "execution_count": 51,
   "metadata": {
    "collapsed": true
   },
   "outputs": [],
   "source": [
    "(W_jump_lp, pg_jump_lp, qst_jump_lp, qst_jump_lp, fst_jump_lp, line_costs_jump_lp, obj_lp) = MILP();"
   ]
  },
  {
   "cell_type": "markdown",
   "metadata": {},
   "source": [
    "## Results"
   ]
  },
  {
   "cell_type": "code",
   "execution_count": 52,
   "metadata": {
    "collapsed": false
   },
   "outputs": [
    {
     "name": "stdout",
     "output_type": "stream",
     "text": [
      "the number of new lines required is 5\n"
     ]
    }
   ],
   "source": [
    "lp_lines = find(W_jump_lp[1:end])\n",
    "lp_new_lines = setdiff(lp_lines,Ex_ID)\n",
    "n_lines_DC_w_loss = size(lp_new_lines)[1]\n",
    "println(\"the number of new lines required is $n_lines_DC_w_loss\")"
   ]
  },
  {
   "cell_type": "code",
   "execution_count": 53,
   "metadata": {
    "collapsed": false
   },
   "outputs": [
    {
     "name": "stdout",
     "output_type": "stream",
     "text": [
      "  0.648968 seconds (18.89 k allocations: 1.390 MB)\n"
     ]
    }
   ],
   "source": [
    "time_lp = @elapsed MILP();\n",
    "@time MILP();"
   ]
  },
  {
   "cell_type": "markdown",
   "metadata": {},
   "source": [
    "### Additional lines built"
   ]
  },
  {
   "cell_type": "code",
   "execution_count": 54,
   "metadata": {
    "collapsed": false
   },
   "outputs": [
    {
     "data": {
      "text/html": [
       "<table class=\"data-frame\"><thead><tr><th></th><th>Line_ID</th><th>Corridor</th><th>Capacity_MW</th><th>Investment_Cost</th></tr></thead><tbody><tr><th>1</th><td>9</td><td>2-6</td><td>100</td><td>30.0</td></tr><tr><th>2</th><td>24</td><td>2-6</td><td>100</td><td>30.0</td></tr><tr><th>3</th><td>29</td><td>4-6</td><td>100</td><td>30.0</td></tr><tr><th>4</th><td>41</td><td>3-5</td><td>100</td><td>20.0</td></tr><tr><th>5</th><td>44</td><td>4-6</td><td>100</td><td>30.0</td></tr></tbody></table>"
      ],
      "text/plain": [
       "5×4 DataFrames.DataFrame\n",
       "│ Row │ Line_ID │ Corridor │ Capacity_MW │ Investment_Cost │\n",
       "├─────┼─────────┼──────────┼─────────────┼─────────────────┤\n",
       "│ 1   │ 9       │ \"2-6\"    │ 100         │ 30.0            │\n",
       "│ 2   │ 24      │ \"2-6\"    │ 100         │ 30.0            │\n",
       "│ 3   │ 29      │ \"4-6\"    │ 100         │ 30.0            │\n",
       "│ 4   │ 41      │ \"3-5\"    │ 100         │ 20.0            │\n",
       "│ 5   │ 44      │ \"4-6\"    │ 100         │ 30.0            │"
      ]
     },
     "execution_count": 54,
     "metadata": {},
     "output_type": "execute_result"
    }
   ],
   "source": [
    "Ex_lines = DataFrame(Line_ID = Line_ID_jump[lp_new_lines], Corridor = Corridor_jump[lp_new_lines], \n",
    "    Capacity_MW = Capacity_MW_jump[lp_new_lines], Investment_Cost = lcost_jump[lp_new_lines])"
   ]
  },
  {
   "cell_type": "markdown",
   "metadata": {},
   "source": [
    "### Line Flows"
   ]
  },
  {
   "cell_type": "code",
   "execution_count": 55,
   "metadata": {
    "collapsed": false
   },
   "outputs": [
    {
     "data": {
      "text/html": [
       "<table class=\"data-frame\"><thead><tr><th></th><th>Line_ID</th><th>Coridor</th><th>Line_flow_MW</th><th>Losses_MW</th></tr></thead><tbody><tr><th>1</th><td>1</td><td>1-2</td><td>10.703</td><td>0.934</td></tr><tr><th>2</th><td>3</td><td>1-4</td><td>5.317</td><td>0.464</td></tr><tr><th>3</th><td>4</td><td>1-5</td><td>48.362</td><td>4.22</td></tr><tr><th>4</th><td>6</td><td>2-3</td><td>-68.863</td><td>6.009</td></tr><tr><th>5</th><td>7</td><td>2-4</td><td>-2.728</td><td>0.238</td></tr><tr><th>6</th><td>9</td><td>2-6</td><td>-90.391</td><td>8.414</td></tr><tr><th>7</th><td>11</td><td>3-5</td><td>95.819</td><td>8.362</td></tr><tr><th>8</th><td>24</td><td>2-6</td><td>-90.391</td><td>8.414</td></tr><tr><th>9</th><td>29</td><td>4-6</td><td>-86.783</td><td>8.078</td></tr><tr><th>10</th><td>41</td><td>3-5</td><td>95.819</td><td>8.362</td></tr><tr><th>11</th><td>44</td><td>4-6</td><td>-86.783</td><td>8.078</td></tr></tbody></table>"
      ],
      "text/plain": [
       "11×4 DataFrames.DataFrame\n",
       "│ Row │ Line_ID │ Coridor │ Line_flow_MW │ Losses_MW │\n",
       "├─────┼─────────┼─────────┼──────────────┼───────────┤\n",
       "│ 1   │ 1       │ \"1-2\"   │ 10.703       │ 0.934     │\n",
       "│ 2   │ 3       │ \"1-4\"   │ 5.317        │ 0.464     │\n",
       "│ 3   │ 4       │ \"1-5\"   │ 48.362       │ 4.22      │\n",
       "│ 4   │ 6       │ \"2-3\"   │ -68.863      │ 6.009     │\n",
       "│ 5   │ 7       │ \"2-4\"   │ -2.728       │ 0.238     │\n",
       "│ 6   │ 9       │ \"2-6\"   │ -90.391      │ 8.414     │\n",
       "│ 7   │ 11      │ \"3-5\"   │ 95.819       │ 8.362     │\n",
       "│ 8   │ 24      │ \"2-6\"   │ -90.391      │ 8.414     │\n",
       "│ 9   │ 29      │ \"4-6\"   │ -86.783      │ 8.078     │\n",
       "│ 10  │ 41      │ \"3-5\"   │ 95.819       │ 8.362     │\n",
       "│ 11  │ 44      │ \"4-6\"   │ -86.783      │ 8.078     │"
      ]
     },
     "execution_count": 55,
     "metadata": {},
     "output_type": "execute_result"
    }
   ],
   "source": [
    "DataFrame(Line_ID = Line_ID_jump[lp_lines], Coridor = Corridor_jump[lp_lines], \n",
    "    Line_flow_MW = round(fst_jump_lp[lp_lines],3), Losses_MW = round(qst_jump_lp[lp_lines],3))"
   ]
  },
  {
   "cell_type": "markdown",
   "metadata": {},
   "source": [
    "### Power summary for each bus"
   ]
  },
  {
   "cell_type": "code",
   "execution_count": 56,
   "metadata": {
    "collapsed": false
   },
   "outputs": [
    {
     "data": {
      "text/html": [
       "<table class=\"data-frame\"><thead><tr><th></th><th>Bus_ID</th><th>PG_MW</th><th>LMP_G</th><th>PD_MW</th></tr></thead><tbody><tr><th>1</th><td>1</td><td>150.0</td><td>10.0</td><td>80</td></tr><tr><th>2</th><td>2</td><td>-0.0</td><td>0.0</td><td>240</td></tr><tr><th>3</th><td>3</td><td>317.2</td><td>20.0</td><td>40</td></tr><tr><th>4</th><td>4</td><td>-0.0</td><td>0.0</td><td>160</td></tr><tr><th>5</th><td>5</td><td>-0.0</td><td>0.0</td><td>240</td></tr><tr><th>6</th><td>6</td><td>354.3</td><td>30.0</td><td>0</td></tr></tbody></table>"
      ],
      "text/plain": [
       "6×4 DataFrames.DataFrame\n",
       "│ Row │ Bus_ID │ PG_MW │ LMP_G │ PD_MW │\n",
       "├─────┼────────┼───────┼───────┼───────┤\n",
       "│ 1   │ 1      │ 150.0 │ 10.0  │ 80    │\n",
       "│ 2   │ 2      │ -0.0  │ 0.0   │ 240   │\n",
       "│ 3   │ 3      │ 317.2 │ 20.0  │ 40    │\n",
       "│ 4   │ 4      │ -0.0  │ 0.0   │ 160   │\n",
       "│ 5   │ 5      │ -0.0  │ 0.0   │ 240   │\n",
       "│ 6   │ 6      │ 354.3 │ 30.0  │ 0     │"
      ]
     },
     "execution_count": 56,
     "metadata": {},
     "output_type": "execute_result"
    }
   ],
   "source": [
    "DataFrame(Bus_ID = Bus_ID, PG_MW = round(pg_jump_lp,1), LMP_G = LMP_G, PD_MW = PD)"
   ]
  },
  {
   "cell_type": "markdown",
   "metadata": {},
   "source": [
    "### Investment Costs"
   ]
  },
  {
   "cell_type": "code",
   "execution_count": 57,
   "metadata": {
    "collapsed": false
   },
   "outputs": [
    {
     "name": "stdout",
     "output_type": "stream",
     "text": [
      "The total investment cost of new lines is 140.0 M dollars\n"
     ]
    }
   ],
   "source": [
    "inv_lp = line_costs_jump_lp - sum(lcost_jump[Ex_ID])\n",
    "gen_lp = obj_lp-inv_lp\n",
    "println(\"The total investment cost of new lines is $inv_lp M dollars\")"
   ]
  },
  {
   "cell_type": "markdown",
   "metadata": {},
   "source": [
    "## Summary of the Results (both models)"
   ]
  },
  {
   "cell_type": "code",
   "execution_count": 58,
   "metadata": {
    "collapsed": false
   },
   "outputs": [
    {
     "data": {
      "text/html": [
       "<table class=\"data-frame\"><thead><tr><th></th><th>Model</th><th>Lines_built</th><th>Investment_Musd</th><th>Gen_costs_Musd</th><th>Total_costs_Musd</th><th>Losses_MW</th><th>Time_seconds</th></tr></thead><tbody><tr><th>1</th><td>DC w/o Loss</td><td>String[\"4-6\",\"4-6\",\"3-5\",\"4-6\"]</td><td>140.0</td><td>219.01</td><td>326.87</td><td>0.0</td><td>0.040056447</td></tr><tr><th>2</th><td>MILP w/ Loss</td><td>String[\"2-6\",\"2-6\",\"4-6\",\"3-5\",\"4-6\"]</td><td>110.0</td><td>216.87</td><td>359.01</td><td>61.57</td><td>0.650095484</td></tr></tbody></table>"
      ],
      "text/plain": [
       "2×7 DataFrames.DataFrame\n",
       "│ Row │ Model          │ Lines_built                           │\n",
       "├─────┼────────────────┼───────────────────────────────────────┤\n",
       "│ 1   │ \"DC w/o Loss\"  │ String[\"4-6\",\"4-6\",\"3-5\",\"4-6\"]       │\n",
       "│ 2   │ \"MILP w/ Loss\" │ String[\"2-6\",\"2-6\",\"4-6\",\"3-5\",\"4-6\"] │\n",
       "\n",
       "│ Row │ Investment_Musd │ Gen_costs_Musd │ Total_costs_Musd │ Losses_MW │\n",
       "├─────┼─────────────────┼────────────────┼──────────────────┼───────────┤\n",
       "│ 1   │ 140.0           │ 219.01         │ 326.87           │ 0.0       │\n",
       "│ 2   │ 110.0           │ 216.87         │ 359.01           │ 61.57     │\n",
       "\n",
       "│ Row │ Time_seconds │\n",
       "├─────┼──────────────┤\n",
       "│ 1   │ 0.0400564    │\n",
       "│ 2   │ 0.650095     │"
      ]
     },
     "execution_count": 58,
     "metadata": {},
     "output_type": "execute_result"
    }
   ],
   "source": [
    "Results = DataFrame(Model = [\"DC w/o Loss\",\"MILP w/ Loss\"],Lines_built = [Corridor_jump[nl_new_lines],\n",
    "        Corridor_jump[lp_new_lines]],Investment_Musd = [inv_lp,inv_nl],Gen_costs_Musd = round([gen_lp,gen_nl],2),\n",
    "            Total_costs_Musd = round([obj_nl, obj_lp],2), Losses_MW = round([0, sum(qst_jump_lp)],2),\n",
    "                Time_seconds = [time_nl,time_lp])"
   ]
  },
  {
   "cell_type": "code",
   "execution_count": 59,
   "metadata": {
    "collapsed": false
   },
   "outputs": [
    {
     "data": {
      "image/png": "[encoded data removed]",
      "text/plain": [
       "412×634 Array{RGBA{N0f8},2}:\n",
       " RGBA{N0f8}(1.0,1.0,1.0,1.0)  …  RGBA{N0f8}(1.0,1.0,1.0,1.0)\n",
       " RGBA{N0f8}(1.0,1.0,1.0,1.0)     RGBA{N0f8}(1.0,1.0,1.0,1.0)\n",
       " RGBA{N0f8}(1.0,1.0,1.0,1.0)     RGBA{N0f8}(1.0,1.0,1.0,1.0)\n",
       " RGBA{N0f8}(1.0,1.0,1.0,1.0)     RGBA{N0f8}(1.0,1.0,1.0,1.0)\n",
       " RGBA{N0f8}(1.0,1.0,1.0,1.0)     RGBA{N0f8}(1.0,1.0,1.0,1.0)\n",
       " RGBA{N0f8}(1.0,1.0,1.0,1.0)  …  RGBA{N0f8}(1.0,1.0,1.0,1.0)\n",
       " RGBA{N0f8}(1.0,1.0,1.0,1.0)     RGBA{N0f8}(1.0,1.0,1.0,1.0)\n",
       " RGBA{N0f8}(1.0,1.0,1.0,1.0)     RGBA{N0f8}(1.0,1.0,1.0,1.0)\n",
       " RGBA{N0f8}(1.0,1.0,1.0,1.0)     RGBA{N0f8}(1.0,1.0,1.0,1.0)\n",
       " RGBA{N0f8}(1.0,1.0,1.0,1.0)     RGBA{N0f8}(1.0,1.0,1.0,1.0)\n",
       " RGBA{N0f8}(1.0,1.0,1.0,1.0)  …  RGBA{N0f8}(1.0,1.0,1.0,1.0)\n",
       " RGBA{N0f8}(1.0,1.0,1.0,1.0)     RGBA{N0f8}(1.0,1.0,1.0,1.0)\n",
       " RGBA{N0f8}(1.0,1.0,1.0,1.0)     RGBA{N0f8}(1.0,1.0,1.0,1.0)\n",
       " ⋮                            ⋱                             \n",
       " RGBA{N0f8}(1.0,1.0,1.0,1.0)  …  RGBA{N0f8}(1.0,1.0,1.0,1.0)\n",
       " RGBA{N0f8}(1.0,1.0,1.0,1.0)     RGBA{N0f8}(1.0,1.0,1.0,1.0)\n",
       " RGBA{N0f8}(1.0,1.0,1.0,1.0)     RGBA{N0f8}(1.0,1.0,1.0,1.0)\n",
       " RGBA{N0f8}(1.0,1.0,1.0,1.0)     RGBA{N0f8}(1.0,1.0,1.0,1.0)\n",
       " RGBA{N0f8}(1.0,1.0,1.0,1.0)     RGBA{N0f8}(1.0,1.0,1.0,1.0)\n",
       " RGBA{N0f8}(1.0,1.0,1.0,1.0)  …  RGBA{N0f8}(1.0,1.0,1.0,1.0)\n",
       " RGBA{N0f8}(1.0,1.0,1.0,1.0)     RGBA{N0f8}(1.0,1.0,1.0,1.0)\n",
       " RGBA{N0f8}(1.0,1.0,1.0,1.0)     RGBA{N0f8}(1.0,1.0,1.0,1.0)\n",
       " RGBA{N0f8}(1.0,1.0,1.0,1.0)     RGBA{N0f8}(1.0,1.0,1.0,1.0)\n",
       " RGBA{N0f8}(1.0,1.0,1.0,1.0)     RGBA{N0f8}(1.0,1.0,1.0,1.0)\n",
       " RGBA{N0f8}(1.0,1.0,1.0,1.0)  …  RGBA{N0f8}(1.0,1.0,1.0,1.0)\n",
       " RGBA{N0f8}(1.0,1.0,1.0,1.0)     RGBA{N0f8}(1.0,1.0,1.0,1.0)"
      ]
     },
     "execution_count": 59,
     "metadata": {},
     "output_type": "execute_result"
    }
   ],
   "source": [
    "# Results from the paper\n",
    "load(\"Results_paper.png\")"
   ]
  },
  {
   "cell_type": "markdown",
   "metadata": {},
   "source": [
    "## Findings"
   ]
  },
  {
   "cell_type": "markdown",
   "metadata": {},
   "source": [
    "- We can see that I come up with the same as the author.\n",
    "\n",
    "\n",
    "- We can also conclude, that without considering losses, we underestimate line investment and the problem becomes infeasible.\n",
    "\n",
    "\n",
    "- We can also see that considering losses becomes computationally intensive, it takes 25 times more time to solve the model with losses. For larger systems, this may create concerns as computing time rises exponentially.\n",
    "\n",
    "\n",
    "- One final thing to note is that the solution is very sensitive to:\n",
    "\n",
    "    - large constant used for the relaxation\n",
    "    - degree of the polynomial used to interpolate the losses"
   ]
  },
  {
   "cell_type": "code",
   "execution_count": null,
   "metadata": {
    "collapsed": true
   },
   "outputs": [],
   "source": []
  }
 ],
 "metadata": {
  "kernelspec": {
   "display_name": "Julia 0.5.1",
   "language": "julia",
   "name": "julia-0.5"
  },
  "language_info": {
   "file_extension": ".jl",
   "mimetype": "application/julia",
   "name": "julia",
   "version": "0.5.1"
  }
 },
 "nbformat": 4,
 "nbformat_minor": 2
}
